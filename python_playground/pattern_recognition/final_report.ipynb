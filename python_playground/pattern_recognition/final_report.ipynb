{
 "cells": [
  {
   "cell_type": "markdown",
   "metadata": {},
   "source": [
    "# 2019年度　パターン認識最終課題\n",
    "\n",
    "パターン認識最終課題では、銀行の顧客に関するデータセットを使って、顧客の婚姻状況を予測するモデルを構築してもらいます。"
   ]
  },
  {
   "cell_type": "markdown",
   "metadata": {},
   "source": [
    "学籍番号と氏名を記入してください。\n",
    "記入例：1811000 先端　太郎"
   ]
  },
  {
   "cell_type": "markdown",
   "metadata": {},
   "source": [
    "1911328 TAO XIANGKUN"
   ]
  },
  {
   "cell_type": "markdown",
   "metadata": {},
   "source": [
    "## 課題１: 色々なモデルを試してみよう！\n",
    "まずは、講義で扱った様々な識別器を試してみましょう。\n",
    "以下に示すロジスティック回帰の例を参考に、指示に従いSVM、K-近傍法、決定木、ランダムフォレストの実装を行ってもらいます。"
   ]
  },
  {
   "cell_type": "code",
   "execution_count": 1,
   "metadata": {
    "pycharm": {
     "is_executing": false
    },
    "scrolled": true
   },
   "outputs": [],
   "source": [
    "from IPython.display import display\n",
    "import pandas as pd\n",
    "from pandas import DataFrame, Series\n",
    "import pickle\n",
    "from sklearn.preprocessing import LabelEncoder\n",
    "from sklearn.preprocessing import MinMaxScaler\n",
    "from sklearn.model_selection import train_test_split\n",
    "from sklearn.linear_model import LogisticRegression\n",
    "from sklearn.svm import SVC\n",
    "from sklearn.neighbors import KNeighborsClassifier\n",
    "from sklearn.tree import DecisionTreeClassifier\n",
    "from sklearn.ensemble import RandomForestClassifier\n",
    "from sklearn.metrics import accuracy_score,precision_recall_fscore_support\n",
    "import warnings\n",
    "warnings.filterwarnings('ignore')"
   ]
  },
  {
   "cell_type": "code",
   "execution_count": 2,
   "metadata": {
    "pycharm": {
     "is_executing": false
    }
   },
   "outputs": [],
   "source": [
    "%matplotlib inline  \n",
    "import matplotlib.pyplot as plt\n",
    "import numpy as np\n",
    "RAND_SEED = 42"
   ]
  },
  {
   "cell_type": "markdown",
   "metadata": {},
   "source": [
    "### Step1 データの読み込み\n",
    "まずは、データを読み込みます。"
   ]
  },
  {
   "cell_type": "code",
   "execution_count": 3,
   "metadata": {
    "pycharm": {
     "is_executing": false
    }
   },
   "outputs": [],
   "source": [
    "df_train_data = pd.read_csv('train.csv')"
   ]
  },
  {
   "cell_type": "markdown",
   "metadata": {},
   "source": [
    "今回は、この中で、marital（婚姻状況）を予測するモデルの構築を行ってもらいます。"
   ]
  },
  {
   "cell_type": "markdown",
   "metadata": {},
   "source": [
    "### Step 2　使用する列の抽出\n",
    "次に、使用する列だけを取り出します。　今回はmaritalと、予測に使えそうな age, housing を取り出します。"
   ]
  },
  {
   "cell_type": "code",
   "execution_count": 4,
   "metadata": {
    "pycharm": {
     "is_executing": false
    }
   },
   "outputs": [
    {
     "data": {
      "text/plain": "married     12141\nsingle       5605\ndivorced     2254\nName: marital, dtype: int64"
     },
     "metadata": {},
     "output_type": "execute_result",
     "execution_count": 4
    }
   ],
   "source": [
    "y_ = df_train_data.marital# ラベルデータ\n",
    "y_.value_counts()"
   ]
  },
  {
   "cell_type": "code",
   "execution_count": 5,
   "metadata": {
    "pycharm": {
     "is_executing": false
    }
   },
   "outputs": [
    {
     "data": {
      "text/plain": "    marital\n0   married\n1   married\n2  divorced\n3   married\n4   married\n5    single\n6   married\n7    single\n8  divorced\n9   married",
      "text/html": "<div>\n<style scoped>\n    .dataframe tbody tr th:only-of-type {\n        vertical-align: middle;\n    }\n\n    .dataframe tbody tr th {\n        vertical-align: top;\n    }\n\n    .dataframe thead th {\n        text-align: right;\n    }\n</style>\n<table border=\"1\" class=\"dataframe\">\n  <thead>\n    <tr style=\"text-align: right;\">\n      <th></th>\n      <th>marital</th>\n    </tr>\n  </thead>\n  <tbody>\n    <tr>\n      <th>0</th>\n      <td>married</td>\n    </tr>\n    <tr>\n      <th>1</th>\n      <td>married</td>\n    </tr>\n    <tr>\n      <th>2</th>\n      <td>divorced</td>\n    </tr>\n    <tr>\n      <th>3</th>\n      <td>married</td>\n    </tr>\n    <tr>\n      <th>4</th>\n      <td>married</td>\n    </tr>\n    <tr>\n      <th>5</th>\n      <td>single</td>\n    </tr>\n    <tr>\n      <th>6</th>\n      <td>married</td>\n    </tr>\n    <tr>\n      <th>7</th>\n      <td>single</td>\n    </tr>\n    <tr>\n      <th>8</th>\n      <td>divorced</td>\n    </tr>\n    <tr>\n      <th>9</th>\n      <td>married</td>\n    </tr>\n  </tbody>\n</table>\n</div>"
     },
     "metadata": {},
     "output_type": "execute_result",
     "execution_count": 5
    }
   ],
   "source": [
    "DataFrame(y_).head(10)"
   ]
  },
  {
   "cell_type": "markdown",
   "metadata": {},
   "source": [
    "ラベルデータの上位10件を表示しました。"
   ]
  },
  {
   "cell_type": "code",
   "execution_count": 6,
   "metadata": {
    "pycharm": {
     "is_executing": false
    }
   },
   "outputs": [],
   "source": [
    "X_ = df_train_data[['age', 'housing']]"
   ]
  },
  {
   "cell_type": "code",
   "execution_count": 7,
   "metadata": {
    "pycharm": {
     "is_executing": false
    },
    "scrolled": true
   },
   "outputs": [
    {
     "data": {
      "text/plain": "   age housing\n0   58     yes\n1   38     yes\n2   81     yes\n3   49     yes\n4   38      no\n5   47     yes\n6   33      no\n7   31     yes\n8   31      no\n9   51     yes",
      "text/html": "<div>\n<style scoped>\n    .dataframe tbody tr th:only-of-type {\n        vertical-align: middle;\n    }\n\n    .dataframe tbody tr th {\n        vertical-align: top;\n    }\n\n    .dataframe thead th {\n        text-align: right;\n    }\n</style>\n<table border=\"1\" class=\"dataframe\">\n  <thead>\n    <tr style=\"text-align: right;\">\n      <th></th>\n      <th>age</th>\n      <th>housing</th>\n    </tr>\n  </thead>\n  <tbody>\n    <tr>\n      <th>0</th>\n      <td>58</td>\n      <td>yes</td>\n    </tr>\n    <tr>\n      <th>1</th>\n      <td>38</td>\n      <td>yes</td>\n    </tr>\n    <tr>\n      <th>2</th>\n      <td>81</td>\n      <td>yes</td>\n    </tr>\n    <tr>\n      <th>3</th>\n      <td>49</td>\n      <td>yes</td>\n    </tr>\n    <tr>\n      <th>4</th>\n      <td>38</td>\n      <td>no</td>\n    </tr>\n    <tr>\n      <th>5</th>\n      <td>47</td>\n      <td>yes</td>\n    </tr>\n    <tr>\n      <th>6</th>\n      <td>33</td>\n      <td>no</td>\n    </tr>\n    <tr>\n      <th>7</th>\n      <td>31</td>\n      <td>yes</td>\n    </tr>\n    <tr>\n      <th>8</th>\n      <td>31</td>\n      <td>no</td>\n    </tr>\n    <tr>\n      <th>9</th>\n      <td>51</td>\n      <td>yes</td>\n    </tr>\n  </tbody>\n</table>\n</div>"
     },
     "metadata": {},
     "output_type": "execute_result",
     "execution_count": 7
    }
   ],
   "source": [
    "X_.head(10)"
   ]
  },
  {
   "cell_type": "markdown",
   "metadata": {},
   "source": [
    "特徴量データの上位10件を表示しました。"
   ]
  },
  {
   "cell_type": "markdown",
   "metadata": {},
   "source": [
    "### Step3　特徴量データの前処理\n",
    "識別器での学習を行う前に、特徴量を適切な形へ変換する必要があります。\n",
    "その過程を見ていきましょう。"
   ]
  },
  {
   "cell_type": "markdown",
   "metadata": {},
   "source": [
    "まず、欠損値を含むデータの扱いですが、本課題では、簡単のため単純に削除する手法を取ります。"
   ]
  },
  {
   "cell_type": "code",
   "execution_count": 8,
   "metadata": {
    "pycharm": {
     "is_executing": false
    }
   },
   "outputs": [],
   "source": [
    "df_temp = pd.concat([y_, X_], axis=1).dropna(how='any')# 欠損値を含むデータの削除\n",
    "df_temp.index = range(len(df_temp)) \n",
    "y = df_temp.marital\n",
    "X = df_temp[['age', 'housing']]"
   ]
  },
  {
   "cell_type": "markdown",
   "metadata": {},
   "source": [
    "次に、housing 列は文字列であるため、数値に変換してあげる必要があります。ここでは、yes = 2, unknown = 1, no = 0 として変換します。"
   ]
  },
  {
   "cell_type": "code",
   "execution_count": 9,
   "metadata": {
    "pycharm": {
     "is_executing": false
    }
   },
   "outputs": [
    {
     "data": {
      "text/plain": "       age housing\n19990   33     yes\n19991   41     yes\n19992   54      no\n19993   44     yes\n19994   59      no\n19995   24      no\n19996   42     yes\n19997   31      no\n19998   25     yes\n19999   33      no",
      "text/html": "<div>\n<style scoped>\n    .dataframe tbody tr th:only-of-type {\n        vertical-align: middle;\n    }\n\n    .dataframe tbody tr th {\n        vertical-align: top;\n    }\n\n    .dataframe thead th {\n        text-align: right;\n    }\n</style>\n<table border=\"1\" class=\"dataframe\">\n  <thead>\n    <tr style=\"text-align: right;\">\n      <th></th>\n      <th>age</th>\n      <th>housing</th>\n    </tr>\n  </thead>\n  <tbody>\n    <tr>\n      <th>19990</th>\n      <td>33</td>\n      <td>yes</td>\n    </tr>\n    <tr>\n      <th>19991</th>\n      <td>41</td>\n      <td>yes</td>\n    </tr>\n    <tr>\n      <th>19992</th>\n      <td>54</td>\n      <td>no</td>\n    </tr>\n    <tr>\n      <th>19993</th>\n      <td>44</td>\n      <td>yes</td>\n    </tr>\n    <tr>\n      <th>19994</th>\n      <td>59</td>\n      <td>no</td>\n    </tr>\n    <tr>\n      <th>19995</th>\n      <td>24</td>\n      <td>no</td>\n    </tr>\n    <tr>\n      <th>19996</th>\n      <td>42</td>\n      <td>yes</td>\n    </tr>\n    <tr>\n      <th>19997</th>\n      <td>31</td>\n      <td>no</td>\n    </tr>\n    <tr>\n      <th>19998</th>\n      <td>25</td>\n      <td>yes</td>\n    </tr>\n    <tr>\n      <th>19999</th>\n      <td>33</td>\n      <td>no</td>\n    </tr>\n  </tbody>\n</table>\n</div>"
     },
     "metadata": {},
     "output_type": "execute_result",
     "execution_count": 9
    }
   ],
   "source": [
    "X.tail(10)"
   ]
  },
  {
   "cell_type": "code",
   "execution_count": 10,
   "metadata": {
    "pycharm": {
     "is_executing": false
    }
   },
   "outputs": [],
   "source": [
    "housing_le = LabelEncoder()\n",
    "X.housing = housing_le.fit_transform(X.housing)"
   ]
  },
  {
   "cell_type": "code",
   "execution_count": 11,
   "metadata": {
    "pycharm": {
     "is_executing": false
    }
   },
   "outputs": [
    {
     "data": {
      "text/plain": "       age  housing\n19990   33        2\n19991   41        2\n19992   54        0\n19993   44        2\n19994   59        0\n19995   24        0\n19996   42        2\n19997   31        0\n19998   25        2\n19999   33        0",
      "text/html": "<div>\n<style scoped>\n    .dataframe tbody tr th:only-of-type {\n        vertical-align: middle;\n    }\n\n    .dataframe tbody tr th {\n        vertical-align: top;\n    }\n\n    .dataframe thead th {\n        text-align: right;\n    }\n</style>\n<table border=\"1\" class=\"dataframe\">\n  <thead>\n    <tr style=\"text-align: right;\">\n      <th></th>\n      <th>age</th>\n      <th>housing</th>\n    </tr>\n  </thead>\n  <tbody>\n    <tr>\n      <th>19990</th>\n      <td>33</td>\n      <td>2</td>\n    </tr>\n    <tr>\n      <th>19991</th>\n      <td>41</td>\n      <td>2</td>\n    </tr>\n    <tr>\n      <th>19992</th>\n      <td>54</td>\n      <td>0</td>\n    </tr>\n    <tr>\n      <th>19993</th>\n      <td>44</td>\n      <td>2</td>\n    </tr>\n    <tr>\n      <th>19994</th>\n      <td>59</td>\n      <td>0</td>\n    </tr>\n    <tr>\n      <th>19995</th>\n      <td>24</td>\n      <td>0</td>\n    </tr>\n    <tr>\n      <th>19996</th>\n      <td>42</td>\n      <td>2</td>\n    </tr>\n    <tr>\n      <th>19997</th>\n      <td>31</td>\n      <td>0</td>\n    </tr>\n    <tr>\n      <th>19998</th>\n      <td>25</td>\n      <td>2</td>\n    </tr>\n    <tr>\n      <th>19999</th>\n      <td>33</td>\n      <td>0</td>\n    </tr>\n  </tbody>\n</table>\n</div>"
     },
     "metadata": {},
     "output_type": "execute_result",
     "execution_count": 11
    }
   ],
   "source": [
    "X.tail(10)"
   ]
  },
  {
   "cell_type": "markdown",
   "metadata": {},
   "source": [
    "これで、数値データに置き換えられました。\n"
   ]
  },
  {
   "cell_type": "markdown",
   "metadata": {},
   "source": [
    "最後に、それぞれの特徴量の数値の変動量に差による影響力の差を排除するため、正規化を行います。"
   ]
  },
  {
   "cell_type": "code",
   "execution_count": 12,
   "metadata": {
    "pycharm": {
     "is_executing": false
    }
   },
   "outputs": [],
   "source": [
    "mm_scaler = MinMaxScaler()"
   ]
  },
  {
   "cell_type": "code",
   "execution_count": 13,
   "metadata": {
    "pycharm": {
     "is_executing": false
    }
   },
   "outputs": [],
   "source": [
    "X.age = DataFrame(mm_scaler.fit_transform(DataFrame(X.age.copy())))\n",
    "X.housing = DataFrame(mm_scaler.fit_transform(DataFrame(X.housing.copy())))"
   ]
  },
  {
   "cell_type": "code",
   "execution_count": 14,
   "metadata": {
    "pycharm": {
     "is_executing": false
    }
   },
   "outputs": [
    {
     "data": {
      "text/plain": "            age  housing\n19990  0.197531      1.0\n19991  0.296296      1.0\n19992  0.456790      0.0\n19993  0.333333      1.0\n19994  0.518519      0.0\n19995  0.086420      0.0\n19996  0.308642      1.0\n19997  0.172840      0.0\n19998  0.098765      1.0\n19999  0.197531      0.0",
      "text/html": "<div>\n<style scoped>\n    .dataframe tbody tr th:only-of-type {\n        vertical-align: middle;\n    }\n\n    .dataframe tbody tr th {\n        vertical-align: top;\n    }\n\n    .dataframe thead th {\n        text-align: right;\n    }\n</style>\n<table border=\"1\" class=\"dataframe\">\n  <thead>\n    <tr style=\"text-align: right;\">\n      <th></th>\n      <th>age</th>\n      <th>housing</th>\n    </tr>\n  </thead>\n  <tbody>\n    <tr>\n      <th>19990</th>\n      <td>0.197531</td>\n      <td>1.0</td>\n    </tr>\n    <tr>\n      <th>19991</th>\n      <td>0.296296</td>\n      <td>1.0</td>\n    </tr>\n    <tr>\n      <th>19992</th>\n      <td>0.456790</td>\n      <td>0.0</td>\n    </tr>\n    <tr>\n      <th>19993</th>\n      <td>0.333333</td>\n      <td>1.0</td>\n    </tr>\n    <tr>\n      <th>19994</th>\n      <td>0.518519</td>\n      <td>0.0</td>\n    </tr>\n    <tr>\n      <th>19995</th>\n      <td>0.086420</td>\n      <td>0.0</td>\n    </tr>\n    <tr>\n      <th>19996</th>\n      <td>0.308642</td>\n      <td>1.0</td>\n    </tr>\n    <tr>\n      <th>19997</th>\n      <td>0.172840</td>\n      <td>0.0</td>\n    </tr>\n    <tr>\n      <th>19998</th>\n      <td>0.098765</td>\n      <td>1.0</td>\n    </tr>\n    <tr>\n      <th>19999</th>\n      <td>0.197531</td>\n      <td>0.0</td>\n    </tr>\n  </tbody>\n</table>\n</div>"
     },
     "metadata": {},
     "output_type": "execute_result",
     "execution_count": 14
    }
   ],
   "source": [
    "X.tail(10)"
   ]
  },
  {
   "cell_type": "markdown",
   "metadata": {},
   "source": [
    "これで、正規化が出来ました。"
   ]
  },
  {
   "cell_type": "markdown",
   "metadata": {},
   "source": [
    "### Step 4　識別器の実装\n",
    "ロジスティック回帰の例を参考に、SVM、K-近傍法、決定木、ランダムフォレストを実装しましょう。"
   ]
  },
  {
   "cell_type": "markdown",
   "metadata": {},
   "source": [
    "#### ロジスティック回帰\n",
    "ロジスティック回帰の例を示します。実装にはscikit-learn(http://scikit-learn.org/stable/) の関数を使用します。"
   ]
  },
  {
   "cell_type": "code",
   "execution_count": 15,
   "metadata": {
    "pycharm": {
     "is_executing": false
    }
   },
   "outputs": [],
   "source": [
    "X_train, X_test, y_train, y_test = train_test_split(X, y, test_size=0.1) # 訓練データとテストデータに分割\n",
    "default_acc = {}"
   ]
  },
  {
   "cell_type": "code",
   "execution_count": 16,
   "metadata": {
    "pycharm": {
     "is_executing": false
    }
   },
   "outputs": [
    {
     "name": "stdout",
     "text": [
      "accuracy:0.662\n"
     ],
     "output_type": "stream"
    }
   ],
   "source": [
    "logistic_regression = LogisticRegression() # ロジスティック回帰モデルの作成\n",
    "logistic_regression.fit(X_train, y_train) # 訓練データを使って学習\n",
    "y_pred = logistic_regression.predict(X_test) # 予測値の取得\n",
    "\n",
    "acc = accuracy_score(y_pred=y_pred, y_true=y_test)\n",
    "print(f'accuracy:{acc}') # 精度の計算\n",
    "default_acc['logistic_regression'] = acc"
   ]
  },
  {
   "cell_type": "markdown",
   "metadata": {},
   "source": [
    "上記の LogisticRegression( ) の部分を書き換えて、SVM、K-近傍法、決定木、ランダムフォレストを実装しましょう。"
   ]
  },
  {
   "cell_type": "markdown",
   "metadata": {},
   "source": [
    "#### SVM\n",
    "ここで、SVM (SVC) の実装を行ってください。特徴量も自由に選択して構いません。"
   ]
  },
  {
   "cell_type": "code",
   "execution_count": 17,
   "metadata": {
    "pycharm": {
     "is_executing": false
    }
   },
   "outputs": [
    {
     "name": "stdout",
     "text": [
      "accuracy:0.6625\n"
     ],
     "output_type": "stream"
    }
   ],
   "source": [
    "svm = SVC()\n",
    "svm.fit(X_train, y_train)\n",
    "y_pred = svm.predict(X_test)\n",
    "\n",
    "acc = accuracy_score(y_pred=y_pred, y_true=y_test)\n",
    "print(f'accuracy:{acc}') # 精度の計算\n",
    "default_acc['SVC'] = acc"
   ]
  },
  {
   "cell_type": "markdown",
   "metadata": {},
   "source": [
    "#### K-近傍法\n",
    "\n",
    "ここで、K-近傍法 (KNeighborsClassifier) の実装を行ってください。特徴量も自由に選択して構いません。"
   ]
  },
  {
   "cell_type": "code",
   "execution_count": 18,
   "metadata": {
    "pycharm": {
     "is_executing": false
    }
   },
   "outputs": [
    {
     "name": "stdout",
     "text": [
      "accuracy:0.577\n"
     ],
     "output_type": "stream"
    }
   ],
   "source": [
    "knn = KNeighborsClassifier()\n",
    "knn.fit(X_train, y_train)\n",
    "y_pred = knn.predict(X_test)\n",
    "\n",
    "acc = accuracy_score(y_pred=y_pred, y_true=y_test)\n",
    "print(f'accuracy:{acc}') # 精度の計算\n",
    "default_acc['KNN'] = acc"
   ]
  },
  {
   "cell_type": "markdown",
   "metadata": {},
   "source": [
    "#### 決定木\n",
    "\n",
    "ここで、決定木 (DecisionTreeClassifier) の実装を行ってください。特徴量も自由に選択して構いません。"
   ]
  },
  {
   "cell_type": "code",
   "execution_count": 19,
   "metadata": {
    "pycharm": {
     "is_executing": false
    }
   },
   "outputs": [
    {
     "name": "stdout",
     "text": [
      "accuracy:0.658\n"
     ],
     "output_type": "stream"
    }
   ],
   "source": [
    "decision_tree = DecisionTreeClassifier()\n",
    "decision_tree.fit(X_train, y_train)\n",
    "y_pred = decision_tree.predict(X_test)\n",
    "\n",
    "acc = accuracy_score(y_pred=y_pred, y_true=y_test)\n",
    "print(f'accuracy:{acc}') # 精度の計算\n",
    "default_acc['decision_tree'] = acc"
   ]
  },
  {
   "cell_type": "markdown",
   "metadata": {},
   "source": [
    "#### ランダムフォレスト\n",
    "\n",
    "ここで、ランダムフォレスト (RandomForestClassifier) の実装を行ってください。特徴量も自由に選択して構いません。"
   ]
  },
  {
   "cell_type": "code",
   "execution_count": 20,
   "metadata": {
    "pycharm": {
     "is_executing": false
    },
    "scrolled": true
   },
   "outputs": [
    {
     "name": "stdout",
     "text": [
      "accuracy:0.66\n"
     ],
     "output_type": "stream"
    }
   ],
   "source": [
    "random_forest = RandomForestClassifier()\n",
    "random_forest.fit(X_train, y_train)\n",
    "y_pred = random_forest.predict(X_test)\n",
    "\n",
    "acc = accuracy_score(y_pred=y_pred, y_true=y_test)\n",
    "print(f'accuracy:{acc}') # 精度の計算\n",
    "default_acc['random_forest'] = acc"
   ]
  },
  {
   "cell_type": "markdown",
   "source": [
    "#### Additional module: Bagging KNN classifier"
   ],
   "metadata": {
    "collapsed": false
   }
  },
  {
   "cell_type": "code",
   "execution_count": 21,
   "outputs": [
    {
     "name": "stdout",
     "text": [
      "accuracy:0.652\n"
     ],
     "output_type": "stream"
    }
   ],
   "source": [
    "from sklearn.ensemble import BaggingClassifier\n",
    "bagging_knn = BaggingClassifier(KNeighborsClassifier(), max_samples=0.5, max_features=0.5)\n",
    "bagging_knn.fit(X_train, y_train)\n",
    "y_pred = bagging_knn.predict(X_test)\n",
    "\n",
    "acc = accuracy_score(y_pred=y_pred, y_true=y_test)\n",
    "print(f'accuracy:{acc}') # 精度の計算\n",
    "default_acc['Bagging KNN'] = acc"
   ],
   "metadata": {
    "collapsed": false,
    "pycharm": {
     "name": "#%%\n",
     "is_executing": false
    }
   }
  },
  {
   "cell_type": "markdown",
   "source": [
    "#### Additional module: Naive Bayes"
   ],
   "metadata": {
    "collapsed": false,
    "pycharm": {
     "name": "#%% md\n"
    }
   }
  },
  {
   "cell_type": "code",
   "execution_count": 22,
   "outputs": [
    {
     "name": "stdout",
     "text": [
      "accuracy:0.6605\n"
     ],
     "output_type": "stream"
    }
   ],
   "source": [
    "from sklearn.naive_bayes import GaussianNB\n",
    "gnb = GaussianNB()\n",
    "gnb.fit(X_train, y_train)\n",
    "y_pred = gnb.predict(X_test)\n",
    "\n",
    "acc = accuracy_score(y_pred=y_pred, y_true=y_test)\n",
    "print(f'accuracy:{acc}') # 精度の計算\n",
    "default_acc['naive_bayes'] = acc"
   ],
   "metadata": {
    "collapsed": false,
    "pycharm": {
     "name": "#%%\n",
     "is_executing": false
    }
   }
  },
  {
   "cell_type": "markdown",
   "source": [
    "#### Additional module: XGBoost classifier"
   ],
   "metadata": {
    "collapsed": false,
    "pycharm": {
     "name": "#%% md\n"
    }
   }
  },
  {
   "cell_type": "code",
   "execution_count": 23,
   "outputs": [
    {
     "name": "stdout",
     "text": [
      "accuracy:0.6625\n"
     ],
     "output_type": "stream"
    }
   ],
   "source": [
    "import xgboost\n",
    "xgb = xgboost.XGBClassifier()\n",
    "xgb.fit(X_train, y_train)\n",
    "y_pred = xgb.predict(X_test)\n",
    "\n",
    "acc = accuracy_score(y_pred=y_pred, y_true=y_test)\n",
    "print(f'accuracy:{acc}') # 精度の計算\n",
    "default_acc['xgboost'] = acc"
   ],
   "metadata": {
    "collapsed": false,
    "pycharm": {
     "name": "#%%\n",
     "is_executing": false
    }
   }
  },
  {
   "cell_type": "markdown",
   "source": [
    "#### Additional module: GBDT"
   ],
   "metadata": {
    "collapsed": false
   }
  },
  {
   "cell_type": "code",
   "execution_count": 24,
   "outputs": [
    {
     "name": "stdout",
     "text": [
      "accuracy:0.661\n"
     ],
     "output_type": "stream"
    }
   ],
   "source": [
    "from sklearn.ensemble import GradientBoostingClassifier\n",
    "gbdt = GradientBoostingClassifier()\n",
    "gbdt.fit(X_train, y_train)\n",
    "y_pred = gbdt.predict(X_test)\n",
    "\n",
    "acc = accuracy_score(y_pred=y_pred, y_true=y_test)\n",
    "print(f'accuracy:{acc}') # 精度の計算\n",
    "default_acc['GBDT'] = acc"
   ],
   "metadata": {
    "collapsed": false,
    "pycharm": {
     "name": "#%%\n",
     "is_executing": false
    }
   }
  },
  {
   "cell_type": "markdown",
   "source": [
    "#### Additional module: Perceptron"
   ],
   "metadata": {
    "collapsed": false
   }
  },
  {
   "cell_type": "code",
   "execution_count": 25,
   "outputs": [
    {
     "name": "stdout",
     "text": [
      "accuracy:0.289\n"
     ],
     "output_type": "stream"
    }
   ],
   "source": [
    "from sklearn.linear_model import Perceptron\n",
    "perceptron = Perceptron(tol=1e-3, random_state=RAND_SEED)\n",
    "perceptron.fit(X_train, y_train)\n",
    "y_pred = perceptron.predict(X_test)\n",
    "\n",
    "acc = accuracy_score(y_pred=y_pred, y_true=y_test)\n",
    "print(f'accuracy:{acc}') # 精度の計算\n",
    "default_acc['Perceptron'] = acc"
   ],
   "metadata": {
    "collapsed": false,
    "pycharm": {
     "name": "#%%\n",
     "is_executing": false
    }
   }
  },
  {
   "cell_type": "markdown",
   "source": [
    "#### Additional module: SGD"
   ],
   "metadata": {
    "collapsed": false
   }
  },
  {
   "cell_type": "code",
   "execution_count": 26,
   "outputs": [
    {
     "name": "stdout",
     "text": [
      "accuracy:0.6605\n"
     ],
     "output_type": "stream"
    }
   ],
   "source": [
    "from sklearn.linear_model import SGDClassifier\n",
    "sgd = SGDClassifier(max_iter=1000, tol=1e-3)\n",
    "sgd.fit(X_train, y_train)\n",
    "y_pred = sgd.predict(X_test)\n",
    "\n",
    "acc = accuracy_score(y_pred=y_pred, y_true=y_test)\n",
    "print(f'accuracy:{acc}') # 精度の計算\n",
    "default_acc['SGD'] = acc"
   ],
   "metadata": {
    "collapsed": false,
    "pycharm": {
     "name": "#%%\n",
     "is_executing": false
    }
   }
  },
  {
   "cell_type": "markdown",
   "source": [
    "#### Additional module: Voting classifier "
   ],
   "metadata": {
    "collapsed": false
   }
  },
  {
   "cell_type": "code",
   "execution_count": 27,
   "outputs": [
    {
     "name": "stdout",
     "text": [
      "accuracy:0.663\nAccurate for default classifiers:\n"
     ],
     "output_type": "stream"
    },
    {
     "data": {
      "text/plain": "{'logistic_regression': 0.662,\n 'SVC': 0.6625,\n 'KNN': 0.577,\n 'decision_tree': 0.658,\n 'random_forest': 0.66,\n 'Bagging KNN': 0.652,\n 'naive_bayes': 0.6605,\n 'xgboost': 0.6625,\n 'GBDT': 0.661,\n 'Perceptron': 0.289,\n 'SGD': 0.6605,\n 'Voting': 0.663}"
     },
     "metadata": {},
     "output_type": "execute_result",
     "execution_count": 27
    }
   ],
   "source": [
    "from sklearn.ensemble import VotingClassifier\n",
    "voting = VotingClassifier(estimators={\n",
    "    ('gbdt', gbdt),\n",
    "    ('random_forest', random_forest),\n",
    "    ('logistic_regression', logistic_regression),\n",
    "    #('nb', nb),\n",
    "    ('bagging_knn', bagging_knn),\n",
    "    ('decision_tree', decision_tree),\n",
    "    ('knn', knn),\n",
    "    ('xgb', xgb),\n",
    "    #('svm', svm),\n",
    "    #('perceptron', perceptron),\n",
    "    #('sgd', sgd),\n",
    "}, voting='soft')\n",
    "voting.fit(X_train, y_train)\n",
    "y_pred = voting.predict(X_test)\n",
    "\n",
    "acc = accuracy_score(y_pred=y_pred, y_true=y_test)\n",
    "print(f'accuracy:{acc}') # 精度の計算\n",
    "default_acc['Voting'] = acc\n",
    "print(\"Accurate for default classifiers:\")\n",
    "default_acc"
   ],
   "metadata": {
    "collapsed": false,
    "pycharm": {
     "name": "#%%\n",
     "is_executing": false
    }
   }
  },
  {
   "cell_type": "markdown",
   "metadata": {},
   "source": [
    "# 課題２: モデルの改善を行おう！\n",
    "課題1で作成した各モデルについて、どうすればさらに良い精度を出すことができるのか、パラメータの調整や特徴量の選定などを行いましょう。\n",
    "最後に、この課題において最善と考える特徴量とモデルを述べ、その理由も示してください。\n",
    "\n",
    "まず、選定した特徴量を用いて、課題１で行ったStep1〜Step3 を行いましょう。ただし、Step 2〜Step 3の処理は、preprocessingという関数で定義してください。ここで定義した関数を用いて評価を行います。\n",
    "引数には、読み込んだデータを指定してください。返り値には、前処理を行った後の選定した特徴量 ( X )とmarital ( y )を指定してください。"
   ]
  },
  {
   "cell_type": "code",
   "execution_count": 28,
   "metadata": {
    "pycharm": {
     "is_executing": false,
     "name": "#%%\n"
    }
   },
   "outputs": [],
   "source": [
    "from sklearn.preprocessing import OneHotEncoder, OrdinalEncoder, PolynomialFeatures\n",
    "from sklearn.pipeline import make_pipeline\n",
    "from sklearn.compose import make_column_transformer\n",
    "from sklearn.impute import SimpleImputer"
   ]
  },
  {
   "cell_type": "code",
   "execution_count": 43,
   "metadata": {
    "pycharm": {
     "is_executing": false,
     "name": "#%%\n"
    }
   },
   "outputs": [
    {
     "name": "stdout",
     "text": [
      "acc: 0.6635\n"
     ],
     "output_type": "stream"
    }
   ],
   "source": [
    "### Step 1　　データの読み込み\n",
    "#raw_data = pd.read_csv('train.csv')\n",
    "#raw_data.dropna(how='any')\n",
    "#train_data, test_data = train_test_split(raw_data, test_size=0.1, random_state=RAND_SEED)\n",
    "#raw_data.hist(bins=50, figsize=(20,15))\n",
    "raw_data = pd.read_csv('train.csv')\n",
    "train_data, test_data = train_test_split(raw_data, test_size=0.1, random_state=RAND_SEED)\n",
    "num_attrs = [\"age\"]\n",
    "cat_attrs = [\"job\", \"education\", \"default\", \"housing\", \"loan\", \"y\"]\n",
    "feature_attrs = num_attrs + cat_attrs\n",
    "target = [\"marital\"]\n",
    "\n",
    "num_pipeline = make_pipeline(\n",
    "    SimpleImputer(strategy=\"most_frequent\"),\n",
    "    #StandardScaler(),\n",
    "    MinMaxScaler(),\n",
    ")\n",
    "\n",
    "preproc_onehot = make_column_transformer(\n",
    "    (num_pipeline, num_attrs),\n",
    "    (OneHotEncoder(), cat_attrs),\n",
    ")\n",
    "\n",
    "preproc_ordinal = make_column_transformer(\n",
    "    (num_pipeline, num_attrs),\n",
    "    (OrdinalEncoder(), cat_attrs),\n",
    ")\n",
    "\n",
    "full_pipeline = make_pipeline(\n",
    "    preproc_onehot,\n",
    "    sgd,\n",
    "    #PolynomialFeatures(degree=2),\n",
    "    #GaussianNB(),\n",
    "    #xgboost.XGBClassifier(random_state=RAND_SEED),\n",
    "    #LogisticRegression(random_state=RAND_SEED),\n",
    "    #SVC(),\n",
    "    #GradientBoostingClassifier()\n",
    "    #voting\n",
    "    #DecisionTreeClassifier(),\n",
    "    #KNeighborsClassifier(),\n",
    ")\n",
    "\n",
    "full_pipeline.fit(train_data[feature_attrs], train_data[target])\n",
    "print(f\"acc: {accuracy_score(full_pipeline.predict(test_data[feature_attrs]), test_data[target]):.4f}\")"
   ]
  },
  {
   "cell_type": "code",
   "execution_count": 30,
   "metadata": {
    "pycharm": {
     "is_executing": false,
     "name": "#%%\n"
    }
   },
   "outputs": [],
   "source": [
    "### 課題１で行ったStep 2〜Step 3を関数として定義してください。\n",
    "def preprocessing(df_train_data):\n",
    "    ### Step 2　　使用する列の抽出\n",
    "    y_ = df_train_data.marital# ラベルデータ\n",
    "    X_ = df_train_data[['age', 'housing']]\n",
    "    \n",
    "    ### Step 3　　特徴量データの前処理\n",
    "    # 欠損値を含むデータの削除\n",
    "    df_temp = pd.concat([y_, X_], axis=1).dropna(how='any')\n",
    "    df_temp.index = range(len(df_temp)) \n",
    "    y = df_temp.marital\n",
    "    X = df_temp[['age', 'housing']]\n",
    "    \n",
    "    # 文字列を数値データへ変換\n",
    "    housing_le = LabelEncoder()\n",
    "    X.housing = housing_le.fit_transform(X.housing)\n",
    "    \n",
    "    # 数値データの正規化\n",
    "    mm_scaler = MinMaxScaler()\n",
    "    X.age = DataFrame(mm_scaler.fit_transform(DataFrame(X.age.copy())))\n",
    "    X.housing = DataFrame(mm_scaler.fit_transform(DataFrame(X.housing.copy())))\n",
    "    \n",
    "    return X, y"
   ]
  },
  {
   "cell_type": "markdown",
   "metadata": {},
   "source": [
    "上記で定義した関数を実行します。"
   ]
  },
  {
   "cell_type": "code",
   "execution_count": 31,
   "metadata": {
    "pycharm": {
     "is_executing": false
    }
   },
   "outputs": [],
   "source": [
    "X, y = preprocessing(df_train_data)"
   ]
  },
  {
   "cell_type": "markdown",
   "metadata": {},
   "source": [
    "次に、この課題における最善なモデルを構築しましょう。課題１で使用したモデル以外を使用しても構いません。\n",
    "下記は、ロジスティック回帰の場合の例です。"
   ]
  },
  {
   "cell_type": "code",
   "execution_count": 32,
   "metadata": {
    "pycharm": {
     "is_executing": false
    }
   },
   "outputs": [],
   "source": [
    "X_train, X_test, y_train, y_test = train_test_split(X, y, test_size=0.1) # 訓練データとテストデータに分割"
   ]
  },
  {
   "cell_type": "code",
   "execution_count": 33,
   "metadata": {
    "pycharm": {
     "is_executing": false
    }
   },
   "outputs": [
    {
     "name": "stdout",
     "text": [
      "accuracy:0.65\n"
     ],
     "output_type": "stream"
    }
   ],
   "source": [
    "logistic_regression = LogisticRegression() # ロジスティック回帰モデルの作成\n",
    "logistic_regression.fit(X_train, y_train) # 訓練データを使って学習\n",
    "y_pred = logistic_regression.predict(X_test) # 予測値の取得\n",
    "print('accuracy:{}'.format(accuracy_score(y_pred=y_pred, y_true=y_test))) # 精度の計算"
   ]
  },
  {
   "cell_type": "markdown",
   "metadata": {},
   "source": [
    "### 考察１\n",
    "この課題において最善と考える特徴量を述べ、その理由も示してください。"
   ]
  },
  {
   "cell_type": "markdown",
   "metadata": {},
   "source": [
    "（ここに記入してください）"
   ]
  },
  {
   "cell_type": "markdown",
   "metadata": {},
   "source": [
    "### 考察２\n",
    "この課題において最善と考えるモデルを述べ、その理由も示してください。"
   ]
  },
  {
   "cell_type": "markdown",
   "metadata": {},
   "source": [
    "（ここに記入してください）"
   ]
  },
  {
   "cell_type": "markdown",
   "metadata": {},
   "source": [
    "最後に、以下の best_model に構築したモデルを記入してください。この best_model を使用して精度評価を行います。"
   ]
  },
  {
   "cell_type": "code",
   "execution_count": 34,
   "metadata": {
    "pycharm": {
     "is_executing": false
    }
   },
   "outputs": [],
   "source": [
    "best_model = logistic_regression     # この例では、ロジスティック回帰を選択したので、logistic_regression を記入しています。\n",
    "pickle.dump(best_model, open('best_model.pkl','wb'))"
   ]
  },
  {
   "cell_type": "markdown",
   "metadata": {},
   "source": [
    "### --------評価用--------\n",
    "ここから下は評価用となります。上の欄にモデルを記入した後は、配布資料に書いてある手順に沿ってファイルを提出してください。"
   ]
  },
  {
   "cell_type": "code",
   "execution_count": 35,
   "metadata": {
    "pycharm": {
     "is_executing": false
    }
   },
   "outputs": [],
   "source": [
    "# df_test_data = pd.read_csv('bank_test.csv')\n",
    "# preprocessing()\n",
    "# X_test = X\n",
    "# y_test = y"
   ]
  },
  {
   "cell_type": "code",
   "execution_count": 36,
   "metadata": {
    "pycharm": {
     "is_executing": false
    }
   },
   "outputs": [],
   "source": [
    "# best2_model = pickle.load(open('best_model.pkl', 'rb'))\n",
    "# y_pred =best2_model.predict(X_test)\n",
    "# print('accuracy:{}'.format(accuracy_score(y_pred=y_pred, y_true=y_test)))"
   ]
  },
  {
   "cell_type": "code",
   "execution_count": 36,
   "metadata": {
    "pycharm": {
     "is_executing": false
    }
   },
   "outputs": [],
   "source": []
  }
 ],
 "metadata": {
  "kernelspec": {
   "display_name": "Python 3",
   "language": "python",
   "name": "python3"
  },
  "language_info": {
   "codemirror_mode": {
    "name": "ipython",
    "version": 3
   },
   "file_extension": ".py",
   "mimetype": "text/x-python",
   "name": "python",
   "nbconvert_exporter": "python",
   "pygments_lexer": "ipython3",
   "version": "3.7.4"
  },
  "pycharm": {
   "stem_cell": {
    "cell_type": "raw",
    "source": [],
    "metadata": {
     "collapsed": false
    }
   }
  }
 },
 "nbformat": 4,
 "nbformat_minor": 2
}