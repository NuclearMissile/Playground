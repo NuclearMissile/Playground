{
 "cells": [
  {
   "cell_type": "markdown",
   "metadata": {},
   "source": [
    "# 2019年度　パターン認識最終課題\n",
    "\n",
    "パターン認識最終課題では、銀行の顧客に関するデータセットを使って、顧客の婚姻状況を予測するモデルを構築してもらいます。"
   ]
  },
  {
   "cell_type": "markdown",
   "metadata": {},
   "source": [
    "学籍番号と氏名を記入してください。\n",
    "記入例：1811000 先端　太郎"
   ]
  },
  {
   "cell_type": "markdown",
   "metadata": {},
   "source": [
    "1911328 TAO XIANGKUN"
   ]
  },
  {
   "cell_type": "markdown",
   "metadata": {},
   "source": [
    "## 課題１: 色々なモデルを試してみよう！\n",
    "まずは、講義で扱った様々な識別器を試してみましょう。\n",
    "以下に示すロジスティック回帰の例を参考に、指示に従いSVM、K-近傍法、決定木、ランダムフォレストの実装を行ってもらいます。"
   ]
  },
  {
   "cell_type": "code",
   "execution_count": 55,
   "metadata": {
    "pycharm": {
     "is_executing": false
    },
    "scrolled": true
   },
   "outputs": [],
   "source": [
    "from IPython.display import display\n",
    "import pandas as pd\n",
    "from pandas import DataFrame, Series\n",
    "import pickle\n",
    "from sklearn.preprocessing import LabelEncoder\n",
    "from sklearn.preprocessing import MinMaxScaler\n",
    "from sklearn.model_selection import train_test_split\n",
    "from sklearn.linear_model import LogisticRegression\n",
    "from sklearn.svm import SVC\n",
    "from sklearn.neighbors import KNeighborsClassifier\n",
    "from sklearn.tree import DecisionTreeClassifier\n",
    "from sklearn.ensemble import RandomForestClassifier\n",
    "from sklearn.metrics import accuracy_score,precision_recall_fscore_support\n",
    "import warnings\n",
    "warnings.filterwarnings('ignore')"
   ]
  },
  {
   "cell_type": "code",
   "execution_count": 56,
   "metadata": {
    "pycharm": {
     "is_executing": false
    }
   },
   "outputs": [],
   "source": [
    "%matplotlib inline  \n",
    "import matplotlib.pyplot as plt\n",
    "import numpy as np\n",
    "RAND_SEED = 42"
   ]
  },
  {
   "cell_type": "markdown",
   "metadata": {},
   "source": [
    "### Step1 データの読み込み\n",
    "まずは、データを読み込みます。"
   ]
  },
  {
   "cell_type": "code",
   "execution_count": 57,
   "metadata": {
    "pycharm": {
     "is_executing": false
    }
   },
   "outputs": [],
   "source": [
    "df_train_data = pd.read_csv('train.csv')"
   ]
  },
  {
   "cell_type": "markdown",
   "metadata": {},
   "source": [
    "今回は、この中で、marital（婚姻状況）を予測するモデルの構築を行ってもらいます。"
   ]
  },
  {
   "cell_type": "markdown",
   "metadata": {},
   "source": [
    "### Step 2　使用する列の抽出\n",
    "次に、使用する列だけを取り出します。　今回はmaritalと、予測に使えそうな age, housing を取り出します。"
   ]
  },
  {
   "cell_type": "code",
   "execution_count": 58,
   "metadata": {
    "pycharm": {
     "is_executing": false
    }
   },
   "outputs": [
    {
     "data": {
      "text/plain": "married     12141\nsingle       5605\ndivorced     2254\nName: marital, dtype: int64"
     },
     "metadata": {},
     "output_type": "execute_result",
     "execution_count": 58
    }
   ],
   "source": [
    "y_ = df_train_data.marital# ラベルデータ\n",
    "y_.value_counts()"
   ]
  },
  {
   "cell_type": "code",
   "execution_count": 59,
   "metadata": {
    "pycharm": {
     "is_executing": false
    }
   },
   "outputs": [
    {
     "data": {
      "text/plain": "    marital\n0   married\n1   married\n2  divorced\n3   married\n4   married\n5    single\n6   married\n7    single\n8  divorced\n9   married",
      "text/html": "<div>\n<style scoped>\n    .dataframe tbody tr th:only-of-type {\n        vertical-align: middle;\n    }\n\n    .dataframe tbody tr th {\n        vertical-align: top;\n    }\n\n    .dataframe thead th {\n        text-align: right;\n    }\n</style>\n<table border=\"1\" class=\"dataframe\">\n  <thead>\n    <tr style=\"text-align: right;\">\n      <th></th>\n      <th>marital</th>\n    </tr>\n  </thead>\n  <tbody>\n    <tr>\n      <th>0</th>\n      <td>married</td>\n    </tr>\n    <tr>\n      <th>1</th>\n      <td>married</td>\n    </tr>\n    <tr>\n      <th>2</th>\n      <td>divorced</td>\n    </tr>\n    <tr>\n      <th>3</th>\n      <td>married</td>\n    </tr>\n    <tr>\n      <th>4</th>\n      <td>married</td>\n    </tr>\n    <tr>\n      <th>5</th>\n      <td>single</td>\n    </tr>\n    <tr>\n      <th>6</th>\n      <td>married</td>\n    </tr>\n    <tr>\n      <th>7</th>\n      <td>single</td>\n    </tr>\n    <tr>\n      <th>8</th>\n      <td>divorced</td>\n    </tr>\n    <tr>\n      <th>9</th>\n      <td>married</td>\n    </tr>\n  </tbody>\n</table>\n</div>"
     },
     "metadata": {},
     "output_type": "execute_result",
     "execution_count": 59
    }
   ],
   "source": [
    "DataFrame(y_).head(10)"
   ]
  },
  {
   "cell_type": "markdown",
   "metadata": {},
   "source": [
    "ラベルデータの上位10件を表示しました。"
   ]
  },
  {
   "cell_type": "code",
   "execution_count": 60,
   "metadata": {
    "pycharm": {
     "is_executing": false
    }
   },
   "outputs": [
    {
     "data": {
      "text/plain": "   age          job   marital            education  default housing loan  \\\n0   58    housemaid   married             basic.4y  unknown     yes   no   \n1   38   technician   married  professional.course       no     yes   no   \n2   81      retired  divorced             basic.4y       no     yes   no   \n3   49  blue-collar   married             basic.6y       no     yes   no   \n4   38   unemployed   married             basic.4y  unknown      no   no   \n\n     contact month day_of_week  ...  campaign  pdays  previous     poutcome  \\\n0   cellular   aug         mon  ...         2    999         0  nonexistent   \n1  telephone   may         tue  ...         1    999         0  nonexistent   \n2   cellular   oct         thu  ...         1    999         1      failure   \n3  telephone   may         fri  ...         2    999         0  nonexistent   \n4  telephone   jun         thu  ...         1    999         0  nonexistent   \n\n  emp.var.rate  cons.price.idx  cons.conf.idx  euribor3m  nr.employed    y  \n0          1.4          93.444          -36.1      4.970       5228.1   no  \n1          1.1          93.994          -36.4      4.856       5191.0   no  \n2         -1.1          94.601          -49.5      0.987       4963.6   no  \n3          1.1          93.994          -36.4      4.864       5191.0  yes  \n4          1.4          94.465          -41.8      4.961       5228.1   no  \n\n[5 rows x 21 columns]",
      "text/html": "<div>\n<style scoped>\n    .dataframe tbody tr th:only-of-type {\n        vertical-align: middle;\n    }\n\n    .dataframe tbody tr th {\n        vertical-align: top;\n    }\n\n    .dataframe thead th {\n        text-align: right;\n    }\n</style>\n<table border=\"1\" class=\"dataframe\">\n  <thead>\n    <tr style=\"text-align: right;\">\n      <th></th>\n      <th>age</th>\n      <th>job</th>\n      <th>marital</th>\n      <th>education</th>\n      <th>default</th>\n      <th>housing</th>\n      <th>loan</th>\n      <th>contact</th>\n      <th>month</th>\n      <th>day_of_week</th>\n      <th>...</th>\n      <th>campaign</th>\n      <th>pdays</th>\n      <th>previous</th>\n      <th>poutcome</th>\n      <th>emp.var.rate</th>\n      <th>cons.price.idx</th>\n      <th>cons.conf.idx</th>\n      <th>euribor3m</th>\n      <th>nr.employed</th>\n      <th>y</th>\n    </tr>\n  </thead>\n  <tbody>\n    <tr>\n      <th>0</th>\n      <td>58</td>\n      <td>housemaid</td>\n      <td>married</td>\n      <td>basic.4y</td>\n      <td>unknown</td>\n      <td>yes</td>\n      <td>no</td>\n      <td>cellular</td>\n      <td>aug</td>\n      <td>mon</td>\n      <td>...</td>\n      <td>2</td>\n      <td>999</td>\n      <td>0</td>\n      <td>nonexistent</td>\n      <td>1.4</td>\n      <td>93.444</td>\n      <td>-36.1</td>\n      <td>4.970</td>\n      <td>5228.1</td>\n      <td>no</td>\n    </tr>\n    <tr>\n      <th>1</th>\n      <td>38</td>\n      <td>technician</td>\n      <td>married</td>\n      <td>professional.course</td>\n      <td>no</td>\n      <td>yes</td>\n      <td>no</td>\n      <td>telephone</td>\n      <td>may</td>\n      <td>tue</td>\n      <td>...</td>\n      <td>1</td>\n      <td>999</td>\n      <td>0</td>\n      <td>nonexistent</td>\n      <td>1.1</td>\n      <td>93.994</td>\n      <td>-36.4</td>\n      <td>4.856</td>\n      <td>5191.0</td>\n      <td>no</td>\n    </tr>\n    <tr>\n      <th>2</th>\n      <td>81</td>\n      <td>retired</td>\n      <td>divorced</td>\n      <td>basic.4y</td>\n      <td>no</td>\n      <td>yes</td>\n      <td>no</td>\n      <td>cellular</td>\n      <td>oct</td>\n      <td>thu</td>\n      <td>...</td>\n      <td>1</td>\n      <td>999</td>\n      <td>1</td>\n      <td>failure</td>\n      <td>-1.1</td>\n      <td>94.601</td>\n      <td>-49.5</td>\n      <td>0.987</td>\n      <td>4963.6</td>\n      <td>no</td>\n    </tr>\n    <tr>\n      <th>3</th>\n      <td>49</td>\n      <td>blue-collar</td>\n      <td>married</td>\n      <td>basic.6y</td>\n      <td>no</td>\n      <td>yes</td>\n      <td>no</td>\n      <td>telephone</td>\n      <td>may</td>\n      <td>fri</td>\n      <td>...</td>\n      <td>2</td>\n      <td>999</td>\n      <td>0</td>\n      <td>nonexistent</td>\n      <td>1.1</td>\n      <td>93.994</td>\n      <td>-36.4</td>\n      <td>4.864</td>\n      <td>5191.0</td>\n      <td>yes</td>\n    </tr>\n    <tr>\n      <th>4</th>\n      <td>38</td>\n      <td>unemployed</td>\n      <td>married</td>\n      <td>basic.4y</td>\n      <td>unknown</td>\n      <td>no</td>\n      <td>no</td>\n      <td>telephone</td>\n      <td>jun</td>\n      <td>thu</td>\n      <td>...</td>\n      <td>1</td>\n      <td>999</td>\n      <td>0</td>\n      <td>nonexistent</td>\n      <td>1.4</td>\n      <td>94.465</td>\n      <td>-41.8</td>\n      <td>4.961</td>\n      <td>5228.1</td>\n      <td>no</td>\n    </tr>\n  </tbody>\n</table>\n<p>5 rows × 21 columns</p>\n</div>"
     },
     "metadata": {},
     "output_type": "execute_result",
     "execution_count": 60
    }
   ],
   "source": [
    "X_ = df_train_data[['age', \"job\", \"education\", \"default\", \"housing\", \"loan\", \"y\"]]\n",
    "df_train_data.head(5)"
   ]
  },
  {
   "cell_type": "code",
   "execution_count": 61,
   "metadata": {
    "pycharm": {
     "is_executing": false
    },
    "scrolled": true
   },
   "outputs": [
    {
     "data": {
      "text/plain": "   age          job            education  default housing loan    y\n0   58    housemaid             basic.4y  unknown     yes   no   no\n1   38   technician  professional.course       no     yes   no   no\n2   81      retired             basic.4y       no     yes   no   no\n3   49  blue-collar             basic.6y       no     yes   no  yes\n4   38   unemployed             basic.4y  unknown      no   no   no\n5   47       admin.              unknown  unknown     yes   no   no\n6   33       admin.    university.degree       no      no  yes   no\n7   31   technician    university.degree       no     yes   no   no\n8   31       admin.          high.school       no      no  yes   no\n9   51    housemaid             basic.9y       no     yes   no   no",
      "text/html": "<div>\n<style scoped>\n    .dataframe tbody tr th:only-of-type {\n        vertical-align: middle;\n    }\n\n    .dataframe tbody tr th {\n        vertical-align: top;\n    }\n\n    .dataframe thead th {\n        text-align: right;\n    }\n</style>\n<table border=\"1\" class=\"dataframe\">\n  <thead>\n    <tr style=\"text-align: right;\">\n      <th></th>\n      <th>age</th>\n      <th>job</th>\n      <th>education</th>\n      <th>default</th>\n      <th>housing</th>\n      <th>loan</th>\n      <th>y</th>\n    </tr>\n  </thead>\n  <tbody>\n    <tr>\n      <th>0</th>\n      <td>58</td>\n      <td>housemaid</td>\n      <td>basic.4y</td>\n      <td>unknown</td>\n      <td>yes</td>\n      <td>no</td>\n      <td>no</td>\n    </tr>\n    <tr>\n      <th>1</th>\n      <td>38</td>\n      <td>technician</td>\n      <td>professional.course</td>\n      <td>no</td>\n      <td>yes</td>\n      <td>no</td>\n      <td>no</td>\n    </tr>\n    <tr>\n      <th>2</th>\n      <td>81</td>\n      <td>retired</td>\n      <td>basic.4y</td>\n      <td>no</td>\n      <td>yes</td>\n      <td>no</td>\n      <td>no</td>\n    </tr>\n    <tr>\n      <th>3</th>\n      <td>49</td>\n      <td>blue-collar</td>\n      <td>basic.6y</td>\n      <td>no</td>\n      <td>yes</td>\n      <td>no</td>\n      <td>yes</td>\n    </tr>\n    <tr>\n      <th>4</th>\n      <td>38</td>\n      <td>unemployed</td>\n      <td>basic.4y</td>\n      <td>unknown</td>\n      <td>no</td>\n      <td>no</td>\n      <td>no</td>\n    </tr>\n    <tr>\n      <th>5</th>\n      <td>47</td>\n      <td>admin.</td>\n      <td>unknown</td>\n      <td>unknown</td>\n      <td>yes</td>\n      <td>no</td>\n      <td>no</td>\n    </tr>\n    <tr>\n      <th>6</th>\n      <td>33</td>\n      <td>admin.</td>\n      <td>university.degree</td>\n      <td>no</td>\n      <td>no</td>\n      <td>yes</td>\n      <td>no</td>\n    </tr>\n    <tr>\n      <th>7</th>\n      <td>31</td>\n      <td>technician</td>\n      <td>university.degree</td>\n      <td>no</td>\n      <td>yes</td>\n      <td>no</td>\n      <td>no</td>\n    </tr>\n    <tr>\n      <th>8</th>\n      <td>31</td>\n      <td>admin.</td>\n      <td>high.school</td>\n      <td>no</td>\n      <td>no</td>\n      <td>yes</td>\n      <td>no</td>\n    </tr>\n    <tr>\n      <th>9</th>\n      <td>51</td>\n      <td>housemaid</td>\n      <td>basic.9y</td>\n      <td>no</td>\n      <td>yes</td>\n      <td>no</td>\n      <td>no</td>\n    </tr>\n  </tbody>\n</table>\n</div>"
     },
     "metadata": {},
     "output_type": "execute_result",
     "execution_count": 61
    }
   ],
   "source": [
    "X_.head(10)"
   ]
  },
  {
   "cell_type": "markdown",
   "metadata": {},
   "source": [
    "特徴量データの上位10件を表示しました。"
   ]
  },
  {
   "cell_type": "markdown",
   "metadata": {},
   "source": [
    "### Step3　特徴量データの前処理\n",
    "識別器での学習を行う前に、特徴量を適切な形へ変換する必要があります。\n",
    "その過程を見ていきましょう。"
   ]
  },
  {
   "cell_type": "markdown",
   "metadata": {},
   "source": [
    "まず、欠損値を含むデータの扱いですが、本課題では、簡単のため単純に削除する手法を取ります。"
   ]
  },
  {
   "cell_type": "code",
   "execution_count": 62,
   "metadata": {
    "pycharm": {
     "is_executing": false
    }
   },
   "outputs": [],
   "source": [
    "df_temp = pd.concat([y_, X_], axis=1).dropna(how='any')# 欠損値を含むデータの削除\n",
    "df_temp.index = range(len(df_temp)) \n",
    "y = df_temp.marital\n",
    "X = df_temp[['age', 'housing', 'education', 'job']]"
   ]
  },
  {
   "cell_type": "markdown",
   "metadata": {},
   "source": [
    "次に、housing 列は文字列であるため、数値に変換してあげる必要があります。ここでは、yes = 2, unknown = 1, no = 0 として変換します。"
   ]
  },
  {
   "cell_type": "code",
   "execution_count": 63,
   "metadata": {
    "pycharm": {
     "is_executing": false
    }
   },
   "outputs": [
    {
     "data": {
      "text/plain": "       age housing            education          job\n19990   33     yes             basic.9y   unemployed\n19991   41     yes    university.degree    housemaid\n19992   54      no    university.degree   technician\n19993   44     yes             basic.9y  blue-collar\n19994   59      no             basic.4y      retired\n19995   24      no    university.degree   technician\n19996   42     yes              unknown   technician\n19997   31      no  professional.course   technician\n19998   25     yes  professional.course  blue-collar\n19999   33      no          high.school   technician",
      "text/html": "<div>\n<style scoped>\n    .dataframe tbody tr th:only-of-type {\n        vertical-align: middle;\n    }\n\n    .dataframe tbody tr th {\n        vertical-align: top;\n    }\n\n    .dataframe thead th {\n        text-align: right;\n    }\n</style>\n<table border=\"1\" class=\"dataframe\">\n  <thead>\n    <tr style=\"text-align: right;\">\n      <th></th>\n      <th>age</th>\n      <th>housing</th>\n      <th>education</th>\n      <th>job</th>\n    </tr>\n  </thead>\n  <tbody>\n    <tr>\n      <th>19990</th>\n      <td>33</td>\n      <td>yes</td>\n      <td>basic.9y</td>\n      <td>unemployed</td>\n    </tr>\n    <tr>\n      <th>19991</th>\n      <td>41</td>\n      <td>yes</td>\n      <td>university.degree</td>\n      <td>housemaid</td>\n    </tr>\n    <tr>\n      <th>19992</th>\n      <td>54</td>\n      <td>no</td>\n      <td>university.degree</td>\n      <td>technician</td>\n    </tr>\n    <tr>\n      <th>19993</th>\n      <td>44</td>\n      <td>yes</td>\n      <td>basic.9y</td>\n      <td>blue-collar</td>\n    </tr>\n    <tr>\n      <th>19994</th>\n      <td>59</td>\n      <td>no</td>\n      <td>basic.4y</td>\n      <td>retired</td>\n    </tr>\n    <tr>\n      <th>19995</th>\n      <td>24</td>\n      <td>no</td>\n      <td>university.degree</td>\n      <td>technician</td>\n    </tr>\n    <tr>\n      <th>19996</th>\n      <td>42</td>\n      <td>yes</td>\n      <td>unknown</td>\n      <td>technician</td>\n    </tr>\n    <tr>\n      <th>19997</th>\n      <td>31</td>\n      <td>no</td>\n      <td>professional.course</td>\n      <td>technician</td>\n    </tr>\n    <tr>\n      <th>19998</th>\n      <td>25</td>\n      <td>yes</td>\n      <td>professional.course</td>\n      <td>blue-collar</td>\n    </tr>\n    <tr>\n      <th>19999</th>\n      <td>33</td>\n      <td>no</td>\n      <td>high.school</td>\n      <td>technician</td>\n    </tr>\n  </tbody>\n</table>\n</div>"
     },
     "metadata": {},
     "output_type": "execute_result",
     "execution_count": 63
    }
   ],
   "source": [
    "X.tail(10)"
   ]
  },
  {
   "cell_type": "code",
   "execution_count": 64,
   "metadata": {
    "pycharm": {
     "is_executing": false
    }
   },
   "outputs": [],
   "source": [
    "housing_le = LabelEncoder()\n",
    "X.housing = housing_le.fit_transform(X.housing)\n",
    "X.education = housing_le.fit_transform(X.education)\n",
    "X.job = housing_le.fit_transform(X.job)"
   ]
  },
  {
   "cell_type": "code",
   "execution_count": 65,
   "metadata": {
    "pycharm": {
     "is_executing": false
    }
   },
   "outputs": [
    {
     "data": {
      "text/plain": "       age  housing  education  job\n19990   33        2          2   10\n19991   41        2          6    3\n19992   54        0          6    9\n19993   44        2          2    1\n19994   59        0          0    5\n19995   24        0          6    9\n19996   42        2          7    9\n19997   31        0          5    9\n19998   25        2          5    1\n19999   33        0          3    9",
      "text/html": "<div>\n<style scoped>\n    .dataframe tbody tr th:only-of-type {\n        vertical-align: middle;\n    }\n\n    .dataframe tbody tr th {\n        vertical-align: top;\n    }\n\n    .dataframe thead th {\n        text-align: right;\n    }\n</style>\n<table border=\"1\" class=\"dataframe\">\n  <thead>\n    <tr style=\"text-align: right;\">\n      <th></th>\n      <th>age</th>\n      <th>housing</th>\n      <th>education</th>\n      <th>job</th>\n    </tr>\n  </thead>\n  <tbody>\n    <tr>\n      <th>19990</th>\n      <td>33</td>\n      <td>2</td>\n      <td>2</td>\n      <td>10</td>\n    </tr>\n    <tr>\n      <th>19991</th>\n      <td>41</td>\n      <td>2</td>\n      <td>6</td>\n      <td>3</td>\n    </tr>\n    <tr>\n      <th>19992</th>\n      <td>54</td>\n      <td>0</td>\n      <td>6</td>\n      <td>9</td>\n    </tr>\n    <tr>\n      <th>19993</th>\n      <td>44</td>\n      <td>2</td>\n      <td>2</td>\n      <td>1</td>\n    </tr>\n    <tr>\n      <th>19994</th>\n      <td>59</td>\n      <td>0</td>\n      <td>0</td>\n      <td>5</td>\n    </tr>\n    <tr>\n      <th>19995</th>\n      <td>24</td>\n      <td>0</td>\n      <td>6</td>\n      <td>9</td>\n    </tr>\n    <tr>\n      <th>19996</th>\n      <td>42</td>\n      <td>2</td>\n      <td>7</td>\n      <td>9</td>\n    </tr>\n    <tr>\n      <th>19997</th>\n      <td>31</td>\n      <td>0</td>\n      <td>5</td>\n      <td>9</td>\n    </tr>\n    <tr>\n      <th>19998</th>\n      <td>25</td>\n      <td>2</td>\n      <td>5</td>\n      <td>1</td>\n    </tr>\n    <tr>\n      <th>19999</th>\n      <td>33</td>\n      <td>0</td>\n      <td>3</td>\n      <td>9</td>\n    </tr>\n  </tbody>\n</table>\n</div>"
     },
     "metadata": {},
     "output_type": "execute_result",
     "execution_count": 65
    }
   ],
   "source": [
    "X.tail(10)"
   ]
  },
  {
   "cell_type": "markdown",
   "metadata": {},
   "source": [
    "これで、数値データに置き換えられました。\n"
   ]
  },
  {
   "cell_type": "markdown",
   "metadata": {},
   "source": [
    "最後に、それぞれの特徴量の数値の変動量に差による影響力の差を排除するため、正規化を行います。"
   ]
  },
  {
   "cell_type": "code",
   "execution_count": 66,
   "metadata": {
    "pycharm": {
     "is_executing": false
    }
   },
   "outputs": [],
   "source": [
    "mm_scaler = MinMaxScaler()"
   ]
  },
  {
   "cell_type": "code",
   "execution_count": 67,
   "metadata": {
    "pycharm": {
     "is_executing": false
    }
   },
   "outputs": [],
   "source": [
    "X.age = DataFrame(mm_scaler.fit_transform(DataFrame(X.age.copy())))\n",
    "X.housing = DataFrame(mm_scaler.fit_transform(DataFrame(X.housing.copy())))"
   ]
  },
  {
   "cell_type": "code",
   "execution_count": 68,
   "metadata": {
    "pycharm": {
     "is_executing": false
    }
   },
   "outputs": [
    {
     "data": {
      "text/plain": "            age  housing  education  job\n19990  0.197531      1.0          2   10\n19991  0.296296      1.0          6    3\n19992  0.456790      0.0          6    9\n19993  0.333333      1.0          2    1\n19994  0.518519      0.0          0    5\n19995  0.086420      0.0          6    9\n19996  0.308642      1.0          7    9\n19997  0.172840      0.0          5    9\n19998  0.098765      1.0          5    1\n19999  0.197531      0.0          3    9",
      "text/html": "<div>\n<style scoped>\n    .dataframe tbody tr th:only-of-type {\n        vertical-align: middle;\n    }\n\n    .dataframe tbody tr th {\n        vertical-align: top;\n    }\n\n    .dataframe thead th {\n        text-align: right;\n    }\n</style>\n<table border=\"1\" class=\"dataframe\">\n  <thead>\n    <tr style=\"text-align: right;\">\n      <th></th>\n      <th>age</th>\n      <th>housing</th>\n      <th>education</th>\n      <th>job</th>\n    </tr>\n  </thead>\n  <tbody>\n    <tr>\n      <th>19990</th>\n      <td>0.197531</td>\n      <td>1.0</td>\n      <td>2</td>\n      <td>10</td>\n    </tr>\n    <tr>\n      <th>19991</th>\n      <td>0.296296</td>\n      <td>1.0</td>\n      <td>6</td>\n      <td>3</td>\n    </tr>\n    <tr>\n      <th>19992</th>\n      <td>0.456790</td>\n      <td>0.0</td>\n      <td>6</td>\n      <td>9</td>\n    </tr>\n    <tr>\n      <th>19993</th>\n      <td>0.333333</td>\n      <td>1.0</td>\n      <td>2</td>\n      <td>1</td>\n    </tr>\n    <tr>\n      <th>19994</th>\n      <td>0.518519</td>\n      <td>0.0</td>\n      <td>0</td>\n      <td>5</td>\n    </tr>\n    <tr>\n      <th>19995</th>\n      <td>0.086420</td>\n      <td>0.0</td>\n      <td>6</td>\n      <td>9</td>\n    </tr>\n    <tr>\n      <th>19996</th>\n      <td>0.308642</td>\n      <td>1.0</td>\n      <td>7</td>\n      <td>9</td>\n    </tr>\n    <tr>\n      <th>19997</th>\n      <td>0.172840</td>\n      <td>0.0</td>\n      <td>5</td>\n      <td>9</td>\n    </tr>\n    <tr>\n      <th>19998</th>\n      <td>0.098765</td>\n      <td>1.0</td>\n      <td>5</td>\n      <td>1</td>\n    </tr>\n    <tr>\n      <th>19999</th>\n      <td>0.197531</td>\n      <td>0.0</td>\n      <td>3</td>\n      <td>9</td>\n    </tr>\n  </tbody>\n</table>\n</div>"
     },
     "metadata": {},
     "output_type": "execute_result",
     "execution_count": 68
    }
   ],
   "source": [
    "X.tail(10)"
   ]
  },
  {
   "cell_type": "markdown",
   "metadata": {},
   "source": [
    "これで、正規化が出来ました。"
   ]
  },
  {
   "cell_type": "markdown",
   "metadata": {},
   "source": [
    "### Step 4　識別器の実装\n",
    "ロジスティック回帰の例を参考に、SVM、K-近傍法、決定木、ランダムフォレストを実装しましょう。"
   ]
  },
  {
   "cell_type": "markdown",
   "metadata": {},
   "source": [
    "#### ロジスティック回帰\n",
    "ロジスティック回帰の例を示します。実装にはscikit-learn(http://scikit-learn.org/stable/) の関数を使用します。"
   ]
  },
  {
   "cell_type": "code",
   "execution_count": 69,
   "metadata": {
    "pycharm": {
     "is_executing": false
    }
   },
   "outputs": [],
   "source": [
    "X_train, X_test, y_train, y_test = train_test_split(X, y, test_size=0.1) # 訓練データとテストデータに分割\n",
    "default_acc = {}"
   ]
  },
  {
   "cell_type": "code",
   "execution_count": 70,
   "metadata": {
    "pycharm": {
     "is_executing": false
    }
   },
   "outputs": [
    {
     "name": "stdout",
     "text": [
      "accuracy:0.657\n"
     ],
     "output_type": "stream"
    }
   ],
   "source": [
    "logistic_regression = LogisticRegression() # ロジスティック回帰モデルの作成\n",
    "logistic_regression.fit(X_train, y_train) # 訓練データを使って学習\n",
    "y_pred = logistic_regression.predict(X_test) # 予測値の取得\n",
    "\n",
    "acc = accuracy_score(y_pred=y_pred, y_true=y_test)\n",
    "print(f'accuracy:{acc}') # 精度の計算\n",
    "default_acc['logistic_regression'] = acc"
   ]
  },
  {
   "cell_type": "markdown",
   "metadata": {},
   "source": [
    "上記の LogisticRegression( ) の部分を書き換えて、SVM、K-近傍法、決定木、ランダムフォレストを実装しましょう。"
   ]
  },
  {
   "cell_type": "markdown",
   "metadata": {},
   "source": [
    "#### SVM\n",
    "ここで、SVM (SVC) の実装を行ってください。特徴量も自由に選択して構いません。"
   ]
  },
  {
   "cell_type": "code",
   "execution_count": 71,
   "metadata": {
    "pycharm": {
     "is_executing": false
    }
   },
   "outputs": [
    {
     "name": "stdout",
     "text": [
      "accuracy:0.633\n"
     ],
     "output_type": "stream"
    }
   ],
   "source": [
    "svm = SVC()\n",
    "svm.fit(X_train, y_train)\n",
    "y_pred = svm.predict(X_test)\n",
    "\n",
    "acc = accuracy_score(y_pred=y_pred, y_true=y_test)\n",
    "print(f'accuracy:{acc}') # 精度の計算\n",
    "default_acc['SVC'] = acc"
   ]
  },
  {
   "cell_type": "markdown",
   "metadata": {},
   "source": [
    "#### K-近傍法\n",
    "\n",
    "ここで、K-近傍法 (KNeighborsClassifier) の実装を行ってください。特徴量も自由に選択して構いません。"
   ]
  },
  {
   "cell_type": "code",
   "execution_count": 72,
   "metadata": {
    "pycharm": {
     "is_executing": false
    }
   },
   "outputs": [
    {
     "name": "stdout",
     "text": [
      "accuracy:0.6285\n"
     ],
     "output_type": "stream"
    }
   ],
   "source": [
    "knn = KNeighborsClassifier()\n",
    "knn.fit(X_train, y_train)\n",
    "y_pred = knn.predict(X_test)\n",
    "\n",
    "acc = accuracy_score(y_pred=y_pred, y_true=y_test)\n",
    "print(f'accuracy:{acc}') # 精度の計算\n",
    "default_acc['KNN'] = acc"
   ]
  },
  {
   "cell_type": "markdown",
   "metadata": {},
   "source": [
    "#### 決定木\n",
    "\n",
    "ここで、決定木 (DecisionTreeClassifier) の実装を行ってください。特徴量も自由に選択して構いません。"
   ]
  },
  {
   "cell_type": "code",
   "execution_count": 73,
   "metadata": {
    "pycharm": {
     "is_executing": false
    }
   },
   "outputs": [
    {
     "name": "stdout",
     "text": [
      "accuracy:0.6355",
      "\n"
     ],
     "output_type": "stream"
    }
   ],
   "source": [
    "decision_tree = DecisionTreeClassifier()\n",
    "decision_tree.fit(X_train, y_train)\n",
    "y_pred = decision_tree.predict(X_test)\n",
    "\n",
    "acc = accuracy_score(y_pred=y_pred, y_true=y_test)\n",
    "print(f'accuracy:{acc}') # 精度の計算\n",
    "default_acc['decision_tree'] = acc"
   ]
  },
  {
   "cell_type": "markdown",
   "metadata": {},
   "source": [
    "#### ランダムフォレスト\n",
    "\n",
    "ここで、ランダムフォレスト (RandomForestClassifier) の実装を行ってください。特徴量も自由に選択して構いません。"
   ]
  },
  {
   "cell_type": "code",
   "execution_count": 74,
   "metadata": {
    "pycharm": {
     "is_executing": false
    },
    "scrolled": true
   },
   "outputs": [
    {
     "name": "stdout",
     "text": [
      "accuracy:0.64\n"
     ],
     "output_type": "stream"
    }
   ],
   "source": [
    "random_forest = RandomForestClassifier()\n",
    "random_forest.fit(X_train, y_train)\n",
    "y_pred = random_forest.predict(X_test)\n",
    "\n",
    "acc = accuracy_score(y_pred=y_pred, y_true=y_test)\n",
    "print(f'accuracy:{acc}') # 精度の計算\n",
    "default_acc['random_forest'] = acc"
   ]
  },
  {
   "cell_type": "markdown",
   "source": [
    "#### Additional module: Bagging KNN classifier"
   ],
   "metadata": {
    "collapsed": false
   }
  },
  {
   "cell_type": "code",
   "execution_count": 75,
   "outputs": [
    {
     "name": "stdout",
     "text": [
      "accuracy:0.6325\n"
     ],
     "output_type": "stream"
    }
   ],
   "source": [
    "from sklearn.ensemble import BaggingClassifier\n",
    "bagging_knn = BaggingClassifier(KNeighborsClassifier(), max_samples=0.5, max_features=0.5)\n",
    "bagging_knn.fit(X_train, y_train)\n",
    "y_pred = bagging_knn.predict(X_test)\n",
    "\n",
    "acc = accuracy_score(y_pred=y_pred, y_true=y_test)\n",
    "print(f'accuracy:{acc}') # 精度の計算\n",
    "default_acc['Bagging KNN'] = acc"
   ],
   "metadata": {
    "collapsed": false,
    "pycharm": {
     "name": "#%%\n",
     "is_executing": false
    }
   }
  },
  {
   "cell_type": "markdown",
   "source": [
    "#### Additional module: Naive Bayes"
   ],
   "metadata": {
    "collapsed": false,
    "pycharm": {
     "name": "#%% md\n"
    }
   }
  },
  {
   "cell_type": "code",
   "execution_count": 76,
   "outputs": [
    {
     "name": "stdout",
     "text": [
      "accuracy:0.652\n"
     ],
     "output_type": "stream"
    }
   ],
   "source": [
    "from sklearn.naive_bayes import GaussianNB\n",
    "gnb = GaussianNB()\n",
    "gnb.fit(X_train, y_train)\n",
    "y_pred = gnb.predict(X_test)\n",
    "\n",
    "acc = accuracy_score(y_pred=y_pred, y_true=y_test)\n",
    "print(f'accuracy:{acc}') # 精度の計算\n",
    "default_acc['naive_bayes'] = acc"
   ],
   "metadata": {
    "collapsed": false,
    "pycharm": {
     "name": "#%%\n",
     "is_executing": false
    }
   }
  },
  {
   "cell_type": "markdown",
   "source": [
    "#### Additional module: XGBoost classifier"
   ],
   "metadata": {
    "collapsed": false,
    "pycharm": {
     "name": "#%% md\n"
    }
   }
  },
  {
   "cell_type": "code",
   "execution_count": 77,
   "outputs": [
    {
     "name": "stdout",
     "text": [
      "accuracy:0.6705\n"
     ],
     "output_type": "stream"
    }
   ],
   "source": [
    "import xgboost\n",
    "xgb = xgboost.XGBClassifier()\n",
    "xgb.fit(X_train, y_train)\n",
    "y_pred = xgb.predict(X_test)\n",
    "\n",
    "acc = accuracy_score(y_pred=y_pred, y_true=y_test)\n",
    "print(f'accuracy:{acc}') # 精度の計算\n",
    "default_acc['xgboost'] = acc"
   ],
   "metadata": {
    "collapsed": false,
    "pycharm": {
     "name": "#%%\n",
     "is_executing": false
    }
   }
  },
  {
   "cell_type": "markdown",
   "source": [
    "#### Additional module: GBDT"
   ],
   "metadata": {
    "collapsed": false
   }
  },
  {
   "cell_type": "code",
   "execution_count": 78,
   "outputs": [
    {
     "name": "stdout",
     "text": [
      "accuracy:0.671\n"
     ],
     "output_type": "stream"
    }
   ],
   "source": [
    "from sklearn.ensemble import GradientBoostingClassifier\n",
    "gbdt = GradientBoostingClassifier()\n",
    "gbdt.fit(X_train, y_train)\n",
    "y_pred = gbdt.predict(X_test)\n",
    "\n",
    "acc = accuracy_score(y_pred=y_pred, y_true=y_test)\n",
    "print(f'accuracy:{acc}') # 精度の計算\n",
    "default_acc['GBDT'] = acc"
   ],
   "metadata": {
    "collapsed": false,
    "pycharm": {
     "name": "#%%\n",
     "is_executing": false
    }
   }
  },
  {
   "cell_type": "markdown",
   "source": [
    "#### Additional module: Perceptron"
   ],
   "metadata": {
    "collapsed": false
   }
  },
  {
   "cell_type": "code",
   "execution_count": 79,
   "outputs": [
    {
     "name": "stdout",
     "text": [
      "accuracy:0.59\n"
     ],
     "output_type": "stream"
    }
   ],
   "source": [
    "from sklearn.linear_model import Perceptron\n",
    "perceptron = Perceptron(tol=1e-3, random_state=RAND_SEED)\n",
    "perceptron.fit(X_train, y_train)\n",
    "y_pred = perceptron.predict(X_test)\n",
    "\n",
    "acc = accuracy_score(y_pred=y_pred, y_true=y_test)\n",
    "print(f'accuracy:{acc}') # 精度の計算\n",
    "default_acc['Perceptron'] = acc"
   ],
   "metadata": {
    "collapsed": false,
    "pycharm": {
     "name": "#%%\n",
     "is_executing": false
    }
   }
  },
  {
   "cell_type": "markdown",
   "source": [
    "#### Additional module: SGD"
   ],
   "metadata": {
    "collapsed": false
   }
  },
  {
   "cell_type": "code",
   "execution_count": 80,
   "outputs": [
    {
     "name": "stdout",
     "text": [
      "accuracy:0.6435\n"
     ],
     "output_type": "stream"
    }
   ],
   "source": [
    "from sklearn.linear_model import SGDClassifier\n",
    "sgd = SGDClassifier(max_iter=1000, tol=1e-3)\n",
    "sgd.fit(X_train, y_train)\n",
    "y_pred = sgd.predict(X_test)\n",
    "\n",
    "acc = accuracy_score(y_pred=y_pred, y_true=y_test)\n",
    "print(f'accuracy:{acc}') # 精度の計算\n",
    "default_acc['SGD'] = acc"
   ],
   "metadata": {
    "collapsed": false,
    "pycharm": {
     "name": "#%%\n",
     "is_executing": false
    }
   }
  },
  {
   "cell_type": "markdown",
   "source": [
    "#### Additional module: AdaBoost"
   ],
   "metadata": {
    "collapsed": false
   }
  },
  {
   "cell_type": "code",
   "execution_count": 81,
   "outputs": [
    {
     "name": "stdout",
     "text": [
      "accuracy:0.6695\n"
     ],
     "output_type": "stream"
    }
   ],
   "source": [
    "from sklearn.ensemble import AdaBoostClassifier\n",
    "ada = AdaBoostClassifier(n_estimators=100, random_state=RAND_SEED)\n",
    "ada.fit(X_train, y_train)\n",
    "y_pred = ada.predict(X_test)\n",
    "\n",
    "acc = accuracy_score(y_pred=y_pred, y_true=y_test)\n",
    "print(f'accuracy:{acc}') # 精度の計算\n",
    "default_acc['AdaBoost'] = acc"
   ],
   "metadata": {
    "collapsed": false,
    "pycharm": {
     "name": "#%%\n",
     "is_executing": false
    }
   }
  },
  {
   "cell_type": "markdown",
   "source": [
    "#### Additional module: Voting  "
   ],
   "metadata": {
    "collapsed": false
   }
  },
  {
   "cell_type": "code",
   "execution_count": 82,
   "outputs": [
    {
     "name": "stdout",
     "text": [
      "accuracy:0.67\nAccurate for default classifiers:\n"
     ],
     "output_type": "stream"
    },
    {
     "data": {
      "text/plain": "{'logistic_regression': 0.657,\n 'SVC': 0.633,\n 'KNN': 0.6285,\n 'decision_tree': 0.6355,\n 'random_forest': 0.64,\n 'Bagging KNN': 0.6325,\n 'naive_bayes': 0.652,\n 'xgboost': 0.6705,\n 'GBDT': 0.671,\n 'Perceptron': 0.59,\n 'SGD': 0.6435,\n 'AdaBoost': 0.6695,\n 'Voting': 0.67}"
     },
     "metadata": {},
     "output_type": "execute_result",
     "execution_count": 82
    }
   ],
   "source": [
    "from sklearn.ensemble import VotingClassifier\n",
    "voting = VotingClassifier(estimators={\n",
    "    ('gbdt', gbdt),\n",
    "    ('random_forest', random_forest),\n",
    "    ('logistic_regression', logistic_regression),\n",
    "    #('nb', nb),\n",
    "    ('bagging_knn', bagging_knn),\n",
    "    ('decision_tree', decision_tree),\n",
    "    ('knn', knn),\n",
    "    ('xgb', xgb),\n",
    "    ('ada', ada),\n",
    "    #('svm', svm),\n",
    "    #('perceptron', perceptron),\n",
    "    #('sgd', sgd),\n",
    "}, voting='soft')\n",
    "voting.fit(X_train, y_train)\n",
    "y_pred = voting.predict(X_test)\n",
    "\n",
    "acc = accuracy_score(y_pred=y_pred, y_true=y_test)\n",
    "print(f'accuracy:{acc}') # 精度の計算\n",
    "default_acc['Voting'] = acc\n",
    "print(\"Accurate for default classifiers:\")\n",
    "default_acc"
   ],
   "metadata": {
    "collapsed": false,
    "pycharm": {
     "name": "#%%\n",
     "is_executing": false
    }
   }
  },
  {
   "cell_type": "markdown",
   "metadata": {},
   "source": [
    "# 課題２: モデルの改善を行おう！\n",
    "課題1で作成した各モデルについて、どうすればさらに良い精度を出すことができるのか、パラメータの調整や特徴量の選定などを行いましょう。\n",
    "最後に、この課題において最善と考える特徴量とモデルを述べ、その理由も示してください。\n",
    "\n",
    "まず、選定した特徴量を用いて、課題１で行ったStep1〜Step3 を行いましょう。ただし、Step 2〜Step 3の処理は、preprocessingという関数で定義してください。ここで定義した関数を用いて評価を行います。\n",
    "引数には、読み込んだデータを指定してください。返り値には、前処理を行った後の選定した特徴量 ( X )とmarital ( y )を指定してください。"
   ]
  },
  {
   "cell_type": "code",
   "execution_count": 83,
   "metadata": {
    "pycharm": {
     "is_executing": false,
     "name": "#%%\n"
    }
   },
   "outputs": [],
   "source": [
    "from sklearn.preprocessing import OneHotEncoder, OrdinalEncoder, PolynomialFeatures\n",
    "from sklearn.pipeline import make_pipeline\n",
    "from sklearn.compose import make_column_transformer\n",
    "from sklearn.impute import SimpleImputer"
   ]
  },
  {
   "cell_type": "code",
   "execution_count": 84,
   "metadata": {
    "pycharm": {
     "is_executing": false,
     "name": "#%%\n"
    }
   },
   "outputs": [
    {
     "name": "stdout",
     "text": [
      "acc: 0.6710\n"
     ],
     "output_type": "stream"
    }
   ],
   "source": [
    "### Step 1　　データの読み込み\n",
    "#raw_data.dropna(how='any')\n",
    "raw_data = pd.read_csv('train.csv')\n",
    "train_data, test_data = train_test_split(raw_data, test_size=0.1, random_state=RAND_SEED)\n",
    "num_attrs = [\"age\"]\n",
    "cat_attrs = [\"job\", \"education\", \"default\", \"housing\", \"loan\", \"y\"]\n",
    "feature_attrs = num_attrs + cat_attrs\n",
    "target = [\"marital\"]\n",
    "\n",
    "num_pipeline = make_pipeline(\n",
    "    SimpleImputer(strategy=\"most_frequent\"),\n",
    "    #StandardScaler(),\n",
    "    MinMaxScaler(),\n",
    ")\n",
    "\n",
    "preproc_onehot = make_column_transformer(\n",
    "    (num_pipeline, num_attrs),\n",
    "    (OneHotEncoder(), cat_attrs),\n",
    ")\n",
    "\n",
    "preproc_ordinal = make_column_transformer(\n",
    "    (num_pipeline, num_attrs),\n",
    "    (OrdinalEncoder(), cat_attrs),\n",
    ")\n",
    "\n",
    "full_pipeline = make_pipeline(\n",
    "    preproc_onehot,\n",
    "    ada,\n",
    "    #PolynomialFeatures(degree=2),\n",
    "    #GaussianNB(),\n",
    "    #xgboost.XGBClassifier(random_state=RAND_SEED),\n",
    "    #LogisticRegression(random_state=RAND_SEED),\n",
    "    #SVC(),\n",
    "    #GradientBoostingClassifier()\n",
    "    #voting\n",
    "    #DecisionTreeClassifier(),\n",
    "    #KNeighborsClassifier(),\n",
    ")\n",
    "\n",
    "full_pipeline.fit(train_data[feature_attrs], train_data[target])\n",
    "print(f\"acc: {accuracy_score(full_pipeline.predict(test_data[feature_attrs]), test_data[target]):.4f}\")"
   ]
  },
  {
   "cell_type": "code",
   "execution_count": 85,
   "metadata": {
    "pycharm": {
     "is_executing": false,
     "name": "#%%\n"
    }
   },
   "outputs": [],
   "source": [
    "### 課題１で行ったStep 2〜Step 3を関数として定義してください。\n",
    "def preprocessing(df_train_data):\n",
    "    ### Step 2　　使用する列の抽出\n",
    "    y_ = df_train_data.marital# ラベルデータ\n",
    "    X_ = df_train_data[['age', 'housing']]\n",
    "    \n",
    "    ### Step 3　　特徴量データの前処理\n",
    "    # 欠損値を含むデータの削除\n",
    "    df_temp = pd.concat([y_, X_], axis=1).dropna(how='any')\n",
    "    df_temp.index = range(len(df_temp)) \n",
    "    y = df_temp.marital\n",
    "    X = df_temp[['age', 'housing']]\n",
    "    \n",
    "    # 文字列を数値データへ変換\n",
    "    housing_le = LabelEncoder()\n",
    "    X.housing = housing_le.fit_transform(X.housing)\n",
    "    \n",
    "    # 数値データの正規化\n",
    "    mm_scaler = MinMaxScaler()\n",
    "    X.age = DataFrame(mm_scaler.fit_transform(DataFrame(X.age.copy())))\n",
    "    X.housing = DataFrame(mm_scaler.fit_transform(DataFrame(X.housing.copy())))\n",
    "    \n",
    "    return X, y"
   ]
  },
  {
   "cell_type": "markdown",
   "metadata": {},
   "source": [
    "上記で定義した関数を実行します。"
   ]
  },
  {
   "cell_type": "code",
   "execution_count": 86,
   "metadata": {
    "pycharm": {
     "is_executing": false
    }
   },
   "outputs": [],
   "source": [
    "X, y = preprocessing(df_train_data)"
   ]
  },
  {
   "cell_type": "markdown",
   "metadata": {},
   "source": [
    "次に、この課題における最善なモデルを構築しましょう。課題１で使用したモデル以外を使用しても構いません。\n",
    "下記は、ロジスティック回帰の場合の例です。"
   ]
  },
  {
   "cell_type": "code",
   "execution_count": 87,
   "metadata": {
    "pycharm": {
     "is_executing": false
    }
   },
   "outputs": [],
   "source": [
    "X_train, X_test, y_train, y_test = train_test_split(X, y, test_size=0.1) # 訓練データとテストデータに分割"
   ]
  },
  {
   "cell_type": "code",
   "execution_count": 88,
   "metadata": {
    "pycharm": {
     "is_executing": false
    }
   },
   "outputs": [
    {
     "name": "stdout",
     "text": [
      "accuracy:0.67\n"
     ],
     "output_type": "stream"
    }
   ],
   "source": [
    "logistic_regression = LogisticRegression() # ロジスティック回帰モデルの作成\n",
    "logistic_regression.fit(X_train, y_train) # 訓練データを使って学習\n",
    "y_pred = logistic_regression.predict(X_test) # 予測値の取得\n",
    "print('accuracy:{}'.format(accuracy_score(y_pred=y_pred, y_true=y_test))) # 精度の計算"
   ]
  },
  {
   "cell_type": "markdown",
   "metadata": {},
   "source": [
    "### 考察１\n",
    "この課題において最善と考える特徴量を述べ、その理由も示してください。"
   ]
  },
  {
   "cell_type": "markdown",
   "metadata": {},
   "source": [
    "（ここに記入してください）"
   ]
  },
  {
   "cell_type": "markdown",
   "metadata": {},
   "source": [
    "### 考察２\n",
    "この課題において最善と考えるモデルを述べ、その理由も示してください。"
   ]
  },
  {
   "cell_type": "markdown",
   "metadata": {},
   "source": [
    "（ここに記入してください）"
   ]
  },
  {
   "cell_type": "markdown",
   "metadata": {},
   "source": [
    "最後に、以下の best_model に構築したモデルを記入してください。この best_model を使用して精度評価を行います。"
   ]
  },
  {
   "cell_type": "code",
   "execution_count": 89,
   "metadata": {
    "pycharm": {
     "is_executing": false
    }
   },
   "outputs": [],
   "source": [
    "best_model = logistic_regression     # この例では、ロジスティック回帰を選択したので、logistic_regression を記入しています。\n",
    "pickle.dump(best_model, open('best_model.pkl','wb'))"
   ]
  },
  {
   "cell_type": "markdown",
   "metadata": {},
   "source": [
    "### --------評価用--------\n",
    "ここから下は評価用となります。上の欄にモデルを記入した後は、配布資料に書いてある手順に沿ってファイルを提出してください。"
   ]
  },
  {
   "cell_type": "code",
   "execution_count": 90,
   "metadata": {
    "pycharm": {
     "is_executing": false
    }
   },
   "outputs": [],
   "source": [
    "# df_test_data = pd.read_csv('bank_test.csv')\n",
    "# preprocessing()\n",
    "# X_test = X\n",
    "# y_test = y"
   ]
  },
  {
   "cell_type": "code",
   "execution_count": 91,
   "metadata": {
    "pycharm": {
     "is_executing": false
    }
   },
   "outputs": [],
   "source": [
    "# best2_model = pickle.load(open('best_model.pkl', 'rb'))\n",
    "# y_pred =best2_model.predict(X_test)\n",
    "# print('accuracy:{}'.format(accuracy_score(y_pred=y_pred, y_true=y_test)))"
   ]
  },
  {
   "cell_type": "code",
   "execution_count": 91,
   "metadata": {
    "pycharm": {
     "is_executing": false
    }
   },
   "outputs": [],
   "source": []
  }
 ],
 "metadata": {
  "kernelspec": {
   "display_name": "Python 3",
   "language": "python",
   "name": "python3"
  },
  "language_info": {
   "codemirror_mode": {
    "name": "ipython",
    "version": 3
   },
   "file_extension": ".py",
   "mimetype": "text/x-python",
   "name": "python",
   "nbconvert_exporter": "python",
   "pygments_lexer": "ipython3",
   "version": "3.7.4"
  },
  "pycharm": {
   "stem_cell": {
    "cell_type": "raw",
    "source": [],
    "metadata": {
     "collapsed": false
    }
   }
  }
 },
 "nbformat": 4,
 "nbformat_minor": 2
}