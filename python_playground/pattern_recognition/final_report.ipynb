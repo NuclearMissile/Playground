{
 "cells": [
  {
   "metadata": {},
   "cell_type": "markdown",
   "source": [
    "# 2019年度　パターン認識最終課題\n",
    "\n",
    "パターン認識最終課題では、銀行の顧客に関するデータセットを使って、顧客の婚姻状況を予測するモデルを構築してもらいます。"
   ]
  },
  {
   "metadata": {},
   "cell_type": "markdown",
   "source": [
    "学籍番号と氏名を記入してください。\n",
    "記入例：1811000 先端　太郎"
   ]
  },
  {
   "metadata": {},
   "cell_type": "markdown",
   "source": [
    "1911328 TAO XIANGKUN"
   ]
  },
  {
   "metadata": {},
   "cell_type": "markdown",
   "source": [
    "## 課題１: 色々なモデルを試してみよう！\n",
    "まずは、講義で扱った様々な識別器を試してみましょう。\n",
    "以下に示すロジスティック回帰の例を参考に、指示に従いSVM、K-近傍法、決定木、ランダムフォレストの実装を行ってもらいます。"
   ]
  },
  {
   "metadata": {
    "trusted": true,
    "scrolled": true,
    "pycharm": {
     "is_executing": false
    }
   },
   "cell_type": "code",
   "source": [
    "from IPython.display import display\n",
    "import pandas as pd\n",
    "from pandas import DataFrame, Series\n",
    "import pickle\n",
    "from sklearn.preprocessing import LabelEncoder\n",
    "from sklearn.preprocessing import MinMaxScaler\n",
    "from sklearn.model_selection import train_test_split\n",
    "from sklearn.linear_model import LogisticRegression\n",
    "from sklearn.svm import SVC\n",
    "from sklearn.neighbors import KNeighborsClassifier\n",
    "from sklearn.tree import DecisionTreeClassifier\n",
    "from sklearn.ensemble import RandomForestClassifier\n",
    "from sklearn.metrics import accuracy_score\n",
    "import warnings\n",
    "warnings.filterwarnings('ignore')"
   ],
   "execution_count": 1,
   "outputs": []
  },
  {
   "metadata": {
    "trusted": true,
    "pycharm": {
     "is_executing": false
    }
   },
   "cell_type": "code",
   "source": [
    "%matplotlib inline  \n",
    "import matplotlib.pyplot as plt\n",
    "import numpy as np\n",
    "RAND_SEED = 42"
   ],
   "execution_count": 2,
   "outputs": []
  },
  {
   "metadata": {},
   "cell_type": "markdown",
   "source": [
    "### Step1 データの読み込み\n",
    "まずは、データを読み込みます。"
   ]
  },
  {
   "metadata": {
    "trusted": true,
    "pycharm": {
     "is_executing": false
    }
   },
   "cell_type": "code",
   "source": [
    "df_train_data = pd.read_csv('train.csv')"
   ],
   "execution_count": 3,
   "outputs": []
  },
  {
   "metadata": {
    "scrolled": true,
    "trusted": true,
    "pycharm": {
     "is_executing": false
    }
   },
   "cell_type": "code",
   "source": [
    "df_train_data"
   ],
   "execution_count": 4,
   "outputs": [
    {
     "data": {
      "text/plain": "       age          job   marital            education  default housing loan  \\\n0       58    housemaid   married             basic.4y  unknown     yes   no   \n1       38   technician   married  professional.course       no     yes   no   \n2       81      retired  divorced             basic.4y       no     yes   no   \n3       49  blue-collar   married             basic.6y       no     yes   no   \n4       38   unemployed   married             basic.4y  unknown      no   no   \n...    ...          ...       ...                  ...      ...     ...  ...   \n19995   24   technician    single    university.degree       no      no   no   \n19996   42   technician    single              unknown       no     yes   no   \n19997   31   technician   married  professional.course       no      no   no   \n19998   25  blue-collar   married  professional.course  unknown     yes   no   \n19999   33   technician    single          high.school       no      no   no   \n\n         contact month day_of_week  ...  campaign  pdays  previous  \\\n0       cellular   aug         mon  ...         2    999         0   \n1      telephone   may         tue  ...         1    999         0   \n2       cellular   oct         thu  ...         1    999         1   \n3      telephone   may         fri  ...         2    999         0   \n4      telephone   jun         thu  ...         1    999         0   \n...          ...   ...         ...  ...       ...    ...       ...   \n19995   cellular   jul         thu  ...         3    999         0   \n19996   cellular   aug         tue  ...         1    999         1   \n19997  telephone   may         thu  ...         2    999         0   \n19998  telephone   jun         mon  ...         2    999         0   \n19999   cellular   apr         fri  ...         1    999         0   \n\n          poutcome emp.var.rate  cons.price.idx  cons.conf.idx  euribor3m  \\\n0      nonexistent          1.4          93.444          -36.1      4.970   \n1      nonexistent          1.1          93.994          -36.4      4.856   \n2          failure         -1.1          94.601          -49.5      0.987   \n3      nonexistent          1.1          93.994          -36.4      4.864   \n4      nonexistent          1.4          94.465          -41.8      4.961   \n...            ...          ...             ...            ...        ...   \n19995  nonexistent          1.4          93.918          -42.7      4.968   \n19996      failure         -2.9          92.201          -31.4      0.884   \n19997  nonexistent          1.1          93.994          -36.4      4.860   \n19998  nonexistent          1.4          94.465          -41.8      4.961   \n19999  nonexistent         -1.8          93.075          -47.1      1.405   \n\n       nr.employed    y  \n0           5228.1   no  \n1           5191.0   no  \n2           4963.6   no  \n3           5191.0  yes  \n4           5228.1   no  \n...            ...  ...  \n19995       5228.1   no  \n19996       5076.2   no  \n19997       5191.0   no  \n19998       5228.1   no  \n19999       5099.1  yes  \n\n[20000 rows x 21 columns]",
      "text/html": "<div>\n<style scoped>\n    .dataframe tbody tr th:only-of-type {\n        vertical-align: middle;\n    }\n\n    .dataframe tbody tr th {\n        vertical-align: top;\n    }\n\n    .dataframe thead th {\n        text-align: right;\n    }\n</style>\n<table border=\"1\" class=\"dataframe\">\n  <thead>\n    <tr style=\"text-align: right;\">\n      <th></th>\n      <th>age</th>\n      <th>job</th>\n      <th>marital</th>\n      <th>education</th>\n      <th>default</th>\n      <th>housing</th>\n      <th>loan</th>\n      <th>contact</th>\n      <th>month</th>\n      <th>day_of_week</th>\n      <th>...</th>\n      <th>campaign</th>\n      <th>pdays</th>\n      <th>previous</th>\n      <th>poutcome</th>\n      <th>emp.var.rate</th>\n      <th>cons.price.idx</th>\n      <th>cons.conf.idx</th>\n      <th>euribor3m</th>\n      <th>nr.employed</th>\n      <th>y</th>\n    </tr>\n  </thead>\n  <tbody>\n    <tr>\n      <th>0</th>\n      <td>58</td>\n      <td>housemaid</td>\n      <td>married</td>\n      <td>basic.4y</td>\n      <td>unknown</td>\n      <td>yes</td>\n      <td>no</td>\n      <td>cellular</td>\n      <td>aug</td>\n      <td>mon</td>\n      <td>...</td>\n      <td>2</td>\n      <td>999</td>\n      <td>0</td>\n      <td>nonexistent</td>\n      <td>1.4</td>\n      <td>93.444</td>\n      <td>-36.1</td>\n      <td>4.970</td>\n      <td>5228.1</td>\n      <td>no</td>\n    </tr>\n    <tr>\n      <th>1</th>\n      <td>38</td>\n      <td>technician</td>\n      <td>married</td>\n      <td>professional.course</td>\n      <td>no</td>\n      <td>yes</td>\n      <td>no</td>\n      <td>telephone</td>\n      <td>may</td>\n      <td>tue</td>\n      <td>...</td>\n      <td>1</td>\n      <td>999</td>\n      <td>0</td>\n      <td>nonexistent</td>\n      <td>1.1</td>\n      <td>93.994</td>\n      <td>-36.4</td>\n      <td>4.856</td>\n      <td>5191.0</td>\n      <td>no</td>\n    </tr>\n    <tr>\n      <th>2</th>\n      <td>81</td>\n      <td>retired</td>\n      <td>divorced</td>\n      <td>basic.4y</td>\n      <td>no</td>\n      <td>yes</td>\n      <td>no</td>\n      <td>cellular</td>\n      <td>oct</td>\n      <td>thu</td>\n      <td>...</td>\n      <td>1</td>\n      <td>999</td>\n      <td>1</td>\n      <td>failure</td>\n      <td>-1.1</td>\n      <td>94.601</td>\n      <td>-49.5</td>\n      <td>0.987</td>\n      <td>4963.6</td>\n      <td>no</td>\n    </tr>\n    <tr>\n      <th>3</th>\n      <td>49</td>\n      <td>blue-collar</td>\n      <td>married</td>\n      <td>basic.6y</td>\n      <td>no</td>\n      <td>yes</td>\n      <td>no</td>\n      <td>telephone</td>\n      <td>may</td>\n      <td>fri</td>\n      <td>...</td>\n      <td>2</td>\n      <td>999</td>\n      <td>0</td>\n      <td>nonexistent</td>\n      <td>1.1</td>\n      <td>93.994</td>\n      <td>-36.4</td>\n      <td>4.864</td>\n      <td>5191.0</td>\n      <td>yes</td>\n    </tr>\n    <tr>\n      <th>4</th>\n      <td>38</td>\n      <td>unemployed</td>\n      <td>married</td>\n      <td>basic.4y</td>\n      <td>unknown</td>\n      <td>no</td>\n      <td>no</td>\n      <td>telephone</td>\n      <td>jun</td>\n      <td>thu</td>\n      <td>...</td>\n      <td>1</td>\n      <td>999</td>\n      <td>0</td>\n      <td>nonexistent</td>\n      <td>1.4</td>\n      <td>94.465</td>\n      <td>-41.8</td>\n      <td>4.961</td>\n      <td>5228.1</td>\n      <td>no</td>\n    </tr>\n    <tr>\n      <th>5</th>\n      <td>47</td>\n      <td>admin.</td>\n      <td>single</td>\n      <td>unknown</td>\n      <td>unknown</td>\n      <td>yes</td>\n      <td>no</td>\n      <td>telephone</td>\n      <td>may</td>\n      <td>tue</td>\n      <td>...</td>\n      <td>1</td>\n      <td>999</td>\n      <td>0</td>\n      <td>nonexistent</td>\n      <td>1.1</td>\n      <td>93.994</td>\n      <td>-36.4</td>\n      <td>4.857</td>\n      <td>5191.0</td>\n      <td>no</td>\n    </tr>\n    <tr>\n      <th>6</th>\n      <td>33</td>\n      <td>admin.</td>\n      <td>married</td>\n      <td>university.degree</td>\n      <td>no</td>\n      <td>no</td>\n      <td>yes</td>\n      <td>telephone</td>\n      <td>jun</td>\n      <td>tue</td>\n      <td>...</td>\n      <td>2</td>\n      <td>999</td>\n      <td>0</td>\n      <td>nonexistent</td>\n      <td>1.4</td>\n      <td>94.465</td>\n      <td>-41.8</td>\n      <td>4.961</td>\n      <td>5228.1</td>\n      <td>no</td>\n    </tr>\n    <tr>\n      <th>7</th>\n      <td>31</td>\n      <td>technician</td>\n      <td>single</td>\n      <td>university.degree</td>\n      <td>no</td>\n      <td>yes</td>\n      <td>no</td>\n      <td>cellular</td>\n      <td>jul</td>\n      <td>mon</td>\n      <td>...</td>\n      <td>4</td>\n      <td>999</td>\n      <td>0</td>\n      <td>nonexistent</td>\n      <td>1.4</td>\n      <td>93.918</td>\n      <td>-42.7</td>\n      <td>4.962</td>\n      <td>5228.1</td>\n      <td>no</td>\n    </tr>\n    <tr>\n      <th>8</th>\n      <td>31</td>\n      <td>admin.</td>\n      <td>divorced</td>\n      <td>high.school</td>\n      <td>no</td>\n      <td>no</td>\n      <td>yes</td>\n      <td>cellular</td>\n      <td>jul</td>\n      <td>fri</td>\n      <td>...</td>\n      <td>2</td>\n      <td>999</td>\n      <td>0</td>\n      <td>nonexistent</td>\n      <td>1.4</td>\n      <td>93.918</td>\n      <td>-42.7</td>\n      <td>4.962</td>\n      <td>5228.1</td>\n      <td>no</td>\n    </tr>\n    <tr>\n      <th>9</th>\n      <td>51</td>\n      <td>housemaid</td>\n      <td>married</td>\n      <td>basic.9y</td>\n      <td>no</td>\n      <td>yes</td>\n      <td>no</td>\n      <td>cellular</td>\n      <td>jul</td>\n      <td>tue</td>\n      <td>...</td>\n      <td>1</td>\n      <td>999</td>\n      <td>0</td>\n      <td>nonexistent</td>\n      <td>1.4</td>\n      <td>93.918</td>\n      <td>-42.7</td>\n      <td>4.961</td>\n      <td>5228.1</td>\n      <td>no</td>\n    </tr>\n    <tr>\n      <th>10</th>\n      <td>45</td>\n      <td>services</td>\n      <td>single</td>\n      <td>high.school</td>\n      <td>no</td>\n      <td>no</td>\n      <td>no</td>\n      <td>telephone</td>\n      <td>jun</td>\n      <td>tue</td>\n      <td>...</td>\n      <td>1</td>\n      <td>999</td>\n      <td>0</td>\n      <td>nonexistent</td>\n      <td>1.4</td>\n      <td>94.465</td>\n      <td>-41.8</td>\n      <td>4.864</td>\n      <td>5228.1</td>\n      <td>no</td>\n    </tr>\n    <tr>\n      <th>11</th>\n      <td>54</td>\n      <td>retired</td>\n      <td>married</td>\n      <td>basic.9y</td>\n      <td>unknown</td>\n      <td>yes</td>\n      <td>yes</td>\n      <td>telephone</td>\n      <td>may</td>\n      <td>mon</td>\n      <td>...</td>\n      <td>1</td>\n      <td>999</td>\n      <td>0</td>\n      <td>nonexistent</td>\n      <td>1.1</td>\n      <td>93.994</td>\n      <td>-36.4</td>\n      <td>4.857</td>\n      <td>5191.0</td>\n      <td>no</td>\n    </tr>\n    <tr>\n      <th>12</th>\n      <td>46</td>\n      <td>admin.</td>\n      <td>married</td>\n      <td>university.degree</td>\n      <td>no</td>\n      <td>yes</td>\n      <td>no</td>\n      <td>cellular</td>\n      <td>mar</td>\n      <td>thu</td>\n      <td>...</td>\n      <td>1</td>\n      <td>999</td>\n      <td>0</td>\n      <td>nonexistent</td>\n      <td>-1.8</td>\n      <td>93.369</td>\n      <td>-34.8</td>\n      <td>0.650</td>\n      <td>5008.7</td>\n      <td>yes</td>\n    </tr>\n    <tr>\n      <th>13</th>\n      <td>33</td>\n      <td>services</td>\n      <td>single</td>\n      <td>high.school</td>\n      <td>no</td>\n      <td>no</td>\n      <td>yes</td>\n      <td>telephone</td>\n      <td>may</td>\n      <td>mon</td>\n      <td>...</td>\n      <td>2</td>\n      <td>999</td>\n      <td>0</td>\n      <td>nonexistent</td>\n      <td>1.1</td>\n      <td>93.994</td>\n      <td>-36.4</td>\n      <td>4.858</td>\n      <td>5191.0</td>\n      <td>no</td>\n    </tr>\n    <tr>\n      <th>14</th>\n      <td>40</td>\n      <td>admin.</td>\n      <td>single</td>\n      <td>high.school</td>\n      <td>no</td>\n      <td>no</td>\n      <td>no</td>\n      <td>cellular</td>\n      <td>may</td>\n      <td>tue</td>\n      <td>...</td>\n      <td>6</td>\n      <td>999</td>\n      <td>0</td>\n      <td>nonexistent</td>\n      <td>-1.8</td>\n      <td>92.893</td>\n      <td>-46.2</td>\n      <td>1.344</td>\n      <td>5099.1</td>\n      <td>no</td>\n    </tr>\n    <tr>\n      <th>15</th>\n      <td>31</td>\n      <td>services</td>\n      <td>married</td>\n      <td>high.school</td>\n      <td>unknown</td>\n      <td>no</td>\n      <td>no</td>\n      <td>telephone</td>\n      <td>may</td>\n      <td>wed</td>\n      <td>...</td>\n      <td>2</td>\n      <td>999</td>\n      <td>0</td>\n      <td>nonexistent</td>\n      <td>1.1</td>\n      <td>93.994</td>\n      <td>-36.4</td>\n      <td>4.857</td>\n      <td>5191.0</td>\n      <td>no</td>\n    </tr>\n    <tr>\n      <th>16</th>\n      <td>26</td>\n      <td>admin.</td>\n      <td>single</td>\n      <td>basic.9y</td>\n      <td>no</td>\n      <td>yes</td>\n      <td>yes</td>\n      <td>cellular</td>\n      <td>jul</td>\n      <td>tue</td>\n      <td>...</td>\n      <td>2</td>\n      <td>999</td>\n      <td>0</td>\n      <td>nonexistent</td>\n      <td>1.4</td>\n      <td>93.918</td>\n      <td>-42.7</td>\n      <td>4.962</td>\n      <td>5228.1</td>\n      <td>yes</td>\n    </tr>\n    <tr>\n      <th>17</th>\n      <td>76</td>\n      <td>retired</td>\n      <td>married</td>\n      <td>basic.6y</td>\n      <td>no</td>\n      <td>no</td>\n      <td>yes</td>\n      <td>cellular</td>\n      <td>aug</td>\n      <td>thu</td>\n      <td>...</td>\n      <td>1</td>\n      <td>999</td>\n      <td>1</td>\n      <td>failure</td>\n      <td>-2.9</td>\n      <td>92.201</td>\n      <td>-31.4</td>\n      <td>0.873</td>\n      <td>5076.2</td>\n      <td>no</td>\n    </tr>\n    <tr>\n      <th>18</th>\n      <td>36</td>\n      <td>blue-collar</td>\n      <td>married</td>\n      <td>university.degree</td>\n      <td>unknown</td>\n      <td>yes</td>\n      <td>yes</td>\n      <td>telephone</td>\n      <td>may</td>\n      <td>fri</td>\n      <td>...</td>\n      <td>1</td>\n      <td>999</td>\n      <td>0</td>\n      <td>nonexistent</td>\n      <td>1.1</td>\n      <td>93.994</td>\n      <td>-36.4</td>\n      <td>4.857</td>\n      <td>5191.0</td>\n      <td>no</td>\n    </tr>\n    <tr>\n      <th>19</th>\n      <td>30</td>\n      <td>admin.</td>\n      <td>single</td>\n      <td>university.degree</td>\n      <td>no</td>\n      <td>yes</td>\n      <td>yes</td>\n      <td>telephone</td>\n      <td>nov</td>\n      <td>fri</td>\n      <td>...</td>\n      <td>1</td>\n      <td>999</td>\n      <td>0</td>\n      <td>nonexistent</td>\n      <td>-0.1</td>\n      <td>93.200</td>\n      <td>-42.0</td>\n      <td>4.021</td>\n      <td>5195.8</td>\n      <td>no</td>\n    </tr>\n    <tr>\n      <th>20</th>\n      <td>59</td>\n      <td>management</td>\n      <td>married</td>\n      <td>university.degree</td>\n      <td>no</td>\n      <td>yes</td>\n      <td>no</td>\n      <td>cellular</td>\n      <td>aug</td>\n      <td>wed</td>\n      <td>...</td>\n      <td>1</td>\n      <td>999</td>\n      <td>0</td>\n      <td>nonexistent</td>\n      <td>1.4</td>\n      <td>93.444</td>\n      <td>-36.1</td>\n      <td>4.964</td>\n      <td>5228.1</td>\n      <td>no</td>\n    </tr>\n    <tr>\n      <th>21</th>\n      <td>38</td>\n      <td>housemaid</td>\n      <td>married</td>\n      <td>high.school</td>\n      <td>no</td>\n      <td>no</td>\n      <td>no</td>\n      <td>cellular</td>\n      <td>jul</td>\n      <td>thu</td>\n      <td>...</td>\n      <td>1</td>\n      <td>999</td>\n      <td>0</td>\n      <td>nonexistent</td>\n      <td>1.4</td>\n      <td>93.918</td>\n      <td>-42.7</td>\n      <td>4.963</td>\n      <td>5228.1</td>\n      <td>no</td>\n    </tr>\n    <tr>\n      <th>22</th>\n      <td>58</td>\n      <td>retired</td>\n      <td>married</td>\n      <td>university.degree</td>\n      <td>no</td>\n      <td>no</td>\n      <td>no</td>\n      <td>cellular</td>\n      <td>may</td>\n      <td>wed</td>\n      <td>...</td>\n      <td>1</td>\n      <td>999</td>\n      <td>1</td>\n      <td>failure</td>\n      <td>-1.8</td>\n      <td>92.893</td>\n      <td>-46.2</td>\n      <td>1.281</td>\n      <td>5099.1</td>\n      <td>no</td>\n    </tr>\n    <tr>\n      <th>23</th>\n      <td>42</td>\n      <td>blue-collar</td>\n      <td>divorced</td>\n      <td>basic.4y</td>\n      <td>no</td>\n      <td>no</td>\n      <td>no</td>\n      <td>telephone</td>\n      <td>may</td>\n      <td>fri</td>\n      <td>...</td>\n      <td>1</td>\n      <td>999</td>\n      <td>0</td>\n      <td>nonexistent</td>\n      <td>1.1</td>\n      <td>93.994</td>\n      <td>-36.4</td>\n      <td>4.857</td>\n      <td>5191.0</td>\n      <td>no</td>\n    </tr>\n    <tr>\n      <th>24</th>\n      <td>39</td>\n      <td>admin.</td>\n      <td>married</td>\n      <td>university.degree</td>\n      <td>no</td>\n      <td>no</td>\n      <td>no</td>\n      <td>telephone</td>\n      <td>may</td>\n      <td>mon</td>\n      <td>...</td>\n      <td>6</td>\n      <td>999</td>\n      <td>0</td>\n      <td>nonexistent</td>\n      <td>1.1</td>\n      <td>93.994</td>\n      <td>-36.4</td>\n      <td>4.857</td>\n      <td>5191.0</td>\n      <td>yes</td>\n    </tr>\n    <tr>\n      <th>25</th>\n      <td>47</td>\n      <td>blue-collar</td>\n      <td>married</td>\n      <td>basic.6y</td>\n      <td>unknown</td>\n      <td>yes</td>\n      <td>no</td>\n      <td>cellular</td>\n      <td>may</td>\n      <td>mon</td>\n      <td>...</td>\n      <td>2</td>\n      <td>999</td>\n      <td>0</td>\n      <td>nonexistent</td>\n      <td>-1.8</td>\n      <td>92.893</td>\n      <td>-46.2</td>\n      <td>1.299</td>\n      <td>5099.1</td>\n      <td>no</td>\n    </tr>\n    <tr>\n      <th>26</th>\n      <td>28</td>\n      <td>technician</td>\n      <td>single</td>\n      <td>university.degree</td>\n      <td>no</td>\n      <td>yes</td>\n      <td>no</td>\n      <td>cellular</td>\n      <td>apr</td>\n      <td>fri</td>\n      <td>...</td>\n      <td>1</td>\n      <td>999</td>\n      <td>1</td>\n      <td>failure</td>\n      <td>-1.8</td>\n      <td>93.075</td>\n      <td>-47.1</td>\n      <td>1.405</td>\n      <td>5099.1</td>\n      <td>no</td>\n    </tr>\n    <tr>\n      <th>27</th>\n      <td>34</td>\n      <td>unemployed</td>\n      <td>married</td>\n      <td>unknown</td>\n      <td>no</td>\n      <td>yes</td>\n      <td>no</td>\n      <td>telephone</td>\n      <td>may</td>\n      <td>fri</td>\n      <td>...</td>\n      <td>3</td>\n      <td>999</td>\n      <td>0</td>\n      <td>nonexistent</td>\n      <td>1.1</td>\n      <td>93.994</td>\n      <td>-36.4</td>\n      <td>4.864</td>\n      <td>5191.0</td>\n      <td>no</td>\n    </tr>\n    <tr>\n      <th>28</th>\n      <td>24</td>\n      <td>student</td>\n      <td>single</td>\n      <td>high.school</td>\n      <td>unknown</td>\n      <td>yes</td>\n      <td>no</td>\n      <td>cellular</td>\n      <td>may</td>\n      <td>wed</td>\n      <td>...</td>\n      <td>1</td>\n      <td>999</td>\n      <td>1</td>\n      <td>failure</td>\n      <td>-1.8</td>\n      <td>92.893</td>\n      <td>-46.2</td>\n      <td>1.281</td>\n      <td>5099.1</td>\n      <td>no</td>\n    </tr>\n    <tr>\n      <th>29</th>\n      <td>32</td>\n      <td>technician</td>\n      <td>married</td>\n      <td>professional.course</td>\n      <td>no</td>\n      <td>yes</td>\n      <td>no</td>\n      <td>cellular</td>\n      <td>oct</td>\n      <td>wed</td>\n      <td>...</td>\n      <td>2</td>\n      <td>999</td>\n      <td>0</td>\n      <td>nonexistent</td>\n      <td>-1.1</td>\n      <td>94.601</td>\n      <td>-49.5</td>\n      <td>0.959</td>\n      <td>4963.6</td>\n      <td>yes</td>\n    </tr>\n    <tr>\n      <th>...</th>\n      <td>...</td>\n      <td>...</td>\n      <td>...</td>\n      <td>...</td>\n      <td>...</td>\n      <td>...</td>\n      <td>...</td>\n      <td>...</td>\n      <td>...</td>\n      <td>...</td>\n      <td>...</td>\n      <td>...</td>\n      <td>...</td>\n      <td>...</td>\n      <td>...</td>\n      <td>...</td>\n      <td>...</td>\n      <td>...</td>\n      <td>...</td>\n      <td>...</td>\n      <td>...</td>\n    </tr>\n    <tr>\n      <th>19970</th>\n      <td>51</td>\n      <td>blue-collar</td>\n      <td>married</td>\n      <td>unknown</td>\n      <td>unknown</td>\n      <td>no</td>\n      <td>no</td>\n      <td>telephone</td>\n      <td>may</td>\n      <td>mon</td>\n      <td>...</td>\n      <td>1</td>\n      <td>999</td>\n      <td>0</td>\n      <td>nonexistent</td>\n      <td>1.1</td>\n      <td>93.994</td>\n      <td>-36.4</td>\n      <td>4.857</td>\n      <td>5191.0</td>\n      <td>no</td>\n    </tr>\n    <tr>\n      <th>19971</th>\n      <td>31</td>\n      <td>admin.</td>\n      <td>single</td>\n      <td>high.school</td>\n      <td>no</td>\n      <td>yes</td>\n      <td>no</td>\n      <td>cellular</td>\n      <td>nov</td>\n      <td>wed</td>\n      <td>...</td>\n      <td>3</td>\n      <td>999</td>\n      <td>0</td>\n      <td>nonexistent</td>\n      <td>-0.1</td>\n      <td>93.200</td>\n      <td>-42.0</td>\n      <td>4.120</td>\n      <td>5195.8</td>\n      <td>no</td>\n    </tr>\n    <tr>\n      <th>19972</th>\n      <td>25</td>\n      <td>blue-collar</td>\n      <td>single</td>\n      <td>basic.9y</td>\n      <td>unknown</td>\n      <td>yes</td>\n      <td>no</td>\n      <td>telephone</td>\n      <td>may</td>\n      <td>thu</td>\n      <td>...</td>\n      <td>1</td>\n      <td>999</td>\n      <td>0</td>\n      <td>nonexistent</td>\n      <td>1.1</td>\n      <td>93.994</td>\n      <td>-36.4</td>\n      <td>4.860</td>\n      <td>5191.0</td>\n      <td>no</td>\n    </tr>\n    <tr>\n      <th>19973</th>\n      <td>31</td>\n      <td>admin.</td>\n      <td>single</td>\n      <td>university.degree</td>\n      <td>no</td>\n      <td>yes</td>\n      <td>no</td>\n      <td>cellular</td>\n      <td>jul</td>\n      <td>tue</td>\n      <td>...</td>\n      <td>2</td>\n      <td>999</td>\n      <td>0</td>\n      <td>nonexistent</td>\n      <td>1.4</td>\n      <td>93.918</td>\n      <td>-42.7</td>\n      <td>4.961</td>\n      <td>5228.1</td>\n      <td>no</td>\n    </tr>\n    <tr>\n      <th>19974</th>\n      <td>37</td>\n      <td>management</td>\n      <td>married</td>\n      <td>university.degree</td>\n      <td>no</td>\n      <td>no</td>\n      <td>yes</td>\n      <td>cellular</td>\n      <td>nov</td>\n      <td>wed</td>\n      <td>...</td>\n      <td>2</td>\n      <td>999</td>\n      <td>0</td>\n      <td>nonexistent</td>\n      <td>-0.1</td>\n      <td>93.200</td>\n      <td>-42.0</td>\n      <td>4.120</td>\n      <td>5195.8</td>\n      <td>no</td>\n    </tr>\n    <tr>\n      <th>19975</th>\n      <td>57</td>\n      <td>technician</td>\n      <td>married</td>\n      <td>high.school</td>\n      <td>no</td>\n      <td>no</td>\n      <td>yes</td>\n      <td>cellular</td>\n      <td>may</td>\n      <td>mon</td>\n      <td>...</td>\n      <td>1</td>\n      <td>999</td>\n      <td>0</td>\n      <td>nonexistent</td>\n      <td>-1.8</td>\n      <td>92.893</td>\n      <td>-46.2</td>\n      <td>1.299</td>\n      <td>5099.1</td>\n      <td>no</td>\n    </tr>\n    <tr>\n      <th>19976</th>\n      <td>33</td>\n      <td>services</td>\n      <td>married</td>\n      <td>university.degree</td>\n      <td>unknown</td>\n      <td>yes</td>\n      <td>no</td>\n      <td>cellular</td>\n      <td>aug</td>\n      <td>thu</td>\n      <td>...</td>\n      <td>3</td>\n      <td>999</td>\n      <td>0</td>\n      <td>nonexistent</td>\n      <td>1.4</td>\n      <td>93.444</td>\n      <td>-36.1</td>\n      <td>4.962</td>\n      <td>5228.1</td>\n      <td>no</td>\n    </tr>\n    <tr>\n      <th>19977</th>\n      <td>36</td>\n      <td>blue-collar</td>\n      <td>married</td>\n      <td>high.school</td>\n      <td>no</td>\n      <td>yes</td>\n      <td>no</td>\n      <td>cellular</td>\n      <td>nov</td>\n      <td>thu</td>\n      <td>...</td>\n      <td>2</td>\n      <td>999</td>\n      <td>0</td>\n      <td>nonexistent</td>\n      <td>-0.1</td>\n      <td>93.200</td>\n      <td>-42.0</td>\n      <td>4.076</td>\n      <td>5195.8</td>\n      <td>no</td>\n    </tr>\n    <tr>\n      <th>19978</th>\n      <td>40</td>\n      <td>technician</td>\n      <td>married</td>\n      <td>professional.course</td>\n      <td>no</td>\n      <td>no</td>\n      <td>no</td>\n      <td>cellular</td>\n      <td>aug</td>\n      <td>mon</td>\n      <td>...</td>\n      <td>9</td>\n      <td>999</td>\n      <td>0</td>\n      <td>nonexistent</td>\n      <td>1.4</td>\n      <td>93.444</td>\n      <td>-36.1</td>\n      <td>4.965</td>\n      <td>5228.1</td>\n      <td>no</td>\n    </tr>\n    <tr>\n      <th>19979</th>\n      <td>31</td>\n      <td>technician</td>\n      <td>single</td>\n      <td>university.degree</td>\n      <td>no</td>\n      <td>yes</td>\n      <td>yes</td>\n      <td>telephone</td>\n      <td>nov</td>\n      <td>fri</td>\n      <td>...</td>\n      <td>3</td>\n      <td>999</td>\n      <td>0</td>\n      <td>nonexistent</td>\n      <td>-0.1</td>\n      <td>93.200</td>\n      <td>-42.0</td>\n      <td>4.021</td>\n      <td>5195.8</td>\n      <td>no</td>\n    </tr>\n    <tr>\n      <th>19980</th>\n      <td>28</td>\n      <td>unemployed</td>\n      <td>married</td>\n      <td>high.school</td>\n      <td>unknown</td>\n      <td>no</td>\n      <td>no</td>\n      <td>cellular</td>\n      <td>may</td>\n      <td>tue</td>\n      <td>...</td>\n      <td>1</td>\n      <td>999</td>\n      <td>1</td>\n      <td>failure</td>\n      <td>-1.8</td>\n      <td>92.893</td>\n      <td>-46.2</td>\n      <td>1.291</td>\n      <td>5099.1</td>\n      <td>no</td>\n    </tr>\n    <tr>\n      <th>19981</th>\n      <td>27</td>\n      <td>admin.</td>\n      <td>single</td>\n      <td>high.school</td>\n      <td>no</td>\n      <td>yes</td>\n      <td>no</td>\n      <td>cellular</td>\n      <td>jul</td>\n      <td>tue</td>\n      <td>...</td>\n      <td>2</td>\n      <td>999</td>\n      <td>0</td>\n      <td>nonexistent</td>\n      <td>1.4</td>\n      <td>93.918</td>\n      <td>-42.7</td>\n      <td>4.962</td>\n      <td>5228.1</td>\n      <td>no</td>\n    </tr>\n    <tr>\n      <th>19982</th>\n      <td>32</td>\n      <td>technician</td>\n      <td>married</td>\n      <td>professional.course</td>\n      <td>no</td>\n      <td>no</td>\n      <td>no</td>\n      <td>telephone</td>\n      <td>may</td>\n      <td>wed</td>\n      <td>...</td>\n      <td>2</td>\n      <td>999</td>\n      <td>0</td>\n      <td>nonexistent</td>\n      <td>1.1</td>\n      <td>93.994</td>\n      <td>-36.4</td>\n      <td>4.858</td>\n      <td>5191.0</td>\n      <td>no</td>\n    </tr>\n    <tr>\n      <th>19983</th>\n      <td>44</td>\n      <td>management</td>\n      <td>married</td>\n      <td>high.school</td>\n      <td>unknown</td>\n      <td>no</td>\n      <td>yes</td>\n      <td>cellular</td>\n      <td>jul</td>\n      <td>mon</td>\n      <td>...</td>\n      <td>1</td>\n      <td>999</td>\n      <td>0</td>\n      <td>nonexistent</td>\n      <td>1.4</td>\n      <td>93.918</td>\n      <td>-42.7</td>\n      <td>4.962</td>\n      <td>5228.1</td>\n      <td>no</td>\n    </tr>\n    <tr>\n      <th>19984</th>\n      <td>31</td>\n      <td>management</td>\n      <td>single</td>\n      <td>university.degree</td>\n      <td>no</td>\n      <td>yes</td>\n      <td>no</td>\n      <td>cellular</td>\n      <td>apr</td>\n      <td>thu</td>\n      <td>...</td>\n      <td>1</td>\n      <td>999</td>\n      <td>0</td>\n      <td>nonexistent</td>\n      <td>-1.8</td>\n      <td>93.075</td>\n      <td>-47.1</td>\n      <td>1.365</td>\n      <td>5099.1</td>\n      <td>no</td>\n    </tr>\n    <tr>\n      <th>19985</th>\n      <td>32</td>\n      <td>blue-collar</td>\n      <td>married</td>\n      <td>basic.6y</td>\n      <td>unknown</td>\n      <td>yes</td>\n      <td>no</td>\n      <td>telephone</td>\n      <td>may</td>\n      <td>mon</td>\n      <td>...</td>\n      <td>1</td>\n      <td>999</td>\n      <td>0</td>\n      <td>nonexistent</td>\n      <td>1.1</td>\n      <td>93.994</td>\n      <td>-36.4</td>\n      <td>4.858</td>\n      <td>5191.0</td>\n      <td>no</td>\n    </tr>\n    <tr>\n      <th>19986</th>\n      <td>40</td>\n      <td>services</td>\n      <td>married</td>\n      <td>basic.4y</td>\n      <td>unknown</td>\n      <td>yes</td>\n      <td>no</td>\n      <td>cellular</td>\n      <td>jul</td>\n      <td>wed</td>\n      <td>...</td>\n      <td>1</td>\n      <td>999</td>\n      <td>0</td>\n      <td>nonexistent</td>\n      <td>1.4</td>\n      <td>93.918</td>\n      <td>-42.7</td>\n      <td>4.963</td>\n      <td>5228.1</td>\n      <td>no</td>\n    </tr>\n    <tr>\n      <th>19987</th>\n      <td>53</td>\n      <td>services</td>\n      <td>divorced</td>\n      <td>basic.4y</td>\n      <td>unknown</td>\n      <td>yes</td>\n      <td>no</td>\n      <td>cellular</td>\n      <td>jul</td>\n      <td>wed</td>\n      <td>...</td>\n      <td>1</td>\n      <td>999</td>\n      <td>0</td>\n      <td>nonexistent</td>\n      <td>1.4</td>\n      <td>93.918</td>\n      <td>-42.7</td>\n      <td>4.962</td>\n      <td>5228.1</td>\n      <td>no</td>\n    </tr>\n    <tr>\n      <th>19988</th>\n      <td>42</td>\n      <td>blue-collar</td>\n      <td>married</td>\n      <td>basic.9y</td>\n      <td>unknown</td>\n      <td>yes</td>\n      <td>no</td>\n      <td>cellular</td>\n      <td>jul</td>\n      <td>wed</td>\n      <td>...</td>\n      <td>10</td>\n      <td>999</td>\n      <td>0</td>\n      <td>nonexistent</td>\n      <td>1.4</td>\n      <td>93.918</td>\n      <td>-42.7</td>\n      <td>4.962</td>\n      <td>5228.1</td>\n      <td>no</td>\n    </tr>\n    <tr>\n      <th>19989</th>\n      <td>52</td>\n      <td>admin.</td>\n      <td>married</td>\n      <td>university.degree</td>\n      <td>no</td>\n      <td>yes</td>\n      <td>yes</td>\n      <td>cellular</td>\n      <td>may</td>\n      <td>wed</td>\n      <td>...</td>\n      <td>1</td>\n      <td>999</td>\n      <td>0</td>\n      <td>nonexistent</td>\n      <td>-1.8</td>\n      <td>92.893</td>\n      <td>-46.2</td>\n      <td>1.270</td>\n      <td>5099.1</td>\n      <td>no</td>\n    </tr>\n    <tr>\n      <th>19990</th>\n      <td>33</td>\n      <td>unemployed</td>\n      <td>married</td>\n      <td>basic.9y</td>\n      <td>no</td>\n      <td>yes</td>\n      <td>no</td>\n      <td>telephone</td>\n      <td>may</td>\n      <td>wed</td>\n      <td>...</td>\n      <td>3</td>\n      <td>999</td>\n      <td>0</td>\n      <td>nonexistent</td>\n      <td>1.1</td>\n      <td>93.994</td>\n      <td>-36.4</td>\n      <td>4.858</td>\n      <td>5191.0</td>\n      <td>no</td>\n    </tr>\n    <tr>\n      <th>19991</th>\n      <td>41</td>\n      <td>housemaid</td>\n      <td>married</td>\n      <td>university.degree</td>\n      <td>no</td>\n      <td>yes</td>\n      <td>no</td>\n      <td>cellular</td>\n      <td>aug</td>\n      <td>thu</td>\n      <td>...</td>\n      <td>1</td>\n      <td>999</td>\n      <td>0</td>\n      <td>nonexistent</td>\n      <td>1.4</td>\n      <td>93.444</td>\n      <td>-36.1</td>\n      <td>4.963</td>\n      <td>5228.1</td>\n      <td>no</td>\n    </tr>\n    <tr>\n      <th>19992</th>\n      <td>54</td>\n      <td>technician</td>\n      <td>married</td>\n      <td>university.degree</td>\n      <td>unknown</td>\n      <td>no</td>\n      <td>no</td>\n      <td>telephone</td>\n      <td>jun</td>\n      <td>mon</td>\n      <td>...</td>\n      <td>4</td>\n      <td>999</td>\n      <td>0</td>\n      <td>nonexistent</td>\n      <td>1.4</td>\n      <td>94.465</td>\n      <td>-41.8</td>\n      <td>4.960</td>\n      <td>5228.1</td>\n      <td>no</td>\n    </tr>\n    <tr>\n      <th>19993</th>\n      <td>44</td>\n      <td>blue-collar</td>\n      <td>married</td>\n      <td>basic.9y</td>\n      <td>no</td>\n      <td>yes</td>\n      <td>no</td>\n      <td>cellular</td>\n      <td>jul</td>\n      <td>thu</td>\n      <td>...</td>\n      <td>1</td>\n      <td>999</td>\n      <td>0</td>\n      <td>nonexistent</td>\n      <td>1.4</td>\n      <td>93.918</td>\n      <td>-42.7</td>\n      <td>4.963</td>\n      <td>5228.1</td>\n      <td>no</td>\n    </tr>\n    <tr>\n      <th>19994</th>\n      <td>59</td>\n      <td>retired</td>\n      <td>divorced</td>\n      <td>basic.4y</td>\n      <td>no</td>\n      <td>no</td>\n      <td>no</td>\n      <td>cellular</td>\n      <td>may</td>\n      <td>fri</td>\n      <td>...</td>\n      <td>2</td>\n      <td>999</td>\n      <td>0</td>\n      <td>nonexistent</td>\n      <td>-1.8</td>\n      <td>92.893</td>\n      <td>-46.2</td>\n      <td>1.250</td>\n      <td>5099.1</td>\n      <td>no</td>\n    </tr>\n    <tr>\n      <th>19995</th>\n      <td>24</td>\n      <td>technician</td>\n      <td>single</td>\n      <td>university.degree</td>\n      <td>no</td>\n      <td>no</td>\n      <td>no</td>\n      <td>cellular</td>\n      <td>jul</td>\n      <td>thu</td>\n      <td>...</td>\n      <td>3</td>\n      <td>999</td>\n      <td>0</td>\n      <td>nonexistent</td>\n      <td>1.4</td>\n      <td>93.918</td>\n      <td>-42.7</td>\n      <td>4.968</td>\n      <td>5228.1</td>\n      <td>no</td>\n    </tr>\n    <tr>\n      <th>19996</th>\n      <td>42</td>\n      <td>technician</td>\n      <td>single</td>\n      <td>unknown</td>\n      <td>no</td>\n      <td>yes</td>\n      <td>no</td>\n      <td>cellular</td>\n      <td>aug</td>\n      <td>tue</td>\n      <td>...</td>\n      <td>1</td>\n      <td>999</td>\n      <td>1</td>\n      <td>failure</td>\n      <td>-2.9</td>\n      <td>92.201</td>\n      <td>-31.4</td>\n      <td>0.884</td>\n      <td>5076.2</td>\n      <td>no</td>\n    </tr>\n    <tr>\n      <th>19997</th>\n      <td>31</td>\n      <td>technician</td>\n      <td>married</td>\n      <td>professional.course</td>\n      <td>no</td>\n      <td>no</td>\n      <td>no</td>\n      <td>telephone</td>\n      <td>may</td>\n      <td>thu</td>\n      <td>...</td>\n      <td>2</td>\n      <td>999</td>\n      <td>0</td>\n      <td>nonexistent</td>\n      <td>1.1</td>\n      <td>93.994</td>\n      <td>-36.4</td>\n      <td>4.860</td>\n      <td>5191.0</td>\n      <td>no</td>\n    </tr>\n    <tr>\n      <th>19998</th>\n      <td>25</td>\n      <td>blue-collar</td>\n      <td>married</td>\n      <td>professional.course</td>\n      <td>unknown</td>\n      <td>yes</td>\n      <td>no</td>\n      <td>telephone</td>\n      <td>jun</td>\n      <td>mon</td>\n      <td>...</td>\n      <td>2</td>\n      <td>999</td>\n      <td>0</td>\n      <td>nonexistent</td>\n      <td>1.4</td>\n      <td>94.465</td>\n      <td>-41.8</td>\n      <td>4.961</td>\n      <td>5228.1</td>\n      <td>no</td>\n    </tr>\n    <tr>\n      <th>19999</th>\n      <td>33</td>\n      <td>technician</td>\n      <td>single</td>\n      <td>high.school</td>\n      <td>no</td>\n      <td>no</td>\n      <td>no</td>\n      <td>cellular</td>\n      <td>apr</td>\n      <td>fri</td>\n      <td>...</td>\n      <td>1</td>\n      <td>999</td>\n      <td>0</td>\n      <td>nonexistent</td>\n      <td>-1.8</td>\n      <td>93.075</td>\n      <td>-47.1</td>\n      <td>1.405</td>\n      <td>5099.1</td>\n      <td>yes</td>\n    </tr>\n  </tbody>\n</table>\n<p>20000 rows × 21 columns</p>\n</div>"
     },
     "metadata": {},
     "output_type": "execute_result",
     "execution_count": 4
    }
   ]
  },
  {
   "metadata": {},
   "cell_type": "markdown",
   "source": [
    "今回は、この中で、marital（婚姻状況）を予測するモデルの構築を行ってもらいます。"
   ]
  },
  {
   "metadata": {},
   "cell_type": "markdown",
   "source": [
    "### Step 2　使用する列の抽出\n",
    "次に、使用する列だけを取り出します。　今回はmaritalと、予測に使えそうな age, housing を取り出します。"
   ]
  },
  {
   "metadata": {
    "trusted": true,
    "pycharm": {
     "is_executing": false
    }
   },
   "cell_type": "code",
   "source": [
    "y_ = df_train_data.marital# ラベルデータ\n",
    "y_.value_counts()"
   ],
   "execution_count": 5,
   "outputs": [
    {
     "data": {
      "text/plain": "married     12141\nsingle       5605\ndivorced     2254\nName: marital, dtype: int64"
     },
     "metadata": {},
     "output_type": "execute_result",
     "execution_count": 5
    }
   ]
  },
  {
   "metadata": {
    "trusted": true,
    "pycharm": {
     "is_executing": false
    }
   },
   "cell_type": "code",
   "source": [
    "DataFrame(y_).head(10)"
   ],
   "execution_count": 6,
   "outputs": [
    {
     "data": {
      "text/plain": "    marital\n0   married\n1   married\n2  divorced\n3   married\n4   married\n5    single\n6   married\n7    single\n8  divorced\n9   married",
      "text/html": "<div>\n<style scoped>\n    .dataframe tbody tr th:only-of-type {\n        vertical-align: middle;\n    }\n\n    .dataframe tbody tr th {\n        vertical-align: top;\n    }\n\n    .dataframe thead th {\n        text-align: right;\n    }\n</style>\n<table border=\"1\" class=\"dataframe\">\n  <thead>\n    <tr style=\"text-align: right;\">\n      <th></th>\n      <th>marital</th>\n    </tr>\n  </thead>\n  <tbody>\n    <tr>\n      <th>0</th>\n      <td>married</td>\n    </tr>\n    <tr>\n      <th>1</th>\n      <td>married</td>\n    </tr>\n    <tr>\n      <th>2</th>\n      <td>divorced</td>\n    </tr>\n    <tr>\n      <th>3</th>\n      <td>married</td>\n    </tr>\n    <tr>\n      <th>4</th>\n      <td>married</td>\n    </tr>\n    <tr>\n      <th>5</th>\n      <td>single</td>\n    </tr>\n    <tr>\n      <th>6</th>\n      <td>married</td>\n    </tr>\n    <tr>\n      <th>7</th>\n      <td>single</td>\n    </tr>\n    <tr>\n      <th>8</th>\n      <td>divorced</td>\n    </tr>\n    <tr>\n      <th>9</th>\n      <td>married</td>\n    </tr>\n  </tbody>\n</table>\n</div>"
     },
     "metadata": {},
     "output_type": "execute_result",
     "execution_count": 6
    }
   ]
  },
  {
   "metadata": {},
   "cell_type": "markdown",
   "source": [
    "ラベルデータの上位10件を表示しました。"
   ]
  },
  {
   "metadata": {
    "trusted": true,
    "pycharm": {
     "is_executing": false
    }
   },
   "cell_type": "code",
   "source": [
    "X_ = df_train_data[['age', 'housing']]"
   ],
   "execution_count": 7,
   "outputs": []
  },
  {
   "metadata": {
    "scrolled": true,
    "trusted": true,
    "pycharm": {
     "is_executing": false
    }
   },
   "cell_type": "code",
   "source": [
    "X_.head(10)"
   ],
   "execution_count": 8,
   "outputs": [
    {
     "data": {
      "text/plain": "   age housing\n0   58     yes\n1   38     yes\n2   81     yes\n3   49     yes\n4   38      no\n5   47     yes\n6   33      no\n7   31     yes\n8   31      no\n9   51     yes",
      "text/html": "<div>\n<style scoped>\n    .dataframe tbody tr th:only-of-type {\n        vertical-align: middle;\n    }\n\n    .dataframe tbody tr th {\n        vertical-align: top;\n    }\n\n    .dataframe thead th {\n        text-align: right;\n    }\n</style>\n<table border=\"1\" class=\"dataframe\">\n  <thead>\n    <tr style=\"text-align: right;\">\n      <th></th>\n      <th>age</th>\n      <th>housing</th>\n    </tr>\n  </thead>\n  <tbody>\n    <tr>\n      <th>0</th>\n      <td>58</td>\n      <td>yes</td>\n    </tr>\n    <tr>\n      <th>1</th>\n      <td>38</td>\n      <td>yes</td>\n    </tr>\n    <tr>\n      <th>2</th>\n      <td>81</td>\n      <td>yes</td>\n    </tr>\n    <tr>\n      <th>3</th>\n      <td>49</td>\n      <td>yes</td>\n    </tr>\n    <tr>\n      <th>4</th>\n      <td>38</td>\n      <td>no</td>\n    </tr>\n    <tr>\n      <th>5</th>\n      <td>47</td>\n      <td>yes</td>\n    </tr>\n    <tr>\n      <th>6</th>\n      <td>33</td>\n      <td>no</td>\n    </tr>\n    <tr>\n      <th>7</th>\n      <td>31</td>\n      <td>yes</td>\n    </tr>\n    <tr>\n      <th>8</th>\n      <td>31</td>\n      <td>no</td>\n    </tr>\n    <tr>\n      <th>9</th>\n      <td>51</td>\n      <td>yes</td>\n    </tr>\n  </tbody>\n</table>\n</div>"
     },
     "metadata": {},
     "output_type": "execute_result",
     "execution_count": 8
    }
   ]
  },
  {
   "metadata": {},
   "cell_type": "markdown",
   "source": [
    "特徴量データの上位10件を表示しました。"
   ]
  },
  {
   "metadata": {},
   "cell_type": "markdown",
   "source": [
    "### Step3　特徴量データの前処理\n",
    "識別器での学習を行う前に、特徴量を適切な形へ変換する必要があります。\n",
    "その過程を見ていきましょう。"
   ]
  },
  {
   "metadata": {},
   "cell_type": "markdown",
   "source": [
    "まず、欠損値を含むデータの扱いですが、本課題では、簡単のため単純に削除する手法を取ります。"
   ]
  },
  {
   "metadata": {
    "trusted": true,
    "pycharm": {
     "is_executing": false
    }
   },
   "cell_type": "code",
   "source": [
    "df_temp = pd.concat([y_, X_], axis=1).dropna(how='any')# 欠損値を含むデータの削除\n",
    "df_temp.index = range(len(df_temp)) \n",
    "y = df_temp.marital\n",
    "X = df_temp[['age', 'housing']]"
   ],
   "execution_count": 9,
   "outputs": []
  },
  {
   "metadata": {},
   "cell_type": "markdown",
   "source": [
    "次に、housing 列は文字列であるため、数値に変換してあげる必要があります。ここでは、yes = 2, unknown = 1, no = 0 として変換します。"
   ]
  },
  {
   "metadata": {
    "trusted": true,
    "pycharm": {
     "is_executing": false
    }
   },
   "cell_type": "code",
   "source": [
    "X.tail(10)"
   ],
   "execution_count": 10,
   "outputs": [
    {
     "data": {
      "text/plain": "       age housing\n19990   33     yes\n19991   41     yes\n19992   54      no\n19993   44     yes\n19994   59      no\n19995   24      no\n19996   42     yes\n19997   31      no\n19998   25     yes\n19999   33      no",
      "text/html": "<div>\n<style scoped>\n    .dataframe tbody tr th:only-of-type {\n        vertical-align: middle;\n    }\n\n    .dataframe tbody tr th {\n        vertical-align: top;\n    }\n\n    .dataframe thead th {\n        text-align: right;\n    }\n</style>\n<table border=\"1\" class=\"dataframe\">\n  <thead>\n    <tr style=\"text-align: right;\">\n      <th></th>\n      <th>age</th>\n      <th>housing</th>\n    </tr>\n  </thead>\n  <tbody>\n    <tr>\n      <th>19990</th>\n      <td>33</td>\n      <td>yes</td>\n    </tr>\n    <tr>\n      <th>19991</th>\n      <td>41</td>\n      <td>yes</td>\n    </tr>\n    <tr>\n      <th>19992</th>\n      <td>54</td>\n      <td>no</td>\n    </tr>\n    <tr>\n      <th>19993</th>\n      <td>44</td>\n      <td>yes</td>\n    </tr>\n    <tr>\n      <th>19994</th>\n      <td>59</td>\n      <td>no</td>\n    </tr>\n    <tr>\n      <th>19995</th>\n      <td>24</td>\n      <td>no</td>\n    </tr>\n    <tr>\n      <th>19996</th>\n      <td>42</td>\n      <td>yes</td>\n    </tr>\n    <tr>\n      <th>19997</th>\n      <td>31</td>\n      <td>no</td>\n    </tr>\n    <tr>\n      <th>19998</th>\n      <td>25</td>\n      <td>yes</td>\n    </tr>\n    <tr>\n      <th>19999</th>\n      <td>33</td>\n      <td>no</td>\n    </tr>\n  </tbody>\n</table>\n</div>"
     },
     "metadata": {},
     "output_type": "execute_result",
     "execution_count": 10
    }
   ]
  },
  {
   "metadata": {
    "trusted": true,
    "pycharm": {
     "is_executing": false
    }
   },
   "cell_type": "code",
   "source": [
    "housing_le = LabelEncoder()\n",
    "X.housing = housing_le.fit_transform(X.housing)"
   ],
   "execution_count": 11,
   "outputs": []
  },
  {
   "metadata": {
    "trusted": true,
    "pycharm": {
     "is_executing": false
    }
   },
   "cell_type": "code",
   "source": [
    "X.tail(10)"
   ],
   "execution_count": 12,
   "outputs": [
    {
     "data": {
      "text/plain": "       age  housing\n19990   33        2\n19991   41        2\n19992   54        0\n19993   44        2\n19994   59        0\n19995   24        0\n19996   42        2\n19997   31        0\n19998   25        2\n19999   33        0",
      "text/html": "<div>\n<style scoped>\n    .dataframe tbody tr th:only-of-type {\n        vertical-align: middle;\n    }\n\n    .dataframe tbody tr th {\n        vertical-align: top;\n    }\n\n    .dataframe thead th {\n        text-align: right;\n    }\n</style>\n<table border=\"1\" class=\"dataframe\">\n  <thead>\n    <tr style=\"text-align: right;\">\n      <th></th>\n      <th>age</th>\n      <th>housing</th>\n    </tr>\n  </thead>\n  <tbody>\n    <tr>\n      <th>19990</th>\n      <td>33</td>\n      <td>2</td>\n    </tr>\n    <tr>\n      <th>19991</th>\n      <td>41</td>\n      <td>2</td>\n    </tr>\n    <tr>\n      <th>19992</th>\n      <td>54</td>\n      <td>0</td>\n    </tr>\n    <tr>\n      <th>19993</th>\n      <td>44</td>\n      <td>2</td>\n    </tr>\n    <tr>\n      <th>19994</th>\n      <td>59</td>\n      <td>0</td>\n    </tr>\n    <tr>\n      <th>19995</th>\n      <td>24</td>\n      <td>0</td>\n    </tr>\n    <tr>\n      <th>19996</th>\n      <td>42</td>\n      <td>2</td>\n    </tr>\n    <tr>\n      <th>19997</th>\n      <td>31</td>\n      <td>0</td>\n    </tr>\n    <tr>\n      <th>19998</th>\n      <td>25</td>\n      <td>2</td>\n    </tr>\n    <tr>\n      <th>19999</th>\n      <td>33</td>\n      <td>0</td>\n    </tr>\n  </tbody>\n</table>\n</div>"
     },
     "metadata": {},
     "output_type": "execute_result",
     "execution_count": 12
    }
   ]
  },
  {
   "metadata": {},
   "cell_type": "markdown",
   "source": [
    "これで、数値データに置き換えられました。\n"
   ]
  },
  {
   "metadata": {},
   "cell_type": "markdown",
   "source": [
    "最後に、それぞれの特徴量の数値の変動量に差による影響力の差を排除するため、正規化を行います。"
   ]
  },
  {
   "metadata": {
    "trusted": true,
    "pycharm": {
     "is_executing": false
    }
   },
   "cell_type": "code",
   "source": [
    "mm_scaler = MinMaxScaler()"
   ],
   "execution_count": 13,
   "outputs": []
  },
  {
   "metadata": {
    "trusted": true,
    "pycharm": {
     "is_executing": false
    }
   },
   "cell_type": "code",
   "source": [
    "X.age = DataFrame(mm_scaler.fit_transform(DataFrame(X.age.copy())))\n",
    "X.housing = DataFrame(mm_scaler.fit_transform(DataFrame(X.housing.copy())))"
   ],
   "execution_count": 14,
   "outputs": []
  },
  {
   "metadata": {
    "trusted": true,
    "pycharm": {
     "is_executing": false
    }
   },
   "cell_type": "code",
   "source": [
    "X.tail(10)"
   ],
   "execution_count": 15,
   "outputs": [
    {
     "data": {
      "text/plain": "            age  housing\n19990  0.197531      1.0\n19991  0.296296      1.0\n19992  0.456790      0.0\n19993  0.333333      1.0\n19994  0.518519      0.0\n19995  0.086420      0.0\n19996  0.308642      1.0\n19997  0.172840      0.0\n19998  0.098765      1.0\n19999  0.197531      0.0",
      "text/html": "<div>\n<style scoped>\n    .dataframe tbody tr th:only-of-type {\n        vertical-align: middle;\n    }\n\n    .dataframe tbody tr th {\n        vertical-align: top;\n    }\n\n    .dataframe thead th {\n        text-align: right;\n    }\n</style>\n<table border=\"1\" class=\"dataframe\">\n  <thead>\n    <tr style=\"text-align: right;\">\n      <th></th>\n      <th>age</th>\n      <th>housing</th>\n    </tr>\n  </thead>\n  <tbody>\n    <tr>\n      <th>19990</th>\n      <td>0.197531</td>\n      <td>1.0</td>\n    </tr>\n    <tr>\n      <th>19991</th>\n      <td>0.296296</td>\n      <td>1.0</td>\n    </tr>\n    <tr>\n      <th>19992</th>\n      <td>0.456790</td>\n      <td>0.0</td>\n    </tr>\n    <tr>\n      <th>19993</th>\n      <td>0.333333</td>\n      <td>1.0</td>\n    </tr>\n    <tr>\n      <th>19994</th>\n      <td>0.518519</td>\n      <td>0.0</td>\n    </tr>\n    <tr>\n      <th>19995</th>\n      <td>0.086420</td>\n      <td>0.0</td>\n    </tr>\n    <tr>\n      <th>19996</th>\n      <td>0.308642</td>\n      <td>1.0</td>\n    </tr>\n    <tr>\n      <th>19997</th>\n      <td>0.172840</td>\n      <td>0.0</td>\n    </tr>\n    <tr>\n      <th>19998</th>\n      <td>0.098765</td>\n      <td>1.0</td>\n    </tr>\n    <tr>\n      <th>19999</th>\n      <td>0.197531</td>\n      <td>0.0</td>\n    </tr>\n  </tbody>\n</table>\n</div>"
     },
     "metadata": {},
     "output_type": "execute_result",
     "execution_count": 15
    }
   ]
  },
  {
   "metadata": {
    "trusted": true,
    "pycharm": {
     "is_executing": false
    }
   },
   "cell_type": "code",
   "source": [
    "corr_matrix = df_train_data.corr()\n",
    "corr_matrix"
   ],
   "execution_count": 16,
   "outputs": [
    {
     "data": {
      "text/plain": "                     age  duration  campaign     pdays  previous  \\\nage             1.000000 -0.001981  0.001139 -0.033538  0.030655   \nduration       -0.001981  1.000000 -0.079311 -0.055623  0.024289   \ncampaign        0.001139 -0.079311  1.000000  0.053380 -0.085257   \npdays          -0.033538 -0.055623  0.053380  1.000000 -0.583960   \nprevious        0.030655  0.024289 -0.085257 -0.583960  1.000000   \nemp.var.rate   -0.003295 -0.026916  0.152034  0.274540 -0.416364   \ncons.price.idx  0.001105  0.007208  0.127470  0.088246 -0.203703   \ncons.conf.idx   0.132916 -0.010322 -0.011999 -0.099142 -0.047142   \neuribor3m       0.006620 -0.031737  0.136701  0.299105 -0.450483   \nnr.employed    -0.023959 -0.043264  0.146309  0.372320 -0.497369   \n\n                emp.var.rate  cons.price.idx  cons.conf.idx  euribor3m  \\\nage                -0.003295        0.001105       0.132916   0.006620   \nduration           -0.026916        0.007208      -0.010322  -0.031737   \ncampaign            0.152034        0.127470      -0.011999   0.136701   \npdays               0.274540        0.088246      -0.099142   0.299105   \nprevious           -0.416364       -0.203703      -0.047142  -0.450483   \nemp.var.rate        1.000000        0.778441       0.199756   0.972247   \ncons.price.idx      0.778441        1.000000       0.064870   0.691625   \ncons.conf.idx       0.199756        0.064870       1.000000   0.281889   \neuribor3m           0.972247        0.691625       0.281889   1.000000   \nnr.employed         0.907525        0.527034       0.102882   0.945055   \n\n                nr.employed  \nage               -0.023959  \nduration          -0.043264  \ncampaign           0.146309  \npdays              0.372320  \nprevious          -0.497369  \nemp.var.rate       0.907525  \ncons.price.idx     0.527034  \ncons.conf.idx      0.102882  \neuribor3m          0.945055  \nnr.employed        1.000000  ",
      "text/html": "<div>\n<style scoped>\n    .dataframe tbody tr th:only-of-type {\n        vertical-align: middle;\n    }\n\n    .dataframe tbody tr th {\n        vertical-align: top;\n    }\n\n    .dataframe thead th {\n        text-align: right;\n    }\n</style>\n<table border=\"1\" class=\"dataframe\">\n  <thead>\n    <tr style=\"text-align: right;\">\n      <th></th>\n      <th>age</th>\n      <th>duration</th>\n      <th>campaign</th>\n      <th>pdays</th>\n      <th>previous</th>\n      <th>emp.var.rate</th>\n      <th>cons.price.idx</th>\n      <th>cons.conf.idx</th>\n      <th>euribor3m</th>\n      <th>nr.employed</th>\n    </tr>\n  </thead>\n  <tbody>\n    <tr>\n      <th>age</th>\n      <td>1.000000</td>\n      <td>-0.001981</td>\n      <td>0.001139</td>\n      <td>-0.033538</td>\n      <td>0.030655</td>\n      <td>-0.003295</td>\n      <td>0.001105</td>\n      <td>0.132916</td>\n      <td>0.006620</td>\n      <td>-0.023959</td>\n    </tr>\n    <tr>\n      <th>duration</th>\n      <td>-0.001981</td>\n      <td>1.000000</td>\n      <td>-0.079311</td>\n      <td>-0.055623</td>\n      <td>0.024289</td>\n      <td>-0.026916</td>\n      <td>0.007208</td>\n      <td>-0.010322</td>\n      <td>-0.031737</td>\n      <td>-0.043264</td>\n    </tr>\n    <tr>\n      <th>campaign</th>\n      <td>0.001139</td>\n      <td>-0.079311</td>\n      <td>1.000000</td>\n      <td>0.053380</td>\n      <td>-0.085257</td>\n      <td>0.152034</td>\n      <td>0.127470</td>\n      <td>-0.011999</td>\n      <td>0.136701</td>\n      <td>0.146309</td>\n    </tr>\n    <tr>\n      <th>pdays</th>\n      <td>-0.033538</td>\n      <td>-0.055623</td>\n      <td>0.053380</td>\n      <td>1.000000</td>\n      <td>-0.583960</td>\n      <td>0.274540</td>\n      <td>0.088246</td>\n      <td>-0.099142</td>\n      <td>0.299105</td>\n      <td>0.372320</td>\n    </tr>\n    <tr>\n      <th>previous</th>\n      <td>0.030655</td>\n      <td>0.024289</td>\n      <td>-0.085257</td>\n      <td>-0.583960</td>\n      <td>1.000000</td>\n      <td>-0.416364</td>\n      <td>-0.203703</td>\n      <td>-0.047142</td>\n      <td>-0.450483</td>\n      <td>-0.497369</td>\n    </tr>\n    <tr>\n      <th>emp.var.rate</th>\n      <td>-0.003295</td>\n      <td>-0.026916</td>\n      <td>0.152034</td>\n      <td>0.274540</td>\n      <td>-0.416364</td>\n      <td>1.000000</td>\n      <td>0.778441</td>\n      <td>0.199756</td>\n      <td>0.972247</td>\n      <td>0.907525</td>\n    </tr>\n    <tr>\n      <th>cons.price.idx</th>\n      <td>0.001105</td>\n      <td>0.007208</td>\n      <td>0.127470</td>\n      <td>0.088246</td>\n      <td>-0.203703</td>\n      <td>0.778441</td>\n      <td>1.000000</td>\n      <td>0.064870</td>\n      <td>0.691625</td>\n      <td>0.527034</td>\n    </tr>\n    <tr>\n      <th>cons.conf.idx</th>\n      <td>0.132916</td>\n      <td>-0.010322</td>\n      <td>-0.011999</td>\n      <td>-0.099142</td>\n      <td>-0.047142</td>\n      <td>0.199756</td>\n      <td>0.064870</td>\n      <td>1.000000</td>\n      <td>0.281889</td>\n      <td>0.102882</td>\n    </tr>\n    <tr>\n      <th>euribor3m</th>\n      <td>0.006620</td>\n      <td>-0.031737</td>\n      <td>0.136701</td>\n      <td>0.299105</td>\n      <td>-0.450483</td>\n      <td>0.972247</td>\n      <td>0.691625</td>\n      <td>0.281889</td>\n      <td>1.000000</td>\n      <td>0.945055</td>\n    </tr>\n    <tr>\n      <th>nr.employed</th>\n      <td>-0.023959</td>\n      <td>-0.043264</td>\n      <td>0.146309</td>\n      <td>0.372320</td>\n      <td>-0.497369</td>\n      <td>0.907525</td>\n      <td>0.527034</td>\n      <td>0.102882</td>\n      <td>0.945055</td>\n      <td>1.000000</td>\n    </tr>\n  </tbody>\n</table>\n</div>"
     },
     "metadata": {},
     "output_type": "execute_result",
     "execution_count": 16
    }
   ]
  },
  {
   "metadata": {},
   "cell_type": "markdown",
   "source": [
    "これで、正規化が出来ました。"
   ]
  },
  {
   "metadata": {},
   "cell_type": "markdown",
   "source": [
    "### Step 4　識別器の実装\n",
    "ロジスティック回帰の例を参考に、SVM、K-近傍法、決定木、ランダムフォレストを実装しましょう。"
   ]
  },
  {
   "metadata": {},
   "cell_type": "markdown",
   "source": [
    "#### ロジスティック回帰\n",
    "ロジスティック回帰の例を示します。実装にはscikit-learn(http://scikit-learn.org/stable/) の関数を使用します。"
   ]
  },
  {
   "metadata": {
    "trusted": true,
    "pycharm": {
     "is_executing": false
    }
   },
   "cell_type": "code",
   "source": [
    "X_train, X_test, y_train, y_test = train_test_split(X, y, test_size=0.1) # 訓練データとテストデータに分割"
   ],
   "execution_count": 17,
   "outputs": []
  },
  {
   "metadata": {
    "trusted": true,
    "pycharm": {
     "is_executing": false
    }
   },
   "cell_type": "code",
   "source": [
    "logistic_regression = LogisticRegression() # ロジスティック回帰モデルの作成\n",
    "logistic_regression.fit(X_train, y_train) # 訓練データを使って学習\n",
    "y_pred = logistic_regression.predict(X_test) # 予測値の取得\n",
    "\n",
    "print('accuracy:{}'.format(accuracy_score(y_pred=y_pred, y_true=y_test))) # 精度の計算"
   ],
   "execution_count": 18,
   "outputs": [
    {
     "name": "stdout",
     "text": [
      "accuracy:0.6705\n"
     ],
     "output_type": "stream"
    }
   ]
  },
  {
   "metadata": {},
   "cell_type": "markdown",
   "source": [
    "上記の LogisticRegression( ) の部分を書き換えて、SVM、K-近傍法、決定木、ランダムフォレストを実装しましょう。"
   ]
  },
  {
   "metadata": {},
   "cell_type": "markdown",
   "source": [
    "#### SVM\n",
    "ここで、SVM (SVC) の実装を行ってください。特徴量も自由に選択して構いません。"
   ]
  },
  {
   "metadata": {
    "trusted": true,
    "pycharm": {
     "is_executing": false
    }
   },
   "cell_type": "code",
   "source": [
    "svm = SVC()\n",
    "svm.fit(X_train, y_train)\n",
    "y_pred = svm.predict(X_test)\n",
    "\n",
    "print('accuracy:{}'.format(accuracy_score(y_pred=y_pred, y_true=y_test))) # 精度の計算"
   ],
   "execution_count": 31,
   "outputs": [
    {
     "name": "stdout",
     "text": [
      "accuracy:0.6705\n"
     ],
     "output_type": "stream"
    }
   ]
  },
  {
   "metadata": {},
   "cell_type": "markdown",
   "source": [
    "#### K-近傍法\n",
    "\n",
    "ここで、K-近傍法 (KNeighborsClassifier) の実装を行ってください。特徴量も自由に選択して構いません。"
   ]
  },
  {
   "metadata": {
    "trusted": true,
    "pycharm": {
     "is_executing": false
    }
   },
   "cell_type": "code",
   "source": [
    "knn = KNeighborsClassifier()\n",
    "knn.fit(X_train, y_train)\n",
    "y_pred = knn.predict(X_test)\n",
    "\n",
    "print('accuracy:{}'.format(accuracy_score(y_pred=y_pred, y_true=y_test))) # 精度の計算"
   ],
   "execution_count": 32,
   "outputs": [
    {
     "name": "stdout",
     "text": [
      "accuracy:0.6155\n"
     ],
     "output_type": "stream"
    }
   ]
  },
  {
   "metadata": {},
   "cell_type": "markdown",
   "source": "#### 決定木\n\nここで、決定木 (DecisionTreeClassifier) の実装を行ってください。特徴量も自由に選択して構いません。"
  },
  {
   "metadata": {
    "trusted": true,
    "pycharm": {
     "is_executing": false
    }
   },
   "cell_type": "code",
   "source": "decition_tree = DecisionTreeClassifier()\ndecition_tree.fit(X_train, y_train)\ny_pred = decition_tree.predict(X_test)\n\nprint('accuracy:{}'.format(accuracy_score(y_pred=y_pred, y_true=y_test))) # 精度の計算",
   "execution_count": 21,
   "outputs": [
    {
     "name": "stdout",
     "text": [
      "accuracy:0.663\n"
     ],
     "output_type": "stream"
    }
   ]
  },
  {
   "metadata": {},
   "cell_type": "markdown",
   "source": "#### ランダムフォレスト\n\nここで、ランダムフォレスト (RandomForestClassifier) の実装を行ってください。特徴量も自由に選択して構いません。"
  },
  {
   "metadata": {
    "trusted": true,
    "scrolled": true,
    "pycharm": {
     "is_executing": false
    }
   },
   "cell_type": "code",
   "source": "random_forest = RandomForestClassifier()\nrandom_forest.fit(X_train, y_train)\ny_pred = random_forest.predict(X_test)\n\nprint('accuracy:{}'.format(accuracy_score(y_pred=y_pred, y_true=y_test))) # 精度の計算",
   "execution_count": 22,
   "outputs": [
    {
     "name": "stdout",
     "text": [
      "accuracy:0.665\n"
     ],
     "output_type": "stream"
    }
   ]
  },
  {
   "metadata": {},
   "cell_type": "markdown",
   "source": "# 課題２: モデルの改善を行おう！\n課題1で作成した各モデルについて、どうすればさらに良い精度を出すことができるのか、パラメータの調整や特徴量の選定などを行いましょう。\n最後に、この課題において最善と考える特徴量とモデルを述べ、その理由も示してください。"
  },
  {
   "metadata": {
    "trusted": true,
    "pycharm": {
     "is_executing": false
    }
   },
   "cell_type": "code",
   "source": "from IPython.display import display\nimport pandas as pd\nfrom pandas import DataFrame, Series\nimport pickle\nfrom sklearn.preprocessing import LabelEncoder\nfrom sklearn.preprocessing import MinMaxScaler\nfrom sklearn.model_selection import train_test_split\nfrom sklearn.linear_model import LogisticRegression\nfrom sklearn.svm import SVC\nfrom sklearn.neighbors import KNeighborsClassifier\nfrom sklearn.tree import DecisionTreeClassifier\nfrom sklearn.ensemble import RandomForestClassifier\nfrom sklearn.metrics import accuracy_score\nimport warnings\nwarnings.filterwarnings('ignore')",
   "execution_count": 23,
   "outputs": []
  },
  {
   "metadata": {},
   "cell_type": "markdown",
   "source": "まず、選定した特徴量を用いて、課題１で行ったStep1〜Step3 を行いましょう。ただし、Step 2〜Step 3の処理は、preprocessingという関数で定義してください。ここで定義した関数を用いて評価を行います。\n引数には、読み込んだデータを指定してください。返り値には、前処理を行った後の選定した特徴量 ( X )とmarital ( y )を指定してください。"
  },
  {
   "metadata": {
    "scrolled": true,
    "trusted": true,
    "pycharm": {
     "is_executing": false
    }
   },
   "cell_type": "code",
   "source": "### Step 1　　データの読み込み\ndf_train_data = pd.read_csv('train.csv')\n\n\n### 課題１で行ったStep 2〜Step 3を関数として定義してください。\ndef preprocessing(df_train_data):\n    ### Step 2　　使用する列の抽出\n    y_ = df_train_data.marital# ラベルデータ\n    X_ = df_train_data[['age', 'housing']]\n    \n    ### Step 3　　特徴量データの前処理\n    # 欠損値を含むデータの削除\n    df_temp = pd.concat([y_, X_], axis=1).dropna(how='any')\n    df_temp.index = range(len(df_temp)) \n    y = df_temp.marital\n    X = df_temp[['age', 'housing']]\n    \n    # 文字列を数値データへ変換\n    housing_le = LabelEncoder()\n    X.housing = housing_le.fit_transform(X.housing)\n    \n    # 数値データの正規化\n    mm_scaler = MinMaxScaler()\n    X.age = DataFrame(mm_scaler.fit_transform(DataFrame(X.age.copy())))\n    X.housing = DataFrame(mm_scaler.fit_transform(DataFrame(X.housing.copy())))\n    \n    return X, y",
   "execution_count": 24,
   "outputs": []
  },
  {
   "metadata": {},
   "cell_type": "markdown",
   "source": "上記で定義した関数を実行します。"
  },
  {
   "metadata": {
    "trusted": true,
    "pycharm": {
     "is_executing": false
    }
   },
   "cell_type": "code",
   "source": "X, y = preprocessing(df_train_data)",
   "execution_count": 25,
   "outputs": []
  },
  {
   "metadata": {},
   "cell_type": "markdown",
   "source": "次に、この課題における最善なモデルを構築しましょう。課題１で使用したモデル以外を使用しても構いません。\n下記は、ロジスティック回帰の場合の例です。"
  },
  {
   "metadata": {
    "trusted": true,
    "pycharm": {
     "is_executing": false
    }
   },
   "cell_type": "code",
   "source": "X_train, X_test, y_train, y_test = train_test_split(X, y, test_size=0.1) # 訓練データとテストデータに分割",
   "execution_count": 26,
   "outputs": []
  },
  {
   "metadata": {
    "trusted": true,
    "pycharm": {
     "is_executing": false
    }
   },
   "cell_type": "code",
   "source": "logistic_regression = LogisticRegression() # ロジスティック回帰モデルの作成\nlogistic_regression.fit(X_train, y_train) # 訓練データを使って学習\ny_pred = logistic_regression.predict(X_test) # 予測値の取得\nprint('accuracy:{}'.format(accuracy_score(y_pred=y_pred, y_true=y_test))) # 精度の計算",
   "execution_count": 27,
   "outputs": [
    {
     "name": "stdout",
     "text": [
      "accuracy:0.687\n"
     ],
     "output_type": "stream"
    }
   ]
  },
  {
   "metadata": {},
   "cell_type": "markdown",
   "source": "### 考察１\nこの課題において最善と考える特徴量を述べ、その理由も示してください。"
  },
  {
   "metadata": {},
   "cell_type": "markdown",
   "source": "（ここに記入してください）"
  },
  {
   "metadata": {},
   "cell_type": "markdown",
   "source": "### 考察２\nこの課題において最善と考えるモデルを述べ、その理由も示してください。"
  },
  {
   "metadata": {},
   "cell_type": "markdown",
   "source": "（ここに記入してください）"
  },
  {
   "metadata": {},
   "cell_type": "markdown",
   "source": "最後に、以下の best_model に構築したモデルを記入してください。この best_model を使用して精度評価を行います。"
  },
  {
   "metadata": {
    "trusted": true,
    "pycharm": {
     "is_executing": false
    }
   },
   "cell_type": "code",
   "source": "best_model = logistic_regression     # この例では、ロジスティック回帰を選択したので、logistic_regression を記入しています。\npickle.dump(best_model, open('best_model.pkl','wb'))",
   "execution_count": 28,
   "outputs": []
  },
  {
   "metadata": {},
   "cell_type": "markdown",
   "source": "### --------評価用--------\nここから下は評価用となります。上の欄にモデルを記入した後は、配布資料に書いてある手順に沿ってファイルを提出してください。"
  },
  {
   "metadata": {
    "trusted": true,
    "pycharm": {
     "is_executing": false
    }
   },
   "cell_type": "code",
   "source": "# df_test_data = pd.read_csv('bank_test.csv')\n# preprocessing()\n# X_test = X\n# y_test = y",
   "execution_count": 29,
   "outputs": []
  },
  {
   "metadata": {
    "trusted": true,
    "pycharm": {
     "is_executing": false
    }
   },
   "cell_type": "code",
   "source": "# best2_model = pickle.load(open('best_model.pkl', 'rb'))\n# y_pred =best2_model.predict(X_test)\n# print('accuracy:{}'.format(accuracy_score(y_pred=y_pred, y_true=y_test)))",
   "execution_count": 30,
   "outputs": []
  },
  {
   "metadata": {
    "trusted": true,
    "pycharm": {
     "is_executing": false
    }
   },
   "cell_type": "code",
   "source": "",
   "execution_count": 30,
   "outputs": []
  }
 ],
 "metadata": {
  "kernelspec": {
   "name": "python3",
   "display_name": "Python 3",
   "language": "python"
  },
  "language_info": {
   "mimetype": "text/x-python",
   "nbconvert_exporter": "python",
   "name": "python",
   "file_extension": ".py",
   "version": "3.5.4",
   "pygments_lexer": "ipython3",
   "codemirror_mode": {
    "version": 3,
    "name": "ipython"
   }
  },
  "pycharm": {
   "stem_cell": {
    "cell_type": "raw",
    "source": [],
    "metadata": {
     "collapsed": false
    }
   }
  }
 },
 "nbformat": 4,
 "nbformat_minor": 2
}