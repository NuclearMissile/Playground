{
 "cells": [
  {
   "cell_type": "markdown",
   "metadata": {},
   "source": [
    "# 2019年度　パターン認識最終課題\n",
    "\n",
    "パターン認識最終課題では、銀行の顧客に関するデータセットを使って、顧客の婚姻状況を予測するモデルを構築してもらいます。"
   ]
  },
  {
   "cell_type": "markdown",
   "metadata": {},
   "source": [
    "学籍番号と氏名を記入してください。\n",
    "記入例：1811000 先端　太郎"
   ]
  },
  {
   "cell_type": "markdown",
   "metadata": {},
   "source": [
    "1911328 TAO XIANGKUN"
   ]
  },
  {
   "cell_type": "markdown",
   "metadata": {},
   "source": [
    "## 課題１: 色々なモデルを試してみよう！\n",
    "まずは、講義で扱った様々な識別器を試してみましょう。\n",
    "以下に示すロジスティック回帰の例を参考に、指示に従いSVM、K-近傍法、決定木、ランダムフォレストの実装を行ってもらいます。"
   ]
  },
  {
   "cell_type": "code",
   "execution_count": 193,
   "metadata": {
    "pycharm": {
     "is_executing": false,
     "name": "#%%\n"
    }
   },
   "outputs": [],
   "source": [
    "from IPython.display import display\n",
    "import pandas as pd\n",
    "from pandas import DataFrame, Series\n",
    "import pickle\n",
    "from sklearn.preprocessing import LabelEncoder\n",
    "from sklearn.preprocessing import MinMaxScaler\n",
    "from sklearn.model_selection import train_test_split\n",
    "from sklearn.linear_model import LogisticRegression\n",
    "from sklearn.svm import SVC\n",
    "from sklearn.neighbors import KNeighborsClassifier\n",
    "from sklearn.tree import DecisionTreeClassifier\n",
    "from sklearn.ensemble import RandomForestClassifier\n",
    "from sklearn.metrics import accuracy_score,precision_recall_fscore_support\n",
    "import warnings\n",
    "warnings.filterwarnings('ignore')"
   ]
  },
  {
   "cell_type": "code",
   "execution_count": 194,
   "metadata": {
    "pycharm": {
     "is_executing": false,
     "name": "#%%\n"
    }
   },
   "outputs": [],
   "source": [
    "%matplotlib inline  \n",
    "import matplotlib.pyplot as plt\n",
    "import numpy as np\n",
    "RAND_SEED = 42\n",
    "CORES_NUM = 4"
   ]
  },
  {
   "cell_type": "markdown",
   "metadata": {},
   "source": [
    "### Step1 データの読み込み\n",
    "まずは、データを読み込みます。"
   ]
  },
  {
   "cell_type": "code",
   "execution_count": 195,
   "metadata": {
    "pycharm": {
     "is_executing": false,
     "name": "#%%\n"
    }
   },
   "outputs": [],
   "source": [
    "df_train_data = pd.read_csv('train.csv')"
   ]
  },
  {
   "cell_type": "markdown",
   "metadata": {},
   "source": [
    "今回は、この中で、marital（婚姻状況）を予測するモデルの構築を行ってもらいます。"
   ]
  },
  {
   "cell_type": "markdown",
   "metadata": {},
   "source": [
    "### Step 2　使用する列の抽出\n",
    "次に、使用する列だけを取り出します。　今回はmaritalと、予測に使えそうな age, housing を取り出します。"
   ]
  },
  {
   "cell_type": "code",
   "execution_count": 196,
   "metadata": {
    "pycharm": {
     "is_executing": false,
     "name": "#%%\n"
    }
   },
   "outputs": [
    {
     "data": {
      "text/plain": "married     12141\nsingle       5605\ndivorced     2254\nName: marital, dtype: int64"
     },
     "metadata": {},
     "output_type": "execute_result",
     "execution_count": 196
    }
   ],
   "source": [
    "y_ = df_train_data.marital# ラベルデータ\n",
    "y_.value_counts()"
   ]
  },
  {
   "cell_type": "code",
   "execution_count": 197,
   "metadata": {
    "pycharm": {
     "is_executing": false,
     "name": "#%%\n"
    }
   },
   "outputs": [
    {
     "data": {
      "text/plain": "    marital\n0   married\n1   married\n2  divorced\n3   married\n4   married\n5    single\n6   married\n7    single\n8  divorced\n9   married",
      "text/html": "<div>\n<style scoped>\n    .dataframe tbody tr th:only-of-type {\n        vertical-align: middle;\n    }\n\n    .dataframe tbody tr th {\n        vertical-align: top;\n    }\n\n    .dataframe thead th {\n        text-align: right;\n    }\n</style>\n<table border=\"1\" class=\"dataframe\">\n  <thead>\n    <tr style=\"text-align: right;\">\n      <th></th>\n      <th>marital</th>\n    </tr>\n  </thead>\n  <tbody>\n    <tr>\n      <th>0</th>\n      <td>married</td>\n    </tr>\n    <tr>\n      <th>1</th>\n      <td>married</td>\n    </tr>\n    <tr>\n      <th>2</th>\n      <td>divorced</td>\n    </tr>\n    <tr>\n      <th>3</th>\n      <td>married</td>\n    </tr>\n    <tr>\n      <th>4</th>\n      <td>married</td>\n    </tr>\n    <tr>\n      <th>5</th>\n      <td>single</td>\n    </tr>\n    <tr>\n      <th>6</th>\n      <td>married</td>\n    </tr>\n    <tr>\n      <th>7</th>\n      <td>single</td>\n    </tr>\n    <tr>\n      <th>8</th>\n      <td>divorced</td>\n    </tr>\n    <tr>\n      <th>9</th>\n      <td>married</td>\n    </tr>\n  </tbody>\n</table>\n</div>"
     },
     "metadata": {},
     "output_type": "execute_result",
     "execution_count": 197
    }
   ],
   "source": [
    "DataFrame(y_).head(10)"
   ]
  },
  {
   "cell_type": "markdown",
   "metadata": {},
   "source": [
    "ラベルデータの上位10件を表示しました。"
   ]
  },
  {
   "cell_type": "code",
   "execution_count": 198,
   "metadata": {
    "pycharm": {
     "is_executing": false,
     "name": "#%%\n"
    }
   },
   "outputs": [
    {
     "data": {
      "text/plain": "   age          job   marital            education  default housing loan  \\\n0   58    housemaid   married             basic.4y  unknown     yes   no   \n1   38   technician   married  professional.course       no     yes   no   \n2   81      retired  divorced             basic.4y       no     yes   no   \n3   49  blue-collar   married             basic.6y       no     yes   no   \n4   38   unemployed   married             basic.4y  unknown      no   no   \n\n     contact month day_of_week  ...  campaign  pdays  previous     poutcome  \\\n0   cellular   aug         mon  ...         2    999         0  nonexistent   \n1  telephone   may         tue  ...         1    999         0  nonexistent   \n2   cellular   oct         thu  ...         1    999         1      failure   \n3  telephone   may         fri  ...         2    999         0  nonexistent   \n4  telephone   jun         thu  ...         1    999         0  nonexistent   \n\n  emp.var.rate  cons.price.idx  cons.conf.idx  euribor3m  nr.employed    y  \n0          1.4          93.444          -36.1      4.970       5228.1   no  \n1          1.1          93.994          -36.4      4.856       5191.0   no  \n2         -1.1          94.601          -49.5      0.987       4963.6   no  \n3          1.1          93.994          -36.4      4.864       5191.0  yes  \n4          1.4          94.465          -41.8      4.961       5228.1   no  \n\n[5 rows x 21 columns]",
      "text/html": "<div>\n<style scoped>\n    .dataframe tbody tr th:only-of-type {\n        vertical-align: middle;\n    }\n\n    .dataframe tbody tr th {\n        vertical-align: top;\n    }\n\n    .dataframe thead th {\n        text-align: right;\n    }\n</style>\n<table border=\"1\" class=\"dataframe\">\n  <thead>\n    <tr style=\"text-align: right;\">\n      <th></th>\n      <th>age</th>\n      <th>job</th>\n      <th>marital</th>\n      <th>education</th>\n      <th>default</th>\n      <th>housing</th>\n      <th>loan</th>\n      <th>contact</th>\n      <th>month</th>\n      <th>day_of_week</th>\n      <th>...</th>\n      <th>campaign</th>\n      <th>pdays</th>\n      <th>previous</th>\n      <th>poutcome</th>\n      <th>emp.var.rate</th>\n      <th>cons.price.idx</th>\n      <th>cons.conf.idx</th>\n      <th>euribor3m</th>\n      <th>nr.employed</th>\n      <th>y</th>\n    </tr>\n  </thead>\n  <tbody>\n    <tr>\n      <th>0</th>\n      <td>58</td>\n      <td>housemaid</td>\n      <td>married</td>\n      <td>basic.4y</td>\n      <td>unknown</td>\n      <td>yes</td>\n      <td>no</td>\n      <td>cellular</td>\n      <td>aug</td>\n      <td>mon</td>\n      <td>...</td>\n      <td>2</td>\n      <td>999</td>\n      <td>0</td>\n      <td>nonexistent</td>\n      <td>1.4</td>\n      <td>93.444</td>\n      <td>-36.1</td>\n      <td>4.970</td>\n      <td>5228.1</td>\n      <td>no</td>\n    </tr>\n    <tr>\n      <th>1</th>\n      <td>38</td>\n      <td>technician</td>\n      <td>married</td>\n      <td>professional.course</td>\n      <td>no</td>\n      <td>yes</td>\n      <td>no</td>\n      <td>telephone</td>\n      <td>may</td>\n      <td>tue</td>\n      <td>...</td>\n      <td>1</td>\n      <td>999</td>\n      <td>0</td>\n      <td>nonexistent</td>\n      <td>1.1</td>\n      <td>93.994</td>\n      <td>-36.4</td>\n      <td>4.856</td>\n      <td>5191.0</td>\n      <td>no</td>\n    </tr>\n    <tr>\n      <th>2</th>\n      <td>81</td>\n      <td>retired</td>\n      <td>divorced</td>\n      <td>basic.4y</td>\n      <td>no</td>\n      <td>yes</td>\n      <td>no</td>\n      <td>cellular</td>\n      <td>oct</td>\n      <td>thu</td>\n      <td>...</td>\n      <td>1</td>\n      <td>999</td>\n      <td>1</td>\n      <td>failure</td>\n      <td>-1.1</td>\n      <td>94.601</td>\n      <td>-49.5</td>\n      <td>0.987</td>\n      <td>4963.6</td>\n      <td>no</td>\n    </tr>\n    <tr>\n      <th>3</th>\n      <td>49</td>\n      <td>blue-collar</td>\n      <td>married</td>\n      <td>basic.6y</td>\n      <td>no</td>\n      <td>yes</td>\n      <td>no</td>\n      <td>telephone</td>\n      <td>may</td>\n      <td>fri</td>\n      <td>...</td>\n      <td>2</td>\n      <td>999</td>\n      <td>0</td>\n      <td>nonexistent</td>\n      <td>1.1</td>\n      <td>93.994</td>\n      <td>-36.4</td>\n      <td>4.864</td>\n      <td>5191.0</td>\n      <td>yes</td>\n    </tr>\n    <tr>\n      <th>4</th>\n      <td>38</td>\n      <td>unemployed</td>\n      <td>married</td>\n      <td>basic.4y</td>\n      <td>unknown</td>\n      <td>no</td>\n      <td>no</td>\n      <td>telephone</td>\n      <td>jun</td>\n      <td>thu</td>\n      <td>...</td>\n      <td>1</td>\n      <td>999</td>\n      <td>0</td>\n      <td>nonexistent</td>\n      <td>1.4</td>\n      <td>94.465</td>\n      <td>-41.8</td>\n      <td>4.961</td>\n      <td>5228.1</td>\n      <td>no</td>\n    </tr>\n  </tbody>\n</table>\n<p>5 rows × 21 columns</p>\n</div>"
     },
     "metadata": {},
     "output_type": "execute_result",
     "execution_count": 198
    }
   ],
   "source": [
    "X_ = df_train_data[['age', \"job\", \"education\", \"default\", \"housing\", \"loan\", \"y\"]]\n",
    "df_train_data.head(5)"
   ]
  },
  {
   "cell_type": "code",
   "execution_count": 199,
   "metadata": {
    "pycharm": {
     "is_executing": false,
     "name": "#%%\n"
    }
   },
   "outputs": [
    {
     "data": {
      "text/plain": "   age          job            education  default housing loan    y\n0   58    housemaid             basic.4y  unknown     yes   no   no\n1   38   technician  professional.course       no     yes   no   no\n2   81      retired             basic.4y       no     yes   no   no\n3   49  blue-collar             basic.6y       no     yes   no  yes\n4   38   unemployed             basic.4y  unknown      no   no   no\n5   47       admin.              unknown  unknown     yes   no   no\n6   33       admin.    university.degree       no      no  yes   no\n7   31   technician    university.degree       no     yes   no   no\n8   31       admin.          high.school       no      no  yes   no\n9   51    housemaid             basic.9y       no     yes   no   no",
      "text/html": "<div>\n<style scoped>\n    .dataframe tbody tr th:only-of-type {\n        vertical-align: middle;\n    }\n\n    .dataframe tbody tr th {\n        vertical-align: top;\n    }\n\n    .dataframe thead th {\n        text-align: right;\n    }\n</style>\n<table border=\"1\" class=\"dataframe\">\n  <thead>\n    <tr style=\"text-align: right;\">\n      <th></th>\n      <th>age</th>\n      <th>job</th>\n      <th>education</th>\n      <th>default</th>\n      <th>housing</th>\n      <th>loan</th>\n      <th>y</th>\n    </tr>\n  </thead>\n  <tbody>\n    <tr>\n      <th>0</th>\n      <td>58</td>\n      <td>housemaid</td>\n      <td>basic.4y</td>\n      <td>unknown</td>\n      <td>yes</td>\n      <td>no</td>\n      <td>no</td>\n    </tr>\n    <tr>\n      <th>1</th>\n      <td>38</td>\n      <td>technician</td>\n      <td>professional.course</td>\n      <td>no</td>\n      <td>yes</td>\n      <td>no</td>\n      <td>no</td>\n    </tr>\n    <tr>\n      <th>2</th>\n      <td>81</td>\n      <td>retired</td>\n      <td>basic.4y</td>\n      <td>no</td>\n      <td>yes</td>\n      <td>no</td>\n      <td>no</td>\n    </tr>\n    <tr>\n      <th>3</th>\n      <td>49</td>\n      <td>blue-collar</td>\n      <td>basic.6y</td>\n      <td>no</td>\n      <td>yes</td>\n      <td>no</td>\n      <td>yes</td>\n    </tr>\n    <tr>\n      <th>4</th>\n      <td>38</td>\n      <td>unemployed</td>\n      <td>basic.4y</td>\n      <td>unknown</td>\n      <td>no</td>\n      <td>no</td>\n      <td>no</td>\n    </tr>\n    <tr>\n      <th>5</th>\n      <td>47</td>\n      <td>admin.</td>\n      <td>unknown</td>\n      <td>unknown</td>\n      <td>yes</td>\n      <td>no</td>\n      <td>no</td>\n    </tr>\n    <tr>\n      <th>6</th>\n      <td>33</td>\n      <td>admin.</td>\n      <td>university.degree</td>\n      <td>no</td>\n      <td>no</td>\n      <td>yes</td>\n      <td>no</td>\n    </tr>\n    <tr>\n      <th>7</th>\n      <td>31</td>\n      <td>technician</td>\n      <td>university.degree</td>\n      <td>no</td>\n      <td>yes</td>\n      <td>no</td>\n      <td>no</td>\n    </tr>\n    <tr>\n      <th>8</th>\n      <td>31</td>\n      <td>admin.</td>\n      <td>high.school</td>\n      <td>no</td>\n      <td>no</td>\n      <td>yes</td>\n      <td>no</td>\n    </tr>\n    <tr>\n      <th>9</th>\n      <td>51</td>\n      <td>housemaid</td>\n      <td>basic.9y</td>\n      <td>no</td>\n      <td>yes</td>\n      <td>no</td>\n      <td>no</td>\n    </tr>\n  </tbody>\n</table>\n</div>"
     },
     "metadata": {},
     "output_type": "execute_result",
     "execution_count": 199
    }
   ],
   "source": [
    "X_.head(10)"
   ]
  },
  {
   "cell_type": "markdown",
   "metadata": {},
   "source": [
    "特徴量データの上位10件を表示しました。"
   ]
  },
  {
   "cell_type": "markdown",
   "metadata": {},
   "source": [
    "### Step3　特徴量データの前処理\n",
    "識別器での学習を行う前に、特徴量を適切な形へ変換する必要があります。\n",
    "その過程を見ていきましょう。"
   ]
  },
  {
   "cell_type": "markdown",
   "metadata": {},
   "source": [
    "まず、欠損値を含むデータの扱いですが、本課題では、簡単のため単純に削除する手法を取ります。"
   ]
  },
  {
   "cell_type": "code",
   "execution_count": 200,
   "metadata": {
    "pycharm": {
     "is_executing": false,
     "name": "#%%\n"
    }
   },
   "outputs": [],
   "source": [
    "df_temp = pd.concat([y_, X_], axis=1).dropna(how='any')# 欠損値を含むデータの削除\n",
    "df_temp.index = range(len(df_temp)) \n",
    "y = df_temp.marital\n",
    "X = df_temp[['age', 'housing', 'education', 'job']]"
   ]
  },
  {
   "cell_type": "markdown",
   "metadata": {},
   "source": [
    "次に、housing 列は文字列であるため、数値に変換してあげる必要があります。ここでは、yes = 2, unknown = 1, no = 0 として変換します。"
   ]
  },
  {
   "cell_type": "code",
   "execution_count": 201,
   "metadata": {
    "pycharm": {
     "is_executing": false,
     "name": "#%%\n"
    }
   },
   "outputs": [
    {
     "data": {
      "text/plain": "       age housing            education          job\n19990   33     yes             basic.9y   unemployed\n19991   41     yes    university.degree    housemaid\n19992   54      no    university.degree   technician\n19993   44     yes             basic.9y  blue-collar\n19994   59      no             basic.4y      retired\n19995   24      no    university.degree   technician\n19996   42     yes              unknown   technician\n19997   31      no  professional.course   technician\n19998   25     yes  professional.course  blue-collar\n19999   33      no          high.school   technician",
      "text/html": "<div>\n<style scoped>\n    .dataframe tbody tr th:only-of-type {\n        vertical-align: middle;\n    }\n\n    .dataframe tbody tr th {\n        vertical-align: top;\n    }\n\n    .dataframe thead th {\n        text-align: right;\n    }\n</style>\n<table border=\"1\" class=\"dataframe\">\n  <thead>\n    <tr style=\"text-align: right;\">\n      <th></th>\n      <th>age</th>\n      <th>housing</th>\n      <th>education</th>\n      <th>job</th>\n    </tr>\n  </thead>\n  <tbody>\n    <tr>\n      <th>19990</th>\n      <td>33</td>\n      <td>yes</td>\n      <td>basic.9y</td>\n      <td>unemployed</td>\n    </tr>\n    <tr>\n      <th>19991</th>\n      <td>41</td>\n      <td>yes</td>\n      <td>university.degree</td>\n      <td>housemaid</td>\n    </tr>\n    <tr>\n      <th>19992</th>\n      <td>54</td>\n      <td>no</td>\n      <td>university.degree</td>\n      <td>technician</td>\n    </tr>\n    <tr>\n      <th>19993</th>\n      <td>44</td>\n      <td>yes</td>\n      <td>basic.9y</td>\n      <td>blue-collar</td>\n    </tr>\n    <tr>\n      <th>19994</th>\n      <td>59</td>\n      <td>no</td>\n      <td>basic.4y</td>\n      <td>retired</td>\n    </tr>\n    <tr>\n      <th>19995</th>\n      <td>24</td>\n      <td>no</td>\n      <td>university.degree</td>\n      <td>technician</td>\n    </tr>\n    <tr>\n      <th>19996</th>\n      <td>42</td>\n      <td>yes</td>\n      <td>unknown</td>\n      <td>technician</td>\n    </tr>\n    <tr>\n      <th>19997</th>\n      <td>31</td>\n      <td>no</td>\n      <td>professional.course</td>\n      <td>technician</td>\n    </tr>\n    <tr>\n      <th>19998</th>\n      <td>25</td>\n      <td>yes</td>\n      <td>professional.course</td>\n      <td>blue-collar</td>\n    </tr>\n    <tr>\n      <th>19999</th>\n      <td>33</td>\n      <td>no</td>\n      <td>high.school</td>\n      <td>technician</td>\n    </tr>\n  </tbody>\n</table>\n</div>"
     },
     "metadata": {},
     "output_type": "execute_result",
     "execution_count": 201
    }
   ],
   "source": [
    "X.tail(10)"
   ]
  },
  {
   "cell_type": "code",
   "execution_count": 202,
   "metadata": {
    "pycharm": {
     "is_executing": false,
     "name": "#%%\n"
    }
   },
   "outputs": [],
   "source": [
    "housing_le = LabelEncoder()\n",
    "X.housing = housing_le.fit_transform(X.housing)\n",
    "X.education = housing_le.fit_transform(X.education)\n",
    "X.job = housing_le.fit_transform(X.job)"
   ]
  },
  {
   "cell_type": "code",
   "execution_count": 203,
   "metadata": {
    "pycharm": {
     "is_executing": false,
     "name": "#%%\n"
    }
   },
   "outputs": [
    {
     "data": {
      "text/plain": "       age  housing  education  job\n19990   33        2          2   10\n19991   41        2          6    3\n19992   54        0          6    9\n19993   44        2          2    1\n19994   59        0          0    5\n19995   24        0          6    9\n19996   42        2          7    9\n19997   31        0          5    9\n19998   25        2          5    1\n19999   33        0          3    9",
      "text/html": "<div>\n<style scoped>\n    .dataframe tbody tr th:only-of-type {\n        vertical-align: middle;\n    }\n\n    .dataframe tbody tr th {\n        vertical-align: top;\n    }\n\n    .dataframe thead th {\n        text-align: right;\n    }\n</style>\n<table border=\"1\" class=\"dataframe\">\n  <thead>\n    <tr style=\"text-align: right;\">\n      <th></th>\n      <th>age</th>\n      <th>housing</th>\n      <th>education</th>\n      <th>job</th>\n    </tr>\n  </thead>\n  <tbody>\n    <tr>\n      <th>19990</th>\n      <td>33</td>\n      <td>2</td>\n      <td>2</td>\n      <td>10</td>\n    </tr>\n    <tr>\n      <th>19991</th>\n      <td>41</td>\n      <td>2</td>\n      <td>6</td>\n      <td>3</td>\n    </tr>\n    <tr>\n      <th>19992</th>\n      <td>54</td>\n      <td>0</td>\n      <td>6</td>\n      <td>9</td>\n    </tr>\n    <tr>\n      <th>19993</th>\n      <td>44</td>\n      <td>2</td>\n      <td>2</td>\n      <td>1</td>\n    </tr>\n    <tr>\n      <th>19994</th>\n      <td>59</td>\n      <td>0</td>\n      <td>0</td>\n      <td>5</td>\n    </tr>\n    <tr>\n      <th>19995</th>\n      <td>24</td>\n      <td>0</td>\n      <td>6</td>\n      <td>9</td>\n    </tr>\n    <tr>\n      <th>19996</th>\n      <td>42</td>\n      <td>2</td>\n      <td>7</td>\n      <td>9</td>\n    </tr>\n    <tr>\n      <th>19997</th>\n      <td>31</td>\n      <td>0</td>\n      <td>5</td>\n      <td>9</td>\n    </tr>\n    <tr>\n      <th>19998</th>\n      <td>25</td>\n      <td>2</td>\n      <td>5</td>\n      <td>1</td>\n    </tr>\n    <tr>\n      <th>19999</th>\n      <td>33</td>\n      <td>0</td>\n      <td>3</td>\n      <td>9</td>\n    </tr>\n  </tbody>\n</table>\n</div>"
     },
     "metadata": {},
     "output_type": "execute_result",
     "execution_count": 203
    }
   ],
   "source": [
    "X.tail(10)"
   ]
  },
  {
   "cell_type": "markdown",
   "metadata": {},
   "source": [
    "これで、数値データに置き換えられました。\n"
   ]
  },
  {
   "cell_type": "markdown",
   "metadata": {},
   "source": [
    "最後に、それぞれの特徴量の数値の変動量に差による影響力の差を排除するため、正規化を行います。"
   ]
  },
  {
   "cell_type": "code",
   "execution_count": 204,
   "metadata": {
    "pycharm": {
     "is_executing": false,
     "name": "#%%\n"
    }
   },
   "outputs": [],
   "source": [
    "mm_scaler = MinMaxScaler()"
   ]
  },
  {
   "cell_type": "code",
   "execution_count": 205,
   "metadata": {
    "pycharm": {
     "is_executing": false,
     "name": "#%%\n"
    }
   },
   "outputs": [],
   "source": [
    "X.age = DataFrame(mm_scaler.fit_transform(DataFrame(X.age.copy())))\n",
    "X.housing = DataFrame(mm_scaler.fit_transform(DataFrame(X.housing.copy())))"
   ]
  },
  {
   "cell_type": "code",
   "execution_count": 206,
   "metadata": {
    "pycharm": {
     "is_executing": false,
     "name": "#%%\n"
    }
   },
   "outputs": [
    {
     "data": {
      "text/plain": "            age  housing  education  job\n19990  0.197531      1.0          2   10\n19991  0.296296      1.0          6    3\n19992  0.456790      0.0          6    9\n19993  0.333333      1.0          2    1\n19994  0.518519      0.0          0    5\n19995  0.086420      0.0          6    9\n19996  0.308642      1.0          7    9\n19997  0.172840      0.0          5    9\n19998  0.098765      1.0          5    1\n19999  0.197531      0.0          3    9",
      "text/html": "<div>\n<style scoped>\n    .dataframe tbody tr th:only-of-type {\n        vertical-align: middle;\n    }\n\n    .dataframe tbody tr th {\n        vertical-align: top;\n    }\n\n    .dataframe thead th {\n        text-align: right;\n    }\n</style>\n<table border=\"1\" class=\"dataframe\">\n  <thead>\n    <tr style=\"text-align: right;\">\n      <th></th>\n      <th>age</th>\n      <th>housing</th>\n      <th>education</th>\n      <th>job</th>\n    </tr>\n  </thead>\n  <tbody>\n    <tr>\n      <th>19990</th>\n      <td>0.197531</td>\n      <td>1.0</td>\n      <td>2</td>\n      <td>10</td>\n    </tr>\n    <tr>\n      <th>19991</th>\n      <td>0.296296</td>\n      <td>1.0</td>\n      <td>6</td>\n      <td>3</td>\n    </tr>\n    <tr>\n      <th>19992</th>\n      <td>0.456790</td>\n      <td>0.0</td>\n      <td>6</td>\n      <td>9</td>\n    </tr>\n    <tr>\n      <th>19993</th>\n      <td>0.333333</td>\n      <td>1.0</td>\n      <td>2</td>\n      <td>1</td>\n    </tr>\n    <tr>\n      <th>19994</th>\n      <td>0.518519</td>\n      <td>0.0</td>\n      <td>0</td>\n      <td>5</td>\n    </tr>\n    <tr>\n      <th>19995</th>\n      <td>0.086420</td>\n      <td>0.0</td>\n      <td>6</td>\n      <td>9</td>\n    </tr>\n    <tr>\n      <th>19996</th>\n      <td>0.308642</td>\n      <td>1.0</td>\n      <td>7</td>\n      <td>9</td>\n    </tr>\n    <tr>\n      <th>19997</th>\n      <td>0.172840</td>\n      <td>0.0</td>\n      <td>5</td>\n      <td>9</td>\n    </tr>\n    <tr>\n      <th>19998</th>\n      <td>0.098765</td>\n      <td>1.0</td>\n      <td>5</td>\n      <td>1</td>\n    </tr>\n    <tr>\n      <th>19999</th>\n      <td>0.197531</td>\n      <td>0.0</td>\n      <td>3</td>\n      <td>9</td>\n    </tr>\n  </tbody>\n</table>\n</div>"
     },
     "metadata": {},
     "output_type": "execute_result",
     "execution_count": 206
    }
   ],
   "source": [
    "X.tail(10)"
   ]
  },
  {
   "cell_type": "markdown",
   "metadata": {},
   "source": [
    "これで、正規化が出来ました。"
   ]
  },
  {
   "cell_type": "markdown",
   "metadata": {},
   "source": [
    "### Step 4　識別器の実装\n",
    "ロジスティック回帰の例を参考に、SVM、K-近傍法、決定木、ランダムフォレストを実装しましょう。"
   ]
  },
  {
   "cell_type": "markdown",
   "metadata": {},
   "source": [
    "#### ロジスティック回帰\n",
    "ロジスティック回帰の例を示します。実装にはscikit-learn(http://scikit-learn.org/stable/) の関数を使用します。"
   ]
  },
  {
   "cell_type": "code",
   "execution_count": 207,
   "metadata": {
    "pycharm": {
     "is_executing": false,
     "name": "#%%\n"
    }
   },
   "outputs": [],
   "source": [
    "X_train, X_test, y_train, y_test = train_test_split(X, y, test_size=0.1) # 訓練データとテストデータに分割\n",
    "default_acc = {}\n",
    "default_modules = {}"
   ]
  },
  {
   "cell_type": "code",
   "execution_count": 208,
   "metadata": {
    "pycharm": {
     "is_executing": false,
     "name": "#%%\n"
    }
   },
   "outputs": [
    {
     "name": "stdout",
     "text": [
      "accuracy:0.693\n"
     ],
     "output_type": "stream"
    }
   ],
   "source": [
    "lr = LogisticRegression() # ロジスティック回帰モデルの作成\n",
    "lr.fit(X_train, y_train) # 訓練データを使って学習\n",
    "y_pred = lr.predict(X_test) # 予測値の取得\n",
    "\n",
    "acc = accuracy_score(y_pred=y_pred, y_true=y_test)\n",
    "print(f'accuracy:{acc}') # 精度の計算\n",
    "default_acc['lr'] = acc\n",
    "default_modules['lr'] = lr"
   ]
  },
  {
   "cell_type": "markdown",
   "metadata": {},
   "source": [
    "上記の LogisticRegression( ) の部分を書き換えて、SVM、K-近傍法、決定木、ランダムフォレストを実装しましょう。"
   ]
  },
  {
   "cell_type": "markdown",
   "metadata": {},
   "source": [
    "#### SVM\n",
    "ここで、SVM (SVC) の実装を行ってください。特徴量も自由に選択して構いません。"
   ]
  },
  {
   "cell_type": "code",
   "execution_count": 209,
   "metadata": {
    "pycharm": {
     "is_executing": false,
     "name": "#%%\n"
    }
   },
   "outputs": [
    {
     "name": "stdout",
     "text": [
      "accuracy:0.664\n"
     ],
     "output_type": "stream"
    }
   ],
   "source": [
    "svm = SVC()\n",
    "svm.fit(X_train, y_train)\n",
    "y_pred = svm.predict(X_test)\n",
    "\n",
    "acc = accuracy_score(y_pred=y_pred, y_true=y_test)\n",
    "print(f'accuracy:{acc}') # 精度の計算\n",
    "default_acc['svm'] = acc\n",
    "default_modules['svm']= svm"
   ]
  },
  {
   "cell_type": "markdown",
   "metadata": {},
   "source": [
    "#### K-近傍法\n",
    "\n",
    "ここで、K-近傍法 (KNeighborsClassifier) の実装を行ってください。特徴量も自由に選択して構いません。"
   ]
  },
  {
   "cell_type": "code",
   "execution_count": 210,
   "metadata": {
    "pycharm": {
     "is_executing": false,
     "name": "#%%\n"
    }
   },
   "outputs": [
    {
     "name": "stdout",
     "text": [
      "accuracy:0.6435\n"
     ],
     "output_type": "stream"
    }
   ],
   "source": [
    "knn = KNeighborsClassifier()\n",
    "knn.fit(X_train, y_train)\n",
    "y_pred = knn.predict(X_test)\n",
    "\n",
    "acc = accuracy_score(y_pred=y_pred, y_true=y_test)\n",
    "print(f'accuracy:{acc}') # 精度の計算\n",
    "default_acc['knn'] = acc\n",
    "default_modules['knn'] = knn"
   ]
  },
  {
   "cell_type": "markdown",
   "metadata": {},
   "source": [
    "#### 決定木\n",
    "\n",
    "ここで、決定木 (DecisionTreeClassifier) の実装を行ってください。特徴量も自由に選択して構いません。"
   ]
  },
  {
   "cell_type": "code",
   "execution_count": 211,
   "metadata": {
    "pycharm": {
     "is_executing": false,
     "name": "#%%\n"
    }
   },
   "outputs": [
    {
     "name": "stdout",
     "text": [
      "accuracy:0.6465\n"
     ],
     "output_type": "stream"
    }
   ],
   "source": [
    "dt = DecisionTreeClassifier()\n",
    "dt.fit(X_train, y_train)\n",
    "y_pred = dt.predict(X_test)\n",
    "\n",
    "acc = accuracy_score(y_pred=y_pred, y_true=y_test)\n",
    "print(f'accuracy:{acc}') # 精度の計算\n",
    "default_acc['dt'] = acc\n",
    "default_modules['dt'] = dt"
   ]
  },
  {
   "cell_type": "markdown",
   "metadata": {},
   "source": [
    "#### ランダムフォレスト\n",
    "\n",
    "ここで、ランダムフォレスト (RandomForestClassifier) の実装を行ってください。特徴量も自由に選択して構いません。"
   ]
  },
  {
   "cell_type": "code",
   "execution_count": 212,
   "metadata": {
    "pycharm": {
     "is_executing": false,
     "name": "#%%\n"
    }
   },
   "outputs": [
    {
     "name": "stdout",
     "text": [
      "accuracy:0.658\n"
     ],
     "output_type": "stream"
    }
   ],
   "source": [
    "rf = RandomForestClassifier()\n",
    "rf.fit(X_train, y_train)\n",
    "y_pred = rf.predict(X_test)\n",
    "\n",
    "acc = accuracy_score(y_pred=y_pred, y_true=y_test)\n",
    "print(f'accuracy:{acc}') # 精度の計算\n",
    "default_acc['rf'] = acc\n",
    "default_modules['rf'] = rf"
   ]
  },
  {
   "cell_type": "markdown",
   "metadata": {},
   "source": [
    "#### Additional module: ExtraTreeClassifier"
   ]
  },
  {
   "cell_type": "code",
   "execution_count": 213,
   "metadata": {
    "pycharm": {
     "is_executing": false,
     "name": "#%%\n"
    }
   },
   "outputs": [
    {
     "name": "stdout",
     "text": [
      "accuracy:0.652\n"
     ],
     "output_type": "stream"
    }
   ],
   "source": [
    "from sklearn.ensemble import ExtraTreesClassifier\n",
    "etc = ExtraTreesClassifier()\n",
    "etc.fit(X_train, y_train)\n",
    "y_pred = etc.predict(X_test)\n",
    "\n",
    "acc = accuracy_score(y_pred=y_pred, y_true=y_test)\n",
    "print(f'accuracy:{acc}') # 精度の計算\n",
    "default_acc['etc'] = acc\n",
    "default_modules['etc'] = etc"
   ]
  },
  {
   "cell_type": "markdown",
   "metadata": {},
   "source": [
    "#### Additional module: Bagging KNN classifier"
   ]
  },
  {
   "cell_type": "code",
   "execution_count": 214,
   "metadata": {
    "pycharm": {
     "is_executing": false,
     "name": "#%%\n"
    }
   },
   "outputs": [
    {
     "name": "stdout",
     "text": [
      "accuracy:0.656\n"
     ],
     "output_type": "stream"
    }
   ],
   "source": [
    "from sklearn.ensemble import BaggingClassifier\n",
    "bknn = BaggingClassifier(KNeighborsClassifier(), max_samples=0.5, max_features=0.5)\n",
    "bknn.fit(X_train, y_train)\n",
    "y_pred = bknn.predict(X_test)\n",
    "\n",
    "acc = accuracy_score(y_pred=y_pred, y_true=y_test)\n",
    "print(f'accuracy:{acc}') # 精度の計算\n",
    "default_acc['bknn'] = acc\n",
    "default_modules['bknn'] = bknn"
   ]
  },
  {
   "cell_type": "markdown",
   "metadata": {},
   "source": [
    "#### Additional module: Naive Bayes"
   ]
  },
  {
   "cell_type": "code",
   "execution_count": 215,
   "metadata": {
    "pycharm": {
     "is_executing": false,
     "name": "#%%\n"
    }
   },
   "outputs": [
    {
     "name": "stdout",
     "text": [
      "accuracy:0.6745\n"
     ],
     "output_type": "stream"
    }
   ],
   "source": [
    "from sklearn.naive_bayes import GaussianNB\n",
    "gnb = GaussianNB()\n",
    "gnb.fit(X_train, y_train)\n",
    "y_pred = gnb.predict(X_test)\n",
    "\n",
    "acc = accuracy_score(y_pred=y_pred, y_true=y_test)\n",
    "print(f'accuracy:{acc}') # 精度の計算\n",
    "default_acc['gnb'] = acc\n",
    "default_modules['gnb'] = gnb"
   ]
  },
  {
   "cell_type": "markdown",
   "metadata": {},
   "source": [
    "#### Additional module: XGBoost"
   ]
  },
  {
   "cell_type": "code",
   "execution_count": 216,
   "metadata": {
    "pycharm": {
     "is_executing": false,
     "name": "#%%\n"
    }
   },
   "outputs": [
    {
     "name": "stdout",
     "text": [
      "accuracy:0.697\n"
     ],
     "output_type": "stream"
    }
   ],
   "source": [
    "import xgboost\n",
    "xgb = xgboost.XGBClassifier()\n",
    "xgb.fit(X_train, y_train)\n",
    "y_pred = xgb.predict(X_test)\n",
    "\n",
    "acc = accuracy_score(y_pred=y_pred, y_true=y_test)\n",
    "print(f'accuracy:{acc}') # 精度の計算\n",
    "default_acc['xgb'] = acc\n",
    "default_modules['xgb'] = xgb"
   ]
  },
  {
   "cell_type": "markdown",
   "metadata": {},
   "source": [
    "#### Additional module: GBDT"
   ]
  },
  {
   "cell_type": "code",
   "execution_count": 217,
   "metadata": {
    "pycharm": {
     "is_executing": false,
     "name": "#%%\n"
    }
   },
   "outputs": [
    {
     "name": "stdout",
     "text": [
      "accuracy:0.701\n"
     ],
     "output_type": "stream"
    }
   ],
   "source": [
    "from sklearn.ensemble import GradientBoostingClassifier\n",
    "gbdt = GradientBoostingClassifier()\n",
    "gbdt.fit(X_train, y_train)\n",
    "y_pred = gbdt.predict(X_test)\n",
    "\n",
    "acc = accuracy_score(y_pred=y_pred, y_true=y_test)\n",
    "print(f'accuracy:{acc}') # 精度の計算\n",
    "default_acc['gbdt'] = acc\n",
    "default_modules['gbdt'] = gbdt"
   ]
  },
  {
   "cell_type": "markdown",
   "metadata": {},
   "source": [
    "#### Additional module: Perceptron"
   ]
  },
  {
   "cell_type": "code",
   "execution_count": 218,
   "metadata": {
    "pycharm": {
     "is_executing": false,
     "name": "#%%\n"
    }
   },
   "outputs": [
    {
     "name": "stdout",
     "text": [
      "accuracy:0.484\n"
     ],
     "output_type": "stream"
    }
   ],
   "source": [
    "from sklearn.linear_model import Perceptron\n",
    "perc = Perceptron(tol=1e-3, random_state=RAND_SEED)\n",
    "perc.fit(X_train, y_train)\n",
    "y_pred = perc.predict(X_test)\n",
    "\n",
    "acc = accuracy_score(y_pred=y_pred, y_true=y_test)\n",
    "print(f'accuracy:{acc}') # 精度の計算\n",
    "default_acc['perc'] = acc\n",
    "default_modules['perc'] = perc"
   ]
  },
  {
   "cell_type": "markdown",
   "metadata": {},
   "source": [
    "#### Additional module: SGD"
   ]
  },
  {
   "cell_type": "code",
   "execution_count": 219,
   "metadata": {
    "pycharm": {
     "is_executing": false,
     "name": "#%%\n"
    }
   },
   "outputs": [
    {
     "name": "stdout",
     "text": [
      "accuracy:0.6725\n"
     ],
     "output_type": "stream"
    }
   ],
   "source": [
    "from sklearn.linear_model import SGDClassifier\n",
    "sgd = SGDClassifier(max_iter=1000, tol=1e-3)\n",
    "sgd.fit(X_train, y_train)\n",
    "y_pred = sgd.predict(X_test)\n",
    "\n",
    "acc = accuracy_score(y_pred=y_pred, y_true=y_test)\n",
    "print(f'accuracy:{acc}') # 精度の計算\n",
    "default_acc['sgd'] = acc\n",
    "default_modules['sgd'] = sgd"
   ]
  },
  {
   "cell_type": "markdown",
   "metadata": {},
   "source": [
    "#### Additional module: AdaBoost"
   ]
  },
  {
   "cell_type": "code",
   "execution_count": 220,
   "metadata": {
    "pycharm": {
     "is_executing": false,
     "name": "#%%\n"
    }
   },
   "outputs": [
    {
     "name": "stdout",
     "text": [
      "accuracy:0.695\n"
     ],
     "output_type": "stream"
    }
   ],
   "source": [
    "from sklearn.ensemble import AdaBoostClassifier\n",
    "ada = AdaBoostClassifier(n_estimators=100, random_state=RAND_SEED)\n",
    "ada.fit(X_train, y_train)\n",
    "y_pred = ada.predict(X_test)\n",
    "\n",
    "acc = accuracy_score(y_pred=y_pred, y_true=y_test)\n",
    "print(f'accuracy:{acc}') # 精度の計算\n",
    "default_acc['ada'] = acc\n",
    "default_modules['ada'] = ada"
   ]
  },
  {
   "cell_type": "markdown",
   "metadata": {},
   "source": [
    "#### Additional module: Voting  "
   ]
  },
  {
   "cell_type": "code",
   "execution_count": 221,
   "metadata": {
    "pycharm": {
     "is_executing": false,
     "name": "#%%\n"
    }
   },
   "outputs": [
    {
     "name": "stdout",
     "text": [
      "accuracy:0.703\nAccurate for default classifiers:\n"
     ],
     "output_type": "stream"
    },
    {
     "data": {
      "text/plain": "{'lr': 0.693,\n 'svm': 0.664,\n 'knn': 0.6435,\n 'dt': 0.6465,\n 'rf': 0.658,\n 'etc': 0.652,\n 'bknn': 0.656,\n 'gnb': 0.6745,\n 'xgb': 0.697,\n 'gbdt': 0.701,\n 'perc': 0.484,\n 'sgd': 0.6725,\n 'ada': 0.695,\n 'voting': 0.703}"
     },
     "metadata": {},
     "output_type": "execute_result",
     "execution_count": 221
    }
   ],
   "source": [
    "from sklearn.ensemble import VotingClassifier\n",
    "voting = VotingClassifier(estimators={\n",
    "    ('gbdt', gbdt),\n",
    "    ('rf', rf),\n",
    "    ('lr', lr),\n",
    "    ('nb', gnb),\n",
    "    ('bknn', bknn),\n",
    "    ('dt', dt),\n",
    "    ('knn', knn),\n",
    "    ('xgb', xgb),\n",
    "    ('ada', ada),\n",
    "    ('svm', svm),\n",
    "    ('perc', perc),\n",
    "    ('sgd', sgd),\n",
    "})\n",
    "voting.fit(X_train, y_train)\n",
    "y_pred = voting.predict(X_test)\n",
    "\n",
    "acc = accuracy_score(y_pred=y_pred, y_true=y_test)\n",
    "print(f'accuracy:{acc}') # 精度の計算\n",
    "default_acc['voting'] = acc\n",
    "print(\"Accurate for default classifiers:\")\n",
    "default_modules['voting'] = voting\n",
    "default_acc"
   ]
  },
  {
   "cell_type": "code",
   "execution_count": 222,
   "metadata": {
    "pycharm": {
     "is_executing": false,
     "name": "#%%\n"
    }
   },
   "outputs": [
    {
     "name": "stdout",
     "text": [
      "lr => Accuracy: 0.6713 (+/- 0.0131)\n",
      "svm => Accuracy: 0.6538 (+/- 0.0091)\n",
      "knn => Accuracy: 0.6304 (+/- 0.0162)\ndt => Accuracy: 0.6449 (+/- 0.0168)\n",
      "rf => Accuracy: 0.6526 (+/- 0.0153)\n",
      "etc => Accuracy: 0.6479 (+/- 0.0148)\n",
      "bknn => Accuracy: 0.6617 (+/- 0.0116)\ngnb => Accuracy: 0.6590 (+/- 0.0117)\n",
      "xgb => Accuracy: 0.6790 (+/- 0.0119)\n",
      "gbdt => Accuracy: 0.6789 (+/- 0.0118)\nperc => Accuracy: 0.6350 (+/- 0.0424)\n",
      "sgd => Accuracy: 0.6545 (+/- 0.0182)\n",
      "ada => Accuracy: 0.6776 (+/- 0.0110)\n",
      "voting => Accuracy: 0.6784 (+/- 0.0112)\n"
     ],
     "output_type": "stream"
    },
    {
     "data": {
      "text/plain": "<Figure size 576x288 with 1 Axes>",
      "image/png": "[encoded data removed]"
     },
     "metadata": {
      "needs_background": "light"
     },
     "output_type": "display_data"
    }
   ],
   "source": [
    "# k-fold cross-validation for the modules above\n",
    "# using stratified cross-validation to deal with unbalance data\n",
    "from sklearn.model_selection import cross_val_score, StratifiedKFold\n",
    "from IPython.core.pylabtools import figsize\n",
    "res = {}\n",
    "for k, v in default_modules.items():\n",
    "    scores = cross_val_score(v, X, y, cv=StratifiedKFold(5))\n",
    "    res[k] = scores\n",
    "    print(f\"{k} => Accuracy: {scores.mean():0.4f} (+/- {scores.std() * 2:0.4f})\")\n",
    "figsize(8, 4)\n",
    "pd.DataFrame(res).boxplot()\n",
    "plt.show()"
   ]
  },
  {
   "cell_type": "markdown",
   "metadata": {},
   "source": [
    "# 課題２: モデルの改善を行おう！\n",
    "課題1で作成した各モデルについて、どうすればさらに良い精度を出すことができるのか、パラメータの調整や特徴量の選定などを行いましょう。\n",
    "最後に、この課題において最善と考える特徴量とモデルを述べ、その理由も示してください。\n",
    "\n",
    "まず、選定した特徴量を用いて、課題１で行ったStep1〜Step3 を行いましょう。ただし、Step 2〜Step 3の処理は、preprocessingという関数で定義してください。ここで定義した関数を用いて評価を行います。\n",
    "引数には、読み込んだデータを指定してください。返り値には、前処理を行った後の選定した特徴量 ( X )とmarital ( y )を指定してください。"
   ]
  },
  {
   "cell_type": "code",
   "execution_count": 223,
   "metadata": {
    "pycharm": {
     "is_executing": false,
     "name": "#%%\n"
    }
   },
   "outputs": [
    {
     "data": {
      "text/plain": "married     12141\nsingle       5605\ndivorced     2254\nName: marital, dtype: int64"
     },
     "metadata": {},
     "output_type": "execute_result",
     "execution_count": 223
    }
   ],
   "source": [
    "### Step 1　　データの読み込み\n",
    "raw_data = pd.read_csv('train.csv')\n",
    "train_data, test_data = train_test_split(raw_data, test_size=0.1, random_state=RAND_SEED)\n",
    "num_attrs = [\"age\"]\n",
    "cat_attrs = [\"job\", \"education\", \"default\", \"housing\", \"loan\", \"contact\"]\n",
    "feature_attrs = num_attrs + cat_attrs\n",
    "target = [\"marital\"]\n",
    "raw_data.marital.value_counts()"
   ]
  },
  {
   "cell_type": "markdown",
   "metadata": {},
   "source": [
    "次に、この課題における最善なモデルを構築しましょう。課題１で使用したモデル以外を使用しても構いません。"
   ]
  },
  {
   "cell_type": "markdown",
   "metadata": {},
   "source": [
    "#### Using pipeline api to build a flexible module\n",
    "Pipeline is a set of useful apis provided by sklearn which allow programmers\n",
    "to reuse and combine their data processing procedures freely."
   ]
  },
  {
   "cell_type": "code",
   "execution_count": 224,
   "metadata": {
    "pycharm": {
     "is_executing": false,
     "name": "#%%\n"
    }
   },
   "outputs": [
    {
     "name": "stdout",
     "text": [
      "acc: 0.6690\n"
     ],
     "output_type": "stream"
    }
   ],
   "source": [
    "from sklearn.preprocessing import OneHotEncoder, OrdinalEncoder, KBinsDiscretizer\n",
    "from sklearn.pipeline import make_pipeline\n",
    "from sklearn.compose import make_column_transformer\n",
    "from sklearn.impute import SimpleImputer\n",
    "\n",
    "num_pipeline = make_pipeline(\n",
    "    SimpleImputer(strategy=\"most_frequent\"),\n",
    "    MinMaxScaler(),\n",
    ")\n",
    "\n",
    "num_pipeline_binning = make_pipeline(\n",
    "    SimpleImputer(strategy=\"most_frequent\"),\n",
    "    KBinsDiscretizer()\n",
    ")\n",
    "\n",
    "preprocessing_onehot = make_column_transformer(\n",
    "    (num_pipeline_binning, num_attrs),\n",
    "    (OneHotEncoder(), cat_attrs),\n",
    ")\n",
    "\n",
    "preprocessing_ordinal = make_column_transformer(\n",
    "    (num_pipeline, num_attrs),\n",
    "    (OrdinalEncoder(), cat_attrs),\n",
    ")\n",
    "\n",
    "full_pipeline = make_pipeline(\n",
    "    preprocessing_onehot,\n",
    "    #TruncatedSVD(random_state=RAND_SEED, n_components=25),\n",
    "    #PCA(random_state=RAND_SEED, n_components=0.90),\n",
    "    #random_forest,\n",
    "    #xgb,\n",
    "    #PolynomialFeatures(degree=2),\n",
    "    #GaussianNB(),\n",
    "    #LogisticRegression(random_state=RAND_SEED),\n",
    "    #SVC(),\n",
    "    gbdt,\n",
    "    #voting\n",
    "    #DecisionTreeClassifier(),\n",
    "    #KNeighborsClassifier(),\n",
    ")\n",
    "\n",
    "full_pipeline.fit(train_data[feature_attrs], train_data[target])\n",
    "print(f\"acc: {accuracy_score(full_pipeline.predict(test_data[feature_attrs]), test_data[target]):.4f}\")"
   ]
  },
  {
   "cell_type": "markdown",
   "metadata": {},
   "source": [
    "### 考察１\n",
    "この課題において最善と考える特徴量を述べ、その理由も示してください。"
   ]
  },
  {
   "cell_type": "markdown",
   "metadata": {},
   "source": [
    "The 9 features provided for predicting are age, job, \n",
    "education, default, housing, loan, contact, month, day_of_week.\n",
    "\n",
    "Next, I will try 2 methods to discard irrelevant features. \n",
    "\n",
    "### 1.Use tree-based methods (random forest or extra trees) to determine feature importance. "
   ]
  },
  {
   "cell_type": "code",
   "execution_count": 225,
   "metadata": {
    "pycharm": {
     "is_executing": false,
     "name": "#%%\n"
    }
   },
   "outputs": [
    {
     "name": "stdout",
     "text": [
      "Feature ranking by random forest:\nage => importance: 0.6316153436057579\njob => importance: 0.16608910922345785\neducation => importance: 0.1203208428689828\ndefault => importance: 0.02437160913334771\nhousing => importance: 0.020888053186674655\nloan => importance: 0.019951366960644926\ncontact => importance: 0.01676367502113429\n"
     ],
     "output_type": "stream"
    },
    {
     "data": {
      "text/plain": "<Figure size 576x288 with 1 Axes>",
      "image/png": "[encoded data removed]"
     },
     "metadata": {
      "needs_background": "light"
     },
     "output_type": "display_data"
    }
   ],
   "source": [
    "from sklearn.ensemble import ExtraTreesClassifier\n",
    "\n",
    "X, y = raw_data[feature_attrs], raw_data[target]\n",
    "X = preprocessing_ordinal.fit_transform(X)\n",
    "etc = ExtraTreesClassifier(n_estimators=100, max_depth=20)\n",
    "etc.fit(X, y)\n",
    "importances = etc.feature_importances_\n",
    "std = np.std([tree.feature_importances_ for tree in etc.estimators_], axis=0)\n",
    "indices = np.argsort(importances)[::-1]\n",
    "print(\"Feature ranking by random forest:\")\n",
    "for f in range(X.shape[1]):\n",
    "    i = indices[f]\n",
    "    print(f\"{feature_attrs[i]} => importance: {importances[i]}\")\n",
    "\n",
    "plt.figure()\n",
    "plt.title(\"Feature importance\")\n",
    "plt.bar(range(X.shape[1]), importances[indices], yerr=std[indices])\n",
    "plt.xticks(range(X.shape[1]), np.array(feature_attrs)[indices])\n",
    "plt.show()"
   ]
  },
  {
   "cell_type": "markdown",
   "metadata": {
    "pycharm": {
     "name": "#%% md\n"
    }
   },
   "source": [
    "### 2.Feature ranking with recursive feature elimination and cross-validated (RFECV) selection of the best number of features.\n",
    "\n",
    "Run cross validation on all combinations of input features\n",
    "and choose the feature combination with the highest accuracy for a specific predicting module"
   ]
  },
  {
   "cell_type": "code",
   "execution_count": 226,
   "metadata": {
    "pycharm": {
     "is_executing": false,
     "name": "#%%\n"
    }
   },
   "outputs": [
    {
     "name": "stdout",
     "text": [
      "Optimal features for linear regression: ['age', 'job', 'education', 'default', 'contact']\n"
     ],
     "output_type": "stream"
    },
    {
     "data": {
      "text/plain": "<Figure size 576x288 with 1 Axes>",
      "image/png": "[encoded data removed]"
     },
     "metadata": {
      "needs_background": "light"
     },
     "output_type": "display_data"
    }
   ],
   "source": [
    "# RFECV for linear regression\n",
    "def optimal_features(features, mask):\n",
    "    return [item[0] for item in zip(features, mask) if item[1]]\n",
    "\n",
    "\n",
    "from sklearn.model_selection import StratifiedKFold\n",
    "from sklearn.feature_selection import RFECV\n",
    "\n",
    "rfecv = RFECV(estimator=lr, cv=StratifiedKFold(5), scoring='accuracy')\n",
    "rfecv.fit(X, y)\n",
    "print(f'Optimal features for linear regression: {optimal_features(feature_attrs, rfecv.support_)}')\n",
    "plt.xlabel(\"Number of features selected\")\n",
    "plt.ylabel(\"Cross validation accuracy\")\n",
    "plt.plot(range(1, len(rfecv.grid_scores_) + 1), rfecv.grid_scores_)\n",
    "plt.show()"
   ]
  },
  {
   "cell_type": "markdown",
   "metadata": {
    "pycharm": {
     "name": "#%% md\n"
    }
   },
   "source": [
    "I gained about 1% accuracy boost on default linear regression module by simply eliminating some features.\n",
    "\n",
    "### Next, run RFECV on the modules tried in 課題１"
   ]
  },
  {
   "cell_type": "code",
   "execution_count": 227,
   "metadata": {
    "pycharm": {
     "is_executing": false,
     "name": "#%%\n"
    }
   },
   "outputs": [],
   "source": [
    "# modules_list = ['lr','dt','rf','etc','xgb','gbdt','sgd', 'ada']\n",
    "# optimal_features_for_default_modules = {}\n",
    "# for name in modules_list:\n",
    "#     print(f'Optimal features for {name}:')\n",
    "#     rfecv = RFECV(estimator=default_modules[name], cv=StratifiedKFold(6), scoring='accuracy')\n",
    "#     rfecv.fit(X, y)\n",
    "#     res = optimal_features(feature_attrs, rfecv.support_)\n",
    "#     optimal_features_for_default_modules[name] = res\n",
    "#     print(res)\n",
    "#     print(f'Max accuracy for {name}:')\n",
    "#     print(f'{max(rfecv.grid_scores_):.4f}')"
   ]
  },
  {
   "cell_type": "code",
   "execution_count": 228,
   "metadata": {
    "pycharm": {
     "is_executing": false,
     "name": "#%%\n"
    }
   },
   "outputs": [],
   "source": [
    "import json\n",
    "\n",
    "def store(data, name):\n",
    "    with open(name, 'w') as fw:\n",
    "        json.dump(data,fw)\n",
    "\n",
    "def load(name):\n",
    "    with open(name,'r') as f:\n",
    "        data = json.load(f)\n",
    "        return data\n",
    "    \n",
    "# store(optimal_features_for_default_modules, \"opt_features.json\")\n",
    "optimal_features_for_default_modules = load('opt_features.json')"
   ]
  },
  {
   "cell_type": "markdown",
   "metadata": {},
   "source": [
    "### 考察２\n",
    "この課題において最善と考えるモデルを述べ、その理由も示してください。"
   ]
  },
  {
   "cell_type": "markdown",
   "metadata": {},
   "source": [
    "I would like to use grid search to find better parameters for XGBClassifier, LogisticRegression and RandomForest.\n",
    "Then try voting classifier to boost module performance. \n",
    "Restricted by the cpu performance, only a small-scale searches can be performed."
   ]
  },
  {
   "cell_type": "code",
   "execution_count": 229,
   "metadata": {
    "pycharm": {
     "is_executing": false,
     "name": "#%%\n"
    }
   },
   "outputs": [],
   "source": [
    "from sklearn.model_selection import GridSearchCV\n",
    "from xgboost import XGBClassifier\n",
    "import time\n",
    "\n",
    "kflod=StratifiedKFold(5)\n",
    "xgb_model = XGBClassifier(nthread = 6)\n",
    "param_grid = dict(\n",
    "    max_depth = [4, 5, 6, 7],\n",
    "    learning_rate = [0.01, 0.1, 0.3],\n",
    "    n_estimators = [100, 200]\n",
    ")\n",
    "\n",
    "X2 = raw_data[optimal_features_for_default_modules['xgb']]\n",
    "X3 = preprocessing_onehot.fit_transform(X2)\n",
    "X2 = preprocessing_ordinal.fit_transform(X2)\n",
    "\n",
    "start = time.time()\n",
    "#grid = GridSearchCV(xgb_model, param_grid, cv=kflod, scoring='accuracy')\n",
    "#grid.fit(X2, y)\n",
    "#print('GridSearchCV process use %.2f seconds'%(time.time()-start))\n",
    "#print(grid.best_params_)"
   ]
  },
  {
   "cell_type": "code",
   "execution_count": 230,
   "metadata": {
    "pycharm": {
     "is_executing": false,
     "name": "#%%\n"
    }
   },
   "outputs": [
    {
     "name": "stdout",
     "text": [
      "Accuracy: 0.6816 (+/- 0.0124)\n"
     ],
     "output_type": "stream"
    }
   ],
   "source": [
    "def kfoldTest(clr, x, y):\n",
    "    scores = cross_val_score(clr, x, y, cv=kflod)\n",
    "    print(f\"Accuracy: {scores.mean():0.4f} (+/- {scores.std() * 2:0.4f})\")\n",
    "    \n",
    "def accTest(clr, trainX, trainY, testX, testY):\n",
    "    if trainX is not None:\n",
    "        clr.fit(trainX, trainY)\n",
    "    print(f\"acc: {accuracy_score(clr.predict(testX), testY):.4f}\")\n",
    "    \n",
    "kfoldTest(XGBClassifier(nthread = 6, max_depth=6, subsample=0.8, n_estimators=150), X2, y)"
   ]
  },
  {
   "cell_type": "code",
   "execution_count": 231,
   "metadata": {
    "pycharm": {
     "is_executing": false,
     "name": "#%%\n"
    }
   },
   "outputs": [],
   "source": [
    "lr_module = LogisticRegression(solver='saga', l1_ratio=0.2)\n",
    "param_grid = dict(\n",
    "    tol = [1e-2, 1e-3, 1e-4, 1e-5],\n",
    "    penalty = ['l1', 'l2', 'elasticnet'],\n",
    "    C = [1, 1.1, 1.2, 1.3, 1.4],\n",
    ")\n",
    "start = time.time()\n",
    "#grid = GridSearchCV(lr_module, param_grid, cv=kflod, scoring='accuracy')\n",
    "#grid.fit(X2, y)\n",
    "#print('GridSearchCV process use %.2f seconds'%(time.time()-start))\n",
    "#print(grid.best_params_)"
   ]
  },
  {
   "cell_type": "code",
   "execution_count": 232,
   "metadata": {
    "pycharm": {
     "is_executing": false,
     "name": "#%%\n"
    }
   },
   "outputs": [
    {
     "name": "stdout",
     "text": [
      "Accuracy: 0.6752 (+/- 0.0100)\n"
     ],
     "output_type": "stream"
    }
   ],
   "source": [
    "kfoldTest(LogisticRegression(C=1.2, penalty='l1', tol=0.001), X2, y)"
   ]
  },
  {
   "cell_type": "code",
   "execution_count": 233,
   "metadata": {
    "pycharm": {
     "is_executing": false,
     "name": "#%%\n"
    }
   },
   "outputs": [],
   "source": [
    "rf_module = RandomForestClassifier()\n",
    "param_grid = dict(\n",
    "    n_estimators = [50, 100, 150],\n",
    "    criterion = ['gini', 'entropy'],\n",
    "    max_depth = [3,4,5,6,7],\n",
    ")\n",
    "start = time.time()\n",
    "#grid = GridSearchCV(rf_module, param_grid, cv=kflod, scoring='accuracy')\n",
    "#grid.fit(X2, y)\n",
    "#print('GridSearchCV process use %.2f seconds'%(time.time()-start))\n",
    "#print(grid.best_params_)"
   ]
  },
  {
   "cell_type": "code",
   "execution_count": 234,
   "metadata": {
    "pycharm": {
     "is_executing": false,
     "name": "#%%\n"
    }
   },
   "outputs": [
    {
     "name": "stdout",
     "text": [
      "Accuracy: 0.6821 (+/- 0.0099)\n"
     ],
     "output_type": "stream"
    }
   ],
   "source": [
    "kfoldTest(RandomForestClassifier(max_depth=8, n_estimators=200), X2, y)"
   ]
  },
  {
   "cell_type": "markdown",
   "metadata": {},
   "source": [
    "最後に、以下の best_model に構築したモデルを記入してください。この best_model を使用して精度評価を行います。"
   ]
  },
  {
   "cell_type": "code",
   "execution_count": 235,
   "metadata": {
    "pycharm": {
     "is_executing": false,
     "name": "#%%\n"
    }
   },
   "outputs": [
    {
     "name": "stdout",
     "text": [
      "acc: 0.6760\n",
      "Accuracy: 0.6841 (+/- 0.0107)\n"
     ],
     "output_type": "stream"
    }
   ],
   "source": [
    "voting_clr = VotingClassifier(estimators={\n",
    "    ('rf', RandomForestClassifier(max_depth=8, n_estimators=200)),\n",
    "    ('lr', LogisticRegression(C=1.2, penalty='l1', tol=0.001)),\n",
    "    ('xgb', XGBClassifier(nthread = 6, max_depth=6, subsample=0.8, n_estimators=150))\n",
    "    }, voting='soft')\n",
    "\n",
    "full_pipeline = make_pipeline(\n",
    "    preprocessing_ordinal,\n",
    "    voting_clr\n",
    ")\n",
    "\n",
    "accTest(full_pipeline, train_data[feature_attrs], train_data[target],test_data[feature_attrs],test_data[target])\n",
    "kfoldTest(voting_clr, X2, y)"
   ]
  },
  {
   "cell_type": "code",
   "execution_count": 236,
   "metadata": {
    "pycharm": {
     "is_executing": false
    }
   },
   "outputs": [],
   "source": [
    "raw_data = pd.read_csv('bank.csv')\n",
    "num_attrs = [\"age\"]\n",
    "cat_attrs = [\"job\", \"education\", \"default\", \"housing\", \"loan\", \"contact\"]\n",
    "feature_attrs = num_attrs + cat_attrs\n",
    "target = [\"marital\"]\n",
    "\n",
    "best_model = VotingClassifier(estimators={\n",
    "    ('rf', RandomForestClassifier(max_depth=8, n_estimators=200)),\n",
    "    ('lr', LogisticRegression(C=1.2, penalty='l1', tol=0.001)),\n",
    "    ('xgb', XGBClassifier(nthread = 6, max_depth=6, subsample=0.8, n_estimators=150))\n",
    "    }, voting='soft')\n",
    "\n",
    "X, y = raw_data[feature_attrs], raw_data[target]\n",
    "X = preprocessing_ordinal.fit_transform(X)\n",
    "best_model = best_model.fit(X, y)\n",
    "pickle.dump(best_model, open('best_model.pkl','wb'))"
   ]
  },
  {
   "cell_type": "code",
   "execution_count": 237,
   "outputs": [],
   "source": [
    "def preprocessing(raw):\n",
    "    data = raw[feature_attrs]\n",
    "    return preprocessing_ordinal.fit_transform(data), raw[target]"
   ],
   "metadata": {
    "collapsed": false,
    "pycharm": {
     "name": "#%%\n",
     "is_executing": false
    }
   }
  },
  {
   "cell_type": "markdown",
   "metadata": {},
   "source": [
    "### --------評価用--------\n",
    "ここから下は評価用となります。上の欄にモデルを記入した後は、配布資料に書いてある手順に沿ってファイルを提出してください。"
   ]
  },
  {
   "cell_type": "code",
   "execution_count": null,
   "outputs": [],
   "source": [
    "# df_test_data = pd.read_csv('bank_test.csv')\n",
    "# preprocessing()\n",
    "# X_test = X\n",
    "# y_test = y"
   ],
   "metadata": {
    "collapsed": false,
    "pycharm": {
     "name": "#%%\n"
    }
   }
  },
  {
   "cell_type": "code",
   "execution_count": null,
   "outputs": [],
   "source": [
    "# best2_model = pickle.load(open('best_model.pkl', 'rb'))\n",
    "# y_pred =best2_model.predict(X_test)\n",
    "# print('accuracy:{}'.format(accuracy_score(y_pred=y_pred, y_true=y_test)))"
   ],
   "metadata": {
    "collapsed": false,
    "pycharm": {
     "name": "#%%\n"
    }
   }
  },
  {
   "cell_type": "code",
   "execution_count": 244,
   "outputs": [
    {
     "name": "stdout",
     "text": [
      "accuracy:0.7175\n"
     ],
     "output_type": "stream"
    }
   ],
   "source": [
    "df_test_data = pd.read_csv('bank_test.csv')\n",
    "best2_model = pickle.load(open('best_model.pkl', 'rb'))\n",
    "X_test, y_test = preprocessing(df_test_data)\n",
    "y_pred = best2_model.predict(X_test)\n",
    "print(f'accuracy:{accuracy_score(y_pred=y_pred, y_true=y_test):.4f}')\n"
   ],
   "metadata": {
    "collapsed": false,
    "pycharm": {
     "name": "#%%\n",
     "is_executing": false
    }
   }
  }
 ],
 "metadata": {
  "kernelspec": {
   "display_name": "Python 3",
   "language": "python",
   "name": "python3"
  },
  "language_info": {
   "codemirror_mode": {
    "name": "ipython",
    "version": 3
   },
   "file_extension": ".py",
   "mimetype": "text/x-python",
   "name": "python",
   "nbconvert_exporter": "python",
   "pygments_lexer": "ipython3",
   "version": "3.7.4"
  },
  "pycharm": {
   "stem_cell": {
    "cell_type": "raw",
    "source": [],
    "metadata": {
     "collapsed": false
    }
   }
  }
 },
 "nbformat": 4,
 "nbformat_minor": 2
}